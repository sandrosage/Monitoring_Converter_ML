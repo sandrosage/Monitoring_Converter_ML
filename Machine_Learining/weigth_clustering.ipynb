{
 "cells": [
  {
   "cell_type": "code",
   "execution_count": 4,
   "metadata": {},
   "outputs": [],
   "source": [
    "import pandas as pd\n",
    "from keras.utils import to_categorical\n",
    "from keras.callbacks import ModelCheckpoint\n",
    "import matplotlib.pyplot as plt \n",
    "import matplotlib.colors as mcolors\n",
    "import numpy as np\n",
    "from keras.models import load_model\n",
    "import time \n",
    "from keras.optimizers import Adam\n",
    "from keras.losses import CategoricalCrossentropy, SparseCategoricalCrossentropy\n",
    "from sklearn.preprocessing import MinMaxScaler\n",
    "import tensorflow_model_optimization as tfmot\n",
    "\n",
    "NUM_OF_CLASSES = 3\n",
    "\n",
    "def prepare_train_test_dataset():\n",
    "    train_data = pd.read_csv(\"train_data.csv\")\n",
    "    train_labels = pd.read_csv(\"train_labels.csv\")\n",
    "    test_data = pd.read_csv(\"test_data.csv\")\n",
    "    test_labels = pd.read_csv(\"test_labels.csv\")\n",
    "    whole_data = pd.concat([train_data, test_data])\n",
    "    min_max_scaler = MinMaxScaler().fit(whole_data)\n",
    "    train_data = min_max_scaler.transform(train_data)\n",
    "    test_data = min_max_scaler.transform(test_data)\n",
    "    train_labels = train_labels.status.astype('category').cat.codes.to_numpy()\n",
    "    # train_labels = to_categorical(train_labels,NUM_OF_CLASSES)\n",
    "    test_labels = test_labels.status.astype('category').cat.codes.to_numpy()\n",
    "    # test_labels = to_categorical(test_labels,NUM_OF_CLASSES)\n",
    "    return (train_data, train_labels),(test_data, test_labels)\n",
    "\n",
    "def plot_history(history, epochs_size):\n",
    "    loss_list = []\n",
    "    accuracy_list = []\n",
    "    history_keys = history.history.keys()\n",
    "    for key in history_keys:\n",
    "        if \"loss\" in key:\n",
    "            loss_list.append(key)\n",
    "        \n",
    "        elif \"acc\" in key:\n",
    "            accuracy_list.append(key)\n",
    "        \n",
    "        elif \"accuracy\" in key:\n",
    "            accuracy_list.append(key)\n",
    "\n",
    "    # print(loss_list)\n",
    "    # print(accuracy_list)\n",
    "    \n",
    "    colors = list(mcolors.BASE_COLORS.keys())\n",
    "    epochs = range(1, (epochs_size+1))\n",
    "    ig, ax = plt.subplots(2, figsize=(20, 8))\n",
    "\n",
    "    for key,color in zip(loss_list, colors):\n",
    "        ax[0].plot(epochs ,history.history[key], str(color), label=str(key))\n",
    "\n",
    "    ax[0].set_xlabel(\"Epochs\")\n",
    "    ax[0].set_ylabel(\"%\")\n",
    "    ax[0].set_title(\"Loss of Model:\")\n",
    "    ax[0].legend()\n",
    "\n",
    "    for key,color in zip(accuracy_list, colors):\n",
    "        ax[1].plot(epochs, history.history[key], str(color), label=str(key))\n",
    "        \n",
    "    ax[1].set_xlabel(\"Epochs\")\n",
    "    ax[1].set_ylabel(\"%\")\n",
    "    ax[1].set_title(\"Accuracy of Model:\")\n",
    "    ax[1].legend()\n",
    "\n",
    "    # set the spacing between subplots\n",
    "    plt.subplots_adjust(left=0.1,\n",
    "                        bottom=0.1, \n",
    "                        right=0.9, \n",
    "                        top=0.9, \n",
    "                        wspace=0.4, \n",
    "                        hspace=0.8)\n",
    "\n",
    "    plt.show()"
   ]
  },
  {
   "cell_type": "code",
   "execution_count": 5,
   "metadata": {},
   "outputs": [],
   "source": [
    "(train_data, train_labels),(test_data, test_labels) = prepare_train_test_dataset()\n"
   ]
  },
  {
   "cell_type": "code",
   "execution_count": 19,
   "metadata": {},
   "outputs": [],
   "source": [
    "import os \n",
    "import zipfile\n",
    "import tempfile\n",
    "from keras.models import load_model, save_model\n",
    "import tensorflow_model_optimization as tfmot\n",
    "import tensorflow as tf\n",
    "cluster_weights = tfmot.clustering.keras.cluster_weights\n",
    "CentroidInitialization = tfmot.clustering.keras.CentroidInitialization\n",
    "\n",
    "def get_gzipped_model_size(file):\n",
    "  # Returns size of gzipped model, in bytes.\n",
    "  _, zipped_file = tempfile.mkstemp('.zip')\n",
    "  with zipfile.ZipFile(zipped_file, 'w', compression=zipfile.ZIP_DEFLATED) as f:\n",
    "    f.write(file)\n",
    "\n",
    "  return os.path.getsize(zipped_file)\n",
    "\n",
    "def create_dir(path):\n",
    "  if not os.path.exists(path):\n",
    "    os.mkdir(path)\n",
    "\n",
    "def weight_clustering(baseline_model_path, train_data, train_labels, test_data, test_labels, batch_size, epochs, store_path):\n",
    "\n",
    "  # create store path for models\n",
    "  create_dir(store_path)\n",
    "\n",
    "  # load baseline model from model path\n",
    "  new_model = load_model(baseline_model_path)\n",
    "\n",
    "  # evalute current baseline model accuracy\n",
    "  _, baseline_model_accuracy = new_model.evaluate(test_data, test_labels, verbose=0)\n",
    "  print('Original model test accuracy:', baseline_model_accuracy)\n",
    "\n",
    "  # store it again: there are some problems with model overwriting, so store it again\n",
    "  keras_file = os.path.join(store_path, \"baseline_model.h5\")\n",
    "  tf.keras.models.save_model(new_model, keras_file, include_optimizer=False)\n",
    "  print('Saved baseline model to:', keras_file)\n",
    "\n",
    "  clustering_params = {\n",
    "    'number_of_clusters': 16,\n",
    "    'cluster_centroids_init': CentroidInitialization.KMEANS_PLUS_PLUS\n",
    "  }\n",
    "\n",
    "  # Cluster a whole model\n",
    "  clustered_model = cluster_weights(new_model, **clustering_params)\n",
    "\n",
    "  # Use smaller learning rate for fine-tuning clustered model\n",
    "  opt = tf.keras.optimizers.Adam(learning_rate=1e-5)\n",
    "\n",
    "  clustered_model.compile(\n",
    "    loss=SparseCategoricalCrossentropy(from_logits=True),\n",
    "    optimizer=opt,\n",
    "    metrics=['accuracy'])\n",
    "\n",
    "  # clustered_model.summary()\n",
    "\n",
    "  # Fine-tune model\n",
    "  clustered_model_history = clustered_model.fit(\n",
    "    train_data,\n",
    "    train_labels,\n",
    "    batch_size=batch_size,\n",
    "    epochs=epochs,\n",
    "    validation_split=0.1)\n",
    "\n",
    "  plot_history(clustered_model_history, epochs)\n",
    "  \n",
    "  _, clustered_model_accuracy = clustered_model.evaluate(test_data, test_labels, verbose=0)\n",
    "\n",
    "  print('Baseline test accuracy:', baseline_model_accuracy)\n",
    "  print('Clustered test accuracy:', clustered_model_accuracy)\n",
    "\n",
    "  final_model = tfmot.clustering.keras.strip_clustering(clustered_model)\n",
    "\n",
    "  clustered_keras_file = os.path.join(store_path, \"clustered_model.h5\")\n",
    "  print('Saving clustered model to: ', clustered_keras_file)\n",
    "  tf.keras.models.save_model(final_model, clustered_keras_file, include_optimizer=False)\n",
    "\n",
    "  clustered_tflite_file = os.path.join(store_path, \"clustered_tflite_model.tflite\")\n",
    "  converter = tf.lite.TFLiteConverter.from_keras_model(final_model)\n",
    "  tflite_clustered_model = converter.convert()\n",
    "  with open(clustered_tflite_file, 'wb') as f:\n",
    "    f.write(tflite_clustered_model)\n",
    "  print('Saved clustered TFLite model to:', clustered_tflite_file)\n",
    "\n",
    "  print(\"Size of gzipped baseline Keras model: %.2f bytes\" % (get_gzipped_model_size(keras_file)))\n",
    "  print(\"Size of gzipped clustered Keras model: %.2f bytes\" % (get_gzipped_model_size(clustered_keras_file)))\n",
    "  print(\"Size of gzipped clustered TFlite model: %.2f bytes\" % (get_gzipped_model_size(clustered_tflite_file)))\n",
    "  return new_model, final_model"
   ]
  },
  {
   "cell_type": "code",
   "execution_count": 20,
   "metadata": {},
   "outputs": [
    {
     "name": "stdout",
     "output_type": "stream",
     "text": [
      "Original model test accuracy: 0.9947068095207214\n",
      "Saved baseline model to: Clustering\\baseline_model.h5\n",
      "Epoch 1/10\n",
      "542/542 [==============================] - 4s 6ms/step - loss: 0.2822 - accuracy: 0.9213 - val_loss: 0.1309 - val_accuracy: 0.9616\n",
      "Epoch 2/10\n",
      "542/542 [==============================] - 3s 6ms/step - loss: 0.1015 - accuracy: 0.9685 - val_loss: 0.0815 - val_accuracy: 0.9735\n",
      "Epoch 3/10\n",
      "542/542 [==============================] - 3s 6ms/step - loss: 0.0669 - accuracy: 0.9780 - val_loss: 0.0539 - val_accuracy: 0.9820\n",
      "Epoch 4/10\n",
      "542/542 [==============================] - 3s 6ms/step - loss: 0.0475 - accuracy: 0.9830 - val_loss: 0.0387 - val_accuracy: 0.9829\n",
      "Epoch 5/10\n",
      "542/542 [==============================] - 3s 6ms/step - loss: 0.0359 - accuracy: 0.9852 - val_loss: 0.0288 - val_accuracy: 0.9886\n",
      "Epoch 6/10\n",
      "542/542 [==============================] - 3s 6ms/step - loss: 0.0281 - accuracy: 0.9887 - val_loss: 0.0224 - val_accuracy: 0.9920\n",
      "Epoch 7/10\n",
      "542/542 [==============================] - 4s 7ms/step - loss: 0.0234 - accuracy: 0.9910 - val_loss: 0.0194 - val_accuracy: 0.9927\n",
      "Epoch 8/10\n",
      "542/542 [==============================] - 3s 6ms/step - loss: 0.0216 - accuracy: 0.9918 - val_loss: 0.0184 - val_accuracy: 0.9935\n",
      "Epoch 9/10\n",
      "542/542 [==============================] - 3s 6ms/step - loss: 0.0202 - accuracy: 0.9920 - val_loss: 0.0172 - val_accuracy: 0.9929\n",
      "Epoch 10/10\n",
      "542/542 [==============================] - 3s 6ms/step - loss: 0.0189 - accuracy: 0.9925 - val_loss: 0.0151 - val_accuracy: 0.9935\n"
     ]
    },
    {
     "data": {
      "image/png": "[encoded data removed]",
      "text/plain": [
       "<Figure size 1440x576 with 2 Axes>"
      ]
     },
     "metadata": {
      "needs_background": "light"
     },
     "output_type": "display_data"
    },
    {
     "name": "stdout",
     "output_type": "stream",
     "text": [
      "Baseline test accuracy: 0.9947068095207214\n",
      "Clustered test accuracy: 0.992786705493927\n",
      "Saving clustered model to:  Clustering\\clustered_model.h5\n",
      "WARNING:tensorflow:Compiled the loaded model, but the compiled metrics have yet to be built. `model.compile_metrics` will be empty until you train or evaluate the model.\n"
     ]
    },
    {
     "name": "stderr",
     "output_type": "stream",
     "text": [
      "WARNING:tensorflow:Compiled the loaded model, but the compiled metrics have yet to be built. `model.compile_metrics` will be empty until you train or evaluate the model.\n",
      "WARNING:absl:Function `_wrapped_model` contains input name(s) input-layer with unsupported characters which will be renamed to input_layer in the SavedModel.\n"
     ]
    },
    {
     "name": "stdout",
     "output_type": "stream",
     "text": [
      "INFO:tensorflow:Assets written to: C:\\Users\\sandr\\AppData\\Local\\Temp\\tmpfjsjkbnl\\assets\n"
     ]
    },
    {
     "name": "stderr",
     "output_type": "stream",
     "text": [
      "INFO:tensorflow:Assets written to: C:\\Users\\sandr\\AppData\\Local\\Temp\\tmpfjsjkbnl\\assets\n"
     ]
    },
    {
     "name": "stdout",
     "output_type": "stream",
     "text": [
      "Saved clustered TFLite model to: Clustering\\clustered_tflite_model.tflite\n",
      "Size of gzipped baseline Keras model: 289662.00 bytes\n",
      "Size of gzipped clustered Keras model: 53979.00 bytes\n",
      "Size of gzipped clustered TFlite model: 52990.00 bytes\n"
     ]
    }
   ],
   "source": [
    "keras_model, final_model = weight_clustering(\"fnn_model.h5\", train_data, train_labels, test_data, test_labels, 128, 10, \"Clustering\")"
   ]
  },
  {
   "attachments": {},
   "cell_type": "markdown",
   "metadata": {},
   "source": [
    "# Clustering & Post-training Quantization"
   ]
  },
  {
   "cell_type": "code",
   "execution_count": 23,
   "metadata": {},
   "outputs": [
    {
     "name": "stderr",
     "output_type": "stream",
     "text": [
      "WARNING:absl:Function `_wrapped_model` contains input name(s) input-layer with unsupported characters which will be renamed to input_layer in the SavedModel.\n"
     ]
    },
    {
     "name": "stdout",
     "output_type": "stream",
     "text": [
      "INFO:tensorflow:Assets written to: C:\\Users\\sandr\\AppData\\Local\\Temp\\tmpzc4sy5is\\assets\n"
     ]
    },
    {
     "name": "stderr",
     "output_type": "stream",
     "text": [
      "INFO:tensorflow:Assets written to: C:\\Users\\sandr\\AppData\\Local\\Temp\\tmpzc4sy5is\\assets\n"
     ]
    },
    {
     "name": "stdout",
     "output_type": "stream",
     "text": [
      "Saved quantized and clustered TFLite model to: Clustering\\quantized_clustered_tflite_model.tflite\n",
      "Size of gzipped clustered and quantized TFlite model: 40828.00 bytes\n"
     ]
    }
   ],
   "source": [
    "\n",
    "converter = tf.lite.TFLiteConverter.from_keras_model(final_model)\n",
    "converter.optimizations = [tf.lite.Optimize.DEFAULT]\n",
    "tflite_quant_model = converter.convert()\n",
    "\n",
    "quantized_and_clustered_tflite_file = os.path.join(\"Clustering\", \"quantized_clustered_tflite_model.tflite\")\n",
    "\n",
    "with open(quantized_and_clustered_tflite_file, 'wb') as f:\n",
    "  f.write(tflite_quant_model)\n",
    "\n",
    "print('Saved quantized and clustered TFLite model to:', quantized_and_clustered_tflite_file)\n",
    "# print(\"Size of gzipped baseline Keras model: %.2f bytes\" % (get_gzipped_model_size(keras_model)))\n",
    "print(\"Size of gzipped clustered and quantized TFlite model: %.2f bytes\" % (get_gzipped_model_size(quantized_and_clustered_tflite_file)))"
   ]
  },
  {
   "cell_type": "code",
   "execution_count": 24,
   "metadata": {},
   "outputs": [],
   "source": [
    "import numpy as np\n",
    "\n",
    "def evaluate_model(interpreter, test_data, test_labels):\n",
    "  input_index = interpreter.get_input_details()[0][\"index\"]\n",
    "  output_index = interpreter.get_output_details()[0][\"index\"]\n",
    "\n",
    "  # test_labels = np.argmax(test_labels, axis=1)\n",
    "\n",
    "  # Run predictions on every image in the \"test\" dataset.\n",
    "  prediction_digits = []\n",
    "  for i, test_sample in enumerate(test_data):\n",
    "    if i % 1000 == 0:\n",
    "      print('Evaluated on {n} results so far.'.format(n=i))\n",
    "    # Pre-processing: add batch dimension and convert to float32 to match with\n",
    "    # the model's input data format.\n",
    "    test_sample = np.expand_dims(test_sample, axis=0).astype(np.float32)\n",
    "    interpreter.set_tensor(input_index, test_sample)\n",
    "\n",
    "    # Run inference.\n",
    "    interpreter.invoke()\n",
    "\n",
    "    # Post-processing: remove batch dimension and find the digit with highest\n",
    "    # probability.\n",
    "    output = interpreter.tensor(output_index)\n",
    "    digit = np.argmax(output()[0])\n",
    "    prediction_digits.append(digit)\n",
    "\n",
    "  print('\\n')\n",
    "  # Compare prediction results with ground truth labels to calculate accuracy.\n",
    "  prediction_digits = np.array(prediction_digits)\n",
    "  accuracy = (prediction_digits == test_labels).mean()\n",
    "  return accuracy"
   ]
  },
  {
   "cell_type": "code",
   "execution_count": 25,
   "metadata": {},
   "outputs": [
    {
     "name": "stdout",
     "output_type": "stream",
     "text": [
      "Evaluated on 0 results so far.\n",
      "Evaluated on 1000 results so far.\n",
      "Evaluated on 2000 results so far.\n",
      "Evaluated on 3000 results so far.\n",
      "Evaluated on 4000 results so far.\n",
      "Evaluated on 5000 results so far.\n",
      "Evaluated on 6000 results so far.\n",
      "Evaluated on 7000 results so far.\n",
      "Evaluated on 8000 results so far.\n",
      "Evaluated on 9000 results so far.\n",
      "Evaluated on 10000 results so far.\n",
      "Evaluated on 11000 results so far.\n",
      "Evaluated on 12000 results so far.\n",
      "Evaluated on 13000 results so far.\n",
      "Evaluated on 14000 results so far.\n",
      "Evaluated on 15000 results so far.\n",
      "Evaluated on 16000 results so far.\n",
      "Evaluated on 17000 results so far.\n",
      "Evaluated on 18000 results so far.\n",
      "Evaluated on 19000 results so far.\n",
      "\n",
      "\n",
      "Clustered and quantized TFLite test_accuracy: 0.9921120913336793\n"
     ]
    }
   ],
   "source": [
    "interpreter = tf.lite.Interpreter(model_content=tflite_quant_model)\n",
    "interpreter.allocate_tensors()\n",
    "\n",
    "test_accuracy = evaluate_model(interpreter, test_data, test_labels)\n",
    "\n",
    "print('Clustered and quantized TFLite test_accuracy:', test_accuracy)\n"
   ]
  }
 ],
 "metadata": {
  "kernelspec": {
   "display_name": "venv",
   "language": "python",
   "name": "python3"
  },
  "language_info": {
   "codemirror_mode": {
    "name": "ipython",
    "version": 3
   },
   "file_extension": ".py",
   "mimetype": "text/x-python",
   "name": "python",
   "nbconvert_exporter": "python",
   "pygments_lexer": "ipython3",
   "version": "3.10.9"
  },
  "orig_nbformat": 4,
  "vscode": {
   "interpreter": {
    "hash": "ca1c6f47e78944e5b11f7d3b44b6206ab4f171b310471b46fba50959eb66c8df"
   }
  }
 },
 "nbformat": 4,
 "nbformat_minor": 2
}
