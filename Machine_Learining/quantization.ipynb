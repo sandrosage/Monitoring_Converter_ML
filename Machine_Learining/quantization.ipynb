{
 "cells": [
  {
   "cell_type": "code",
   "execution_count": 1,
   "metadata": {},
   "outputs": [],
   "source": [
    "import pandas as pd\n",
    "from keras.utils import to_categorical\n",
    "from keras.callbacks import ModelCheckpoint\n",
    "import matplotlib.pyplot as plt \n",
    "import matplotlib.colors as mcolors\n",
    "import numpy as np\n",
    "from keras.models import load_model\n",
    "import time \n",
    "from keras.optimizers import Adam\n",
    "from keras.losses import CategoricalCrossentropy, SparseCategoricalCrossentropy\n",
    "from sklearn.preprocessing import MinMaxScaler\n",
    "import tensorflow_model_optimization as tfmot\n",
    "\n",
    "NUM_OF_CLASSES = 3\n",
    "\n",
    "def prepare_train_test_dataset():\n",
    "    train_data = pd.read_csv(\"train_data.csv\")\n",
    "    train_labels = pd.read_csv(\"train_labels.csv\")\n",
    "    test_data = pd.read_csv(\"test_data.csv\")\n",
    "    test_labels = pd.read_csv(\"test_labels.csv\")\n",
    "    whole_data = pd.concat([train_data, test_data])\n",
    "    min_max_scaler = MinMaxScaler().fit(whole_data)\n",
    "    train_data = min_max_scaler.transform(train_data)\n",
    "    test_data = min_max_scaler.transform(test_data)\n",
    "    train_labels = train_labels.status.astype('category').cat.codes.to_numpy()\n",
    "    # train_labels = to_categorical(train_labels,NUM_OF_CLASSES)\n",
    "    test_labels = test_labels.status.astype('category').cat.codes.to_numpy()\n",
    "    # test_labels = to_categorical(test_labels,NUM_OF_CLASSES)\n",
    "    return (train_data, train_labels),(test_data, test_labels)\n",
    "\n",
    "def plot_history(history, epochs_size):\n",
    "    loss_list = []\n",
    "    accuracy_list = []\n",
    "    history_keys = history.history.keys()\n",
    "    for key in history_keys:\n",
    "        if \"loss\" in key:\n",
    "            loss_list.append(key)\n",
    "        \n",
    "        elif \"acc\" in key:\n",
    "            accuracy_list.append(key)\n",
    "        \n",
    "        elif \"accuracy\" in key:\n",
    "            accuracy_list.append(key)\n",
    "\n",
    "    # print(loss_list)\n",
    "    # print(accuracy_list)\n",
    "    \n",
    "    colors = list(mcolors.BASE_COLORS.keys())\n",
    "    epochs = range(1, (epochs_size+1))\n",
    "    ig, ax = plt.subplots(2, figsize=(20, 8))\n",
    "\n",
    "    for key,color in zip(loss_list, colors):\n",
    "        ax[0].plot(epochs ,history.history[key], str(color), label=str(key))\n",
    "\n",
    "    ax[0].set_xlabel(\"Epochs\")\n",
    "    ax[0].set_ylabel(\"%\")\n",
    "    ax[0].set_title(\"Loss of Model:\")\n",
    "    ax[0].legend()\n",
    "\n",
    "    for key,color in zip(accuracy_list, colors):\n",
    "        ax[1].plot(epochs, history.history[key], str(color), label=str(key))\n",
    "        \n",
    "    ax[1].set_xlabel(\"Epochs\")\n",
    "    ax[1].set_ylabel(\"%\")\n",
    "    ax[1].set_title(\"Accuracy of Model:\")\n",
    "    ax[1].legend()\n",
    "\n",
    "    # set the spacing between subplots\n",
    "    plt.subplots_adjust(left=0.1,\n",
    "                        bottom=0.1, \n",
    "                        right=0.9, \n",
    "                        top=0.9, \n",
    "                        wspace=0.4, \n",
    "                        hspace=0.8)\n",
    "\n",
    "    plt.show()"
   ]
  },
  {
   "cell_type": "code",
   "execution_count": 2,
   "metadata": {},
   "outputs": [],
   "source": [
    "(train_data, train_labels),(test_data, test_labels) = prepare_train_test_dataset()"
   ]
  },
  {
   "cell_type": "code",
   "execution_count": 26,
   "metadata": {},
   "outputs": [],
   "source": [
    "import os \n",
    "import zipfile\n",
    "import tempfile\n",
    "import tensorflow as tf\n",
    "from keras.models import load_model, save_model\n",
    "import tensorflow_model_optimization as tfmot\n",
    "quantize_model = tfmot.quantization.keras.quantize_model\n",
    "\n",
    "\n",
    "def get_gzipped_model_size(file):\n",
    "  # Returns size of gzipped model, in bytes.\n",
    "  _, zipped_file = tempfile.mkstemp('.zip')\n",
    "  with zipfile.ZipFile(zipped_file, 'w', compression=zipfile.ZIP_DEFLATED) as f:\n",
    "    f.write(file)\n",
    "\n",
    "  return os.path.getsize(zipped_file)\n",
    "\n",
    "def create_dir(path):\n",
    "  if not os.path.exists(path):\n",
    "    os.mkdir(path)\n",
    "\n",
    "def quantization(baseline_model_path, train_data, train_labels, test_data, test_labels, batch_size, epochs, store_path):\n",
    "\n",
    "  # create store path for models\n",
    "  create_dir(store_path)\n",
    "\n",
    "  # load baseline model from model path\n",
    "  new_model = load_model(baseline_model_path)\n",
    "\n",
    "  # evalute current baseline model accuracy\n",
    "  _, baseline_model_accuracy = new_model.evaluate(test_data, test_labels, verbose=0)\n",
    "  print('Original model test accuracy:', baseline_model_accuracy)\n",
    "\n",
    "  # store it again: there are some problems with model overwriting, so store it again\n",
    "  keras_file = os.path.join(store_path, \"baseline_model.h5\")\n",
    "  tf.keras.models.save_model(new_model, keras_file, include_optimizer=False)\n",
    "  print('Saved baseline model to:', keras_file)\n",
    "\n",
    "  # q_aware stands for for quantization aware.\n",
    "  q_aware_model = quantize_model(new_model)\n",
    "\n",
    "  # `quantize_model` requires a recompile.\n",
    "  q_aware_model.compile(optimizer='adam',\n",
    "                loss=SparseCategoricalCrossentropy(from_logits=True),\n",
    "                metrics=['accuracy'])\n",
    "\n",
    "  # q_aware_model.summary()\n",
    "\n",
    "  train_images_subset = train_data[0:10000] # out of 60000\n",
    "  train_labels_subset = train_labels[0:10000]\n",
    "\n",
    "  quanzized_model_history = q_aware_model.fit(train_images_subset, train_labels_subset,\n",
    "                    batch_size=batch_size, epochs=epochs, validation_split=0.1)\n",
    "\n",
    "  plot_history(quanzized_model_history,epochs)\n",
    "  \n",
    "  baseline_model_accuracy = new_model.evaluate(test_data, test_labels, verbose=0)[1]\n",
    "\n",
    "  q_aware_model_accuracy = q_aware_model.evaluate(test_data, test_labels, verbose=0)[1]\n",
    "\n",
    "  print('Baseline test accuracy:', baseline_model_accuracy)\n",
    "  print('Quant test accuracy:', q_aware_model_accuracy)\n",
    "\n",
    "  quantized_keras_file = os.path.join(store_path,\"quantized_model.h5\")\n",
    "  save_model(q_aware_model, quantized_keras_file, include_optimizer=False)\n",
    "  print('Saved pruned model to:', quantized_keras_file)\n",
    "\n",
    "  converter = tf.lite.TFLiteConverter.from_keras_model(q_aware_model)\n",
    "  converter.optimizations = [tf.lite.Optimize.DEFAULT]\n",
    "\n",
    "  quantized_tflite_model = converter.convert()\n",
    "\n",
    "  quantized_tflite_file = os.path.join(store_path, \"quantized_tflite_model.tflite\")\n",
    "\n",
    "  with open(quantized_tflite_file, 'wb') as f:\n",
    "    f.write(quantized_tflite_model)\n",
    "\n",
    "  print('Saved pruned TFLite model to:', quantized_tflite_file)\n",
    "\n",
    "  print(\"Size of gzipped baseline Keras model: %.2f bytes\" % (get_gzipped_model_size(keras_file)))\n",
    "  print(\"Size of gzipped quantized Keras model: %.2f bytes\" % (get_gzipped_model_size(quantized_keras_file)))\n",
    "  print(\"Size of gzipped quantized TFlite model: %.2f bytes\" % (get_gzipped_model_size(quantized_tflite_file)))\n",
    "\n",
    "\n",
    "  return quantized_tflite_model, q_aware_model_accuracy"
   ]
  },
  {
   "cell_type": "code",
   "execution_count": 27,
   "metadata": {},
   "outputs": [],
   "source": [
    "import numpy as np\n",
    "\n",
    "def evaluate_model(interpreter, test_data, test_labels):\n",
    "  input_index = interpreter.get_input_details()[0][\"index\"]\n",
    "  output_index = interpreter.get_output_details()[0][\"index\"]\n",
    "\n",
    "  # test_labels = np.argmax(test_labels, axis=1)\n",
    "\n",
    "  # Run predictions on every image in the \"test\" dataset.\n",
    "  prediction_digits = []\n",
    "  for i, test_sample in enumerate(test_data):\n",
    "    if i % 1000 == 0:\n",
    "      print('Evaluated on {n} results so far.'.format(n=i))\n",
    "    # Pre-processing: add batch dimension and convert to float32 to match with\n",
    "    # the model's input data format.\n",
    "    test_sample = np.expand_dims(test_sample, axis=0).astype(np.float32)\n",
    "    interpreter.set_tensor(input_index, test_sample)\n",
    "\n",
    "    # Run inference.\n",
    "    interpreter.invoke()\n",
    "\n",
    "    # Post-processing: remove batch dimension and find the digit with highest\n",
    "    # probability.\n",
    "    output = interpreter.tensor(output_index)\n",
    "    digit = np.argmax(output()[0])\n",
    "    prediction_digits.append(digit)\n",
    "\n",
    "  print('\\n')\n",
    "  # Compare prediction results with ground truth labels to calculate accuracy.\n",
    "  prediction_digits = np.array(prediction_digits)\n",
    "  accuracy = (prediction_digits == test_labels).mean()\n",
    "  return accuracy"
   ]
  },
  {
   "cell_type": "code",
   "execution_count": 29,
   "metadata": {},
   "outputs": [
    {
     "name": "stdout",
     "output_type": "stream",
     "text": [
      "Original model test accuracy: 0.9947068095207214\n",
      "Saved baseline model to: Quantization\\baseline_model.h5\n",
      "Epoch 1/10\n",
      "71/71 [==============================] - 1s 7ms/step - loss: 0.1459 - accuracy: 0.9600 - val_loss: 0.0817 - val_accuracy: 0.9750\n",
      "Epoch 2/10\n",
      "71/71 [==============================] - 0s 4ms/step - loss: 0.0897 - accuracy: 0.9703 - val_loss: 0.0677 - val_accuracy: 0.9760\n",
      "Epoch 3/10\n",
      "71/71 [==============================] - 0s 5ms/step - loss: 0.0680 - accuracy: 0.9759 - val_loss: 0.0430 - val_accuracy: 0.9790\n",
      "Epoch 4/10\n",
      "71/71 [==============================] - 0s 4ms/step - loss: 0.0574 - accuracy: 0.9790 - val_loss: 0.0397 - val_accuracy: 0.9820\n",
      "Epoch 5/10\n",
      "71/71 [==============================] - 0s 5ms/step - loss: 0.0519 - accuracy: 0.9820 - val_loss: 0.0444 - val_accuracy: 0.9880\n",
      "Epoch 6/10\n",
      "71/71 [==============================] - 0s 5ms/step - loss: 0.0447 - accuracy: 0.9837 - val_loss: 0.0443 - val_accuracy: 0.9850\n",
      "Epoch 7/10\n",
      "71/71 [==============================] - 0s 5ms/step - loss: 0.0525 - accuracy: 0.9822 - val_loss: 0.0300 - val_accuracy: 0.9880\n",
      "Epoch 8/10\n",
      "71/71 [==============================] - 0s 5ms/step - loss: 0.0422 - accuracy: 0.9839 - val_loss: 0.0558 - val_accuracy: 0.9740\n",
      "Epoch 9/10\n",
      "71/71 [==============================] - 0s 5ms/step - loss: 0.0582 - accuracy: 0.9797 - val_loss: 0.0377 - val_accuracy: 0.9880\n",
      "Epoch 10/10\n",
      "71/71 [==============================] - 0s 5ms/step - loss: 0.0401 - accuracy: 0.9869 - val_loss: 0.0297 - val_accuracy: 0.9900\n"
     ]
    },
    {
     "data": {
      "image/png": "[encoded data removed]",
      "text/plain": [
       "<Figure size 1440x576 with 2 Axes>"
      ]
     },
     "metadata": {
      "needs_background": "light"
     },
     "output_type": "display_data"
    },
    {
     "name": "stdout",
     "output_type": "stream",
     "text": [
      "Baseline test accuracy: 0.9947068095207214\n",
      "Quant test accuracy: 0.9901919960975647\n",
      "Saved pruned model to: Quantization\\quantized_model.h5\n"
     ]
    },
    {
     "name": "stderr",
     "output_type": "stream",
     "text": [
      "WARNING:absl:Function `_wrapped_model` contains input name(s) input-layer with unsupported characters which will be renamed to input_layer in the SavedModel.\n",
      "WARNING:absl:Found untraced functions such as dense_10_layer_call_fn, dense_10_layer_call_and_return_conditional_losses, dense_11_layer_call_fn, dense_11_layer_call_and_return_conditional_losses, dense_12_layer_call_fn while saving (showing 5 of 12). These functions will not be directly callable after loading.\n"
     ]
    },
    {
     "name": "stdout",
     "output_type": "stream",
     "text": [
      "INFO:tensorflow:Assets written to: C:\\Users\\sandr\\AppData\\Local\\Temp\\tmp0yg5smvd\\assets\n"
     ]
    },
    {
     "name": "stderr",
     "output_type": "stream",
     "text": [
      "INFO:tensorflow:Assets written to: C:\\Users\\sandr\\AppData\\Local\\Temp\\tmp0yg5smvd\\assets\n",
      "c:\\Users\\sandr\\source\\repos\\Monitoring_Converter_ML\\venv\\lib\\site-packages\\tensorflow\\lite\\python\\convert.py:766: UserWarning: Statistics for quantized inputs were expected, but not specified; continuing anyway.\n",
      "  warnings.warn(\"Statistics for quantized inputs were expected, but not \"\n"
     ]
    },
    {
     "name": "stdout",
     "output_type": "stream",
     "text": [
      "Saved pruned TFLite model to: Quantization\\quantized_tflite_model.tflite\n",
      "Size of gzipped baseline Keras model: 289666.00 bytes\n",
      "Size of gzipped quantized Keras model: 291943.00 bytes\n",
      "Size of gzipped quantized TFlite model: 55381.00 bytes\n"
     ]
    }
   ],
   "source": [
    "quantized_tflite_model, q_aware_model_accuracy = quantization(\"fnn_model.h5\", train_data, train_labels, test_data, test_labels, 128, 10, \"Quantization\")"
   ]
  },
  {
   "cell_type": "code",
   "execution_count": 30,
   "metadata": {},
   "outputs": [
    {
     "name": "stdout",
     "output_type": "stream",
     "text": [
      "Evaluated on 0 results so far.\n",
      "Evaluated on 1000 results so far.\n",
      "Evaluated on 2000 results so far.\n",
      "Evaluated on 3000 results so far.\n",
      "Evaluated on 4000 results so far.\n",
      "Evaluated on 5000 results so far.\n",
      "Evaluated on 6000 results so far.\n",
      "Evaluated on 7000 results so far.\n",
      "Evaluated on 8000 results so far.\n",
      "Evaluated on 9000 results so far.\n",
      "Evaluated on 10000 results so far.\n",
      "Evaluated on 11000 results so far.\n",
      "Evaluated on 12000 results so far.\n",
      "Evaluated on 13000 results so far.\n",
      "Evaluated on 14000 results so far.\n",
      "Evaluated on 15000 results so far.\n",
      "Evaluated on 16000 results so far.\n",
      "Evaluated on 17000 results so far.\n",
      "Evaluated on 18000 results so far.\n",
      "Evaluated on 19000 results so far.\n",
      "\n",
      "\n",
      "Quant TFLite test_accuracy: 0.9901920083030618\n",
      "Quant TF test accuracy: 0.9901919960975647\n"
     ]
    }
   ],
   "source": [
    "interpreter = tf.lite.Interpreter(model_content=quantized_tflite_model)\n",
    "interpreter.allocate_tensors()\n",
    "\n",
    "test_accuracy = evaluate_model(interpreter, test_data, test_labels)\n",
    "\n",
    "print('Quant TFLite test_accuracy:', test_accuracy)\n",
    "print('Quant TF test accuracy:', q_aware_model_accuracy)"
   ]
  }
 ],
 "metadata": {
  "kernelspec": {
   "display_name": "tf-39-gpu",
   "language": "python",
   "name": "python3"
  },
  "language_info": {
   "codemirror_mode": {
    "name": "ipython",
    "version": 3
   },
   "file_extension": ".py",
   "mimetype": "text/x-python",
   "name": "python",
   "nbconvert_exporter": "python",
   "pygments_lexer": "ipython3",
   "version": "3.9.12"
  },
  "orig_nbformat": 4,
  "vscode": {
   "interpreter": {
    "hash": "df0ea24a4e5f41daee394bf1f4bad9bd6dea8004d439d012a0bd112a85707520"
   }
  }
 },
 "nbformat": 4,
 "nbformat_minor": 2
}
