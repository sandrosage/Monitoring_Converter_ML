{
 "cells": [
  {
   "cell_type": "markdown",
   "metadata": {},
   "source": [
    "# Deep Learning Tensorflow/Keras approach \n",
    "    -> Ressources: \n",
    "    https://towardsdatascience.com/building-a-multi-output-convolutional-neural-network-with-keras-ed24c7bc1178\n",
    "    https://keras.io/guides/functional_api/\n",
    "    (Multi-Output-Network)"
   ]
  },
  {
   "cell_type": "code",
   "execution_count": 14,
   "metadata": {},
   "outputs": [
    {
     "data": {
      "text/html": [
       "<div>\n",
       "<style scoped>\n",
       "    .dataframe tbody tr th:only-of-type {\n",
       "        vertical-align: middle;\n",
       "    }\n",
       "\n",
       "    .dataframe tbody tr th {\n",
       "        vertical-align: top;\n",
       "    }\n",
       "\n",
       "    .dataframe thead th {\n",
       "        text-align: right;\n",
       "    }\n",
       "</style>\n",
       "<table border=\"1\" class=\"dataframe\">\n",
       "  <thead>\n",
       "    <tr style=\"text-align: right;\">\n",
       "      <th></th>\n",
       "      <th>T_min</th>\n",
       "      <th>T_max</th>\n",
       "      <th>T_delta</th>\n",
       "      <th>Pow_mean</th>\n",
       "      <th>status</th>\n",
       "    </tr>\n",
       "  </thead>\n",
       "  <tbody>\n",
       "    <tr>\n",
       "      <th>0</th>\n",
       "      <td>24.559295</td>\n",
       "      <td>27.063301</td>\n",
       "      <td>2.504006</td>\n",
       "      <td>0.0</td>\n",
       "      <td>drossel</td>\n",
       "    </tr>\n",
       "    <tr>\n",
       "      <th>1</th>\n",
       "      <td>24.559295</td>\n",
       "      <td>27.063301</td>\n",
       "      <td>2.504006</td>\n",
       "      <td>0.0</td>\n",
       "      <td>drossel</td>\n",
       "    </tr>\n",
       "    <tr>\n",
       "      <th>2</th>\n",
       "      <td>24.559295</td>\n",
       "      <td>27.063301</td>\n",
       "      <td>2.504006</td>\n",
       "      <td>0.0</td>\n",
       "      <td>drossel</td>\n",
       "    </tr>\n",
       "    <tr>\n",
       "      <th>3</th>\n",
       "      <td>24.559295</td>\n",
       "      <td>27.063301</td>\n",
       "      <td>2.504006</td>\n",
       "      <td>0.0</td>\n",
       "      <td>drossel</td>\n",
       "    </tr>\n",
       "    <tr>\n",
       "      <th>4</th>\n",
       "      <td>24.559295</td>\n",
       "      <td>27.063301</td>\n",
       "      <td>2.504006</td>\n",
       "      <td>0.0</td>\n",
       "      <td>drossel</td>\n",
       "    </tr>\n",
       "  </tbody>\n",
       "</table>\n",
       "</div>"
      ],
      "text/plain": [
       "       T_min      T_max   T_delta  Pow_mean   status\n",
       "0  24.559295  27.063301  2.504006       0.0  drossel\n",
       "1  24.559295  27.063301  2.504006       0.0  drossel\n",
       "2  24.559295  27.063301  2.504006       0.0  drossel\n",
       "3  24.559295  27.063301  2.504006       0.0  drossel\n",
       "4  24.559295  27.063301  2.504006       0.0  drossel"
      ]
     },
     "execution_count": 14,
     "metadata": {},
     "output_type": "execute_result"
    }
   ],
   "source": [
    "import pandas as pd\n",
    "\n",
    "df = pd.read_csv(\"../static_merged_data.csv\")\n",
    "df.head()\n"
   ]
  },
  {
   "cell_type": "code",
   "execution_count": 121,
   "metadata": {},
   "outputs": [
    {
     "data": {
      "text/html": [
       "<div>\n",
       "<style scoped>\n",
       "    .dataframe tbody tr th:only-of-type {\n",
       "        vertical-align: middle;\n",
       "    }\n",
       "\n",
       "    .dataframe tbody tr th {\n",
       "        vertical-align: top;\n",
       "    }\n",
       "\n",
       "    .dataframe thead th {\n",
       "        text-align: right;\n",
       "    }\n",
       "</style>\n",
       "<table border=\"1\" class=\"dataframe\">\n",
       "  <thead>\n",
       "    <tr style=\"text-align: right;\">\n",
       "      <th></th>\n",
       "      <th>status</th>\n",
       "    </tr>\n",
       "  </thead>\n",
       "  <tbody>\n",
       "    <tr>\n",
       "      <th>18602</th>\n",
       "      <td>drossel</td>\n",
       "    </tr>\n",
       "    <tr>\n",
       "      <th>53579</th>\n",
       "      <td>mosfets</td>\n",
       "    </tr>\n",
       "    <tr>\n",
       "      <th>6195</th>\n",
       "      <td>drossel</td>\n",
       "    </tr>\n",
       "    <tr>\n",
       "      <th>74907</th>\n",
       "      <td>normal</td>\n",
       "    </tr>\n",
       "    <tr>\n",
       "      <th>85585</th>\n",
       "      <td>normal</td>\n",
       "    </tr>\n",
       "  </tbody>\n",
       "</table>\n",
       "</div>"
      ],
      "text/plain": [
       "        status\n",
       "18602  drossel\n",
       "53579  mosfets\n",
       "6195   drossel\n",
       "74907   normal\n",
       "85585   normal"
      ]
     },
     "execution_count": 121,
     "metadata": {},
     "output_type": "execute_result"
    }
   ],
   "source": [
    "from sklearn.model_selection import train_test_split\n",
    "from keras.utils import to_categorical\n",
    "# devide it into labels and features\n",
    "Y = df[[\"status\"]]\n",
    "X = df[[\"T_min\",\"T_max\",\"T_delta\",\"Pow_mean\"]]\n",
    "\n",
    "# split the dataset into train- and testset\n",
    "X_train, X_test, y_train, y_test = train_test_split(X, Y, shuffle=True, test_size=.2)\n",
    "\n",
    "#y_categ = to_categorical(Y,3) #does not work: only integers\n",
    "y_train.head()"
   ]
  },
  {
   "cell_type": "code",
   "execution_count": 103,
   "metadata": {},
   "outputs": [
    {
     "data": {
      "text/plain": [
       "(77079, 3)"
      ]
     },
     "execution_count": 103,
     "metadata": {},
     "output_type": "execute_result"
    }
   ],
   "source": [
    "from keras.utils import to_categorical\n",
    "pd_series_nums = y_train.status.astype('category').cat.codes.to_numpy()\n",
    "labels = to_categorical(pd_series_nums, 3)\n",
    "labels.shape"
   ]
  },
  {
   "cell_type": "code",
   "execution_count": 104,
   "metadata": {},
   "outputs": [
    {
     "data": {
      "text/plain": [
       "(77079, 4)"
      ]
     },
     "execution_count": 104,
     "metadata": {},
     "output_type": "execute_result"
    }
   ],
   "source": [
    "X_numpy = X_train.to_numpy()\n",
    "#X_numpy.resize(96349,1,4)\n",
    "X_numpy.shape"
   ]
  },
  {
   "cell_type": "code",
   "execution_count": 122,
   "metadata": {},
   "outputs": [],
   "source": [
    "def prepare_train_test_set(X, Y, num_classes):\n",
    "    X_train, X_test, y_train, y_test = train_test_split(X, Y, shuffle=True, test_size=.2)\n",
    "    train_labels = y_train.status.astype('category').cat.codes.to_numpy()\n",
    "    test_labels = y_test.status.astype('category').cat.codes.to_numpy()\n",
    "    train_labels = to_categorical(train_labels, num_classes)\n",
    "    test_labels = to_categorical(test_labels, num_classes)\n",
    "    X_train.to_numpy()\n",
    "    X_test.to_numpy()\n",
    "    return (X_train, X_test), (train_labels, test_labels)"
   ]
  },
  {
   "cell_type": "code",
   "execution_count": 123,
   "metadata": {},
   "outputs": [],
   "source": [
    "(X_train, X_test), (train_labels, test_labels) = prepare_train_test_set(X,Y,3)"
   ]
  },
  {
   "cell_type": "code",
   "execution_count": 134,
   "metadata": {},
   "outputs": [
    {
     "name": "stdout",
     "output_type": "stream",
     "text": [
      "Model: \"sequential_24\"\n",
      "_________________________________________________________________\n",
      " Layer (type)                Output Shape              Param #   \n",
      "=================================================================\n",
      " dense_77 (Dense)            (None, 64)                320       \n",
      "                                                                 \n",
      " dense_78 (Dense)            (None, 64)                4160      \n",
      "                                                                 \n",
      " dense_79 (Dense)            (None, 64)                4160      \n",
      "                                                                 \n",
      " dense_80 (Dense)            (None, 16)                1040      \n",
      "                                                                 \n",
      " output_layer (Dense)        (None, 3)                 51        \n",
      "                                                                 \n",
      "=================================================================\n",
      "Total params: 9,731\n",
      "Trainable params: 9,731\n",
      "Non-trainable params: 0\n",
      "_________________________________________________________________\n"
     ]
    }
   ],
   "source": [
    "from keras.models import Model\n",
    "from keras.layers import BatchNormalization\n",
    "from keras.layers.convolutional import Conv2D\n",
    "from keras.layers.convolutional import MaxPooling2D\n",
    "from keras.layers.core import Activation\n",
    "from keras.layers.core import Dropout\n",
    "from keras.layers.core import Lambda\n",
    "from keras.layers.core import Dense\n",
    "from keras.layers import Flatten\n",
    "from keras.layers import Input\n",
    "import tensorflow as tf\n",
    "from  keras import Sequential\n",
    "\n",
    "model = Sequential([\n",
    "    Input(shape=(4,), name=\"input-layer\"),\n",
    "    Dense(64, activation=\"relu\"),\n",
    "    Dense(64, activation=\"relu\"),\n",
    "    Dense(64, activation=\"relu\"),\n",
    "    Dense(16, activation=\"relu\"),\n",
    "    Dense(3, activation=\"softmax\", name=\"output_layer\")\n",
    "])\n",
    "\n",
    "model.summary()"
   ]
  },
  {
   "cell_type": "code",
   "execution_count": 135,
   "metadata": {},
   "outputs": [
    {
     "name": "stdout",
     "output_type": "stream",
     "text": [
      "Epoch 1/50\n",
      "271/271 [==============================] - 2s 3ms/step - loss: 1.0154 - acc: 0.4699 - val_loss: 0.9414 - val_acc: 0.5448\n",
      "Epoch 2/50\n",
      "271/271 [==============================] - 1s 2ms/step - loss: 0.8687 - acc: 0.6073 - val_loss: 0.7885 - val_acc: 0.7156\n",
      "Epoch 3/50\n",
      "271/271 [==============================] - 1s 2ms/step - loss: 0.7043 - acc: 0.7181 - val_loss: 0.5962 - val_acc: 0.7966\n",
      "Epoch 4/50\n",
      "271/271 [==============================] - 1s 2ms/step - loss: 0.5554 - acc: 0.7933 - val_loss: 0.4579 - val_acc: 0.8661\n",
      "Epoch 5/50\n",
      "271/271 [==============================] - 1s 2ms/step - loss: 0.4352 - acc: 0.8465 - val_loss: 0.6018 - val_acc: 0.6925\n",
      "Epoch 6/50\n",
      "271/271 [==============================] - 1s 2ms/step - loss: 0.3786 - acc: 0.8560 - val_loss: 0.3702 - val_acc: 0.8365\n",
      "Epoch 7/50\n",
      "271/271 [==============================] - 1s 2ms/step - loss: 0.3068 - acc: 0.8850 - val_loss: 0.4973 - val_acc: 0.7305\n",
      "Epoch 8/50\n",
      "271/271 [==============================] - 1s 2ms/step - loss: 0.2760 - acc: 0.8920 - val_loss: 0.2214 - val_acc: 0.9219\n",
      "Epoch 9/50\n",
      "271/271 [==============================] - 1s 3ms/step - loss: 0.2493 - acc: 0.9048 - val_loss: 0.2458 - val_acc: 0.9008\n",
      "Epoch 10/50\n",
      "271/271 [==============================] - 1s 2ms/step - loss: 0.2285 - acc: 0.9116 - val_loss: 0.2000 - val_acc: 0.9305\n",
      "Epoch 11/50\n",
      "271/271 [==============================] - 1s 2ms/step - loss: 0.2358 - acc: 0.9060 - val_loss: 0.2020 - val_acc: 0.9229\n",
      "Epoch 12/50\n",
      "271/271 [==============================] - 1s 3ms/step - loss: 0.2345 - acc: 0.9049 - val_loss: 0.1976 - val_acc: 0.9276\n",
      "Epoch 13/50\n",
      "271/271 [==============================] - 1s 3ms/step - loss: 0.2353 - acc: 0.9025 - val_loss: 0.2428 - val_acc: 0.8914\n",
      "Epoch 14/50\n",
      "271/271 [==============================] - 1s 3ms/step - loss: 0.1999 - acc: 0.9215 - val_loss: 0.1704 - val_acc: 0.9393\n",
      "Epoch 15/50\n",
      "271/271 [==============================] - 1s 3ms/step - loss: 0.2035 - acc: 0.9195 - val_loss: 0.1698 - val_acc: 0.9405\n",
      "Epoch 16/50\n",
      "271/271 [==============================] - 1s 2ms/step - loss: 0.3114 - acc: 0.8781 - val_loss: 0.9675 - val_acc: 0.5889\n",
      "Epoch 17/50\n",
      "271/271 [==============================] - 1s 2ms/step - loss: 0.2190 - acc: 0.9169 - val_loss: 0.1758 - val_acc: 0.9360\n",
      "Epoch 18/50\n",
      "271/271 [==============================] - 1s 3ms/step - loss: 0.1938 - acc: 0.9262 - val_loss: 0.1751 - val_acc: 0.9332\n",
      "Epoch 19/50\n",
      "271/271 [==============================] - 1s 3ms/step - loss: 0.1927 - acc: 0.9238 - val_loss: 0.4331 - val_acc: 0.8189\n",
      "Epoch 20/50\n",
      "271/271 [==============================] - 1s 3ms/step - loss: 0.1914 - acc: 0.9240 - val_loss: 0.2194 - val_acc: 0.9100\n",
      "Epoch 21/50\n",
      "271/271 [==============================] - 1s 3ms/step - loss: 0.1904 - acc: 0.9230 - val_loss: 0.2257 - val_acc: 0.8875\n",
      "Epoch 22/50\n",
      "271/271 [==============================] - 1s 2ms/step - loss: 0.2094 - acc: 0.9134 - val_loss: 0.2448 - val_acc: 0.8888\n",
      "Epoch 23/50\n",
      "271/271 [==============================] - 1s 3ms/step - loss: 0.1870 - acc: 0.9250 - val_loss: 0.1613 - val_acc: 0.9401\n",
      "Epoch 24/50\n",
      "271/271 [==============================] - 1s 3ms/step - loss: 0.2479 - acc: 0.9006 - val_loss: 0.1929 - val_acc: 0.9341\n",
      "Epoch 25/50\n",
      "271/271 [==============================] - 1s 3ms/step - loss: 0.1802 - acc: 0.9294 - val_loss: 0.1629 - val_acc: 0.9393\n",
      "Epoch 26/50\n",
      "271/271 [==============================] - 1s 3ms/step - loss: 0.1897 - acc: 0.9229 - val_loss: 0.1783 - val_acc: 0.9245\n",
      "Epoch 27/50\n",
      "271/271 [==============================] - 1s 3ms/step - loss: 0.1836 - acc: 0.9252 - val_loss: 0.1591 - val_acc: 0.9399\n",
      "Epoch 28/50\n",
      "271/271 [==============================] - 1s 3ms/step - loss: 0.1738 - acc: 0.9302 - val_loss: 0.1842 - val_acc: 0.9290\n",
      "Epoch 29/50\n",
      "271/271 [==============================] - 1s 3ms/step - loss: 0.2179 - acc: 0.9128 - val_loss: 0.1656 - val_acc: 0.9407\n",
      "Epoch 30/50\n",
      "271/271 [==============================] - 1s 3ms/step - loss: 0.1808 - acc: 0.9258 - val_loss: 0.1553 - val_acc: 0.9380\n",
      "Epoch 31/50\n",
      "271/271 [==============================] - 1s 2ms/step - loss: 0.1697 - acc: 0.9319 - val_loss: 0.2320 - val_acc: 0.8822\n",
      "Epoch 32/50\n",
      "271/271 [==============================] - 1s 3ms/step - loss: 0.1823 - acc: 0.9249 - val_loss: 0.1419 - val_acc: 0.9512\n",
      "Epoch 33/50\n",
      "271/271 [==============================] - 1s 3ms/step - loss: 0.1939 - acc: 0.9199 - val_loss: 0.1460 - val_acc: 0.9402\n",
      "Epoch 34/50\n",
      "271/271 [==============================] - 1s 3ms/step - loss: 0.1755 - acc: 0.9285 - val_loss: 0.1472 - val_acc: 0.9459\n",
      "Epoch 35/50\n",
      "271/271 [==============================] - 1s 2ms/step - loss: 0.1798 - acc: 0.9262 - val_loss: 0.2197 - val_acc: 0.9028\n",
      "Epoch 36/50\n",
      "271/271 [==============================] - 1s 2ms/step - loss: 0.1659 - acc: 0.9326 - val_loss: 0.1485 - val_acc: 0.9403\n",
      "Epoch 37/50\n",
      "271/271 [==============================] - 1s 2ms/step - loss: 0.1700 - acc: 0.9313 - val_loss: 0.1374 - val_acc: 0.9484\n",
      "Epoch 38/50\n",
      "271/271 [==============================] - 1s 3ms/step - loss: 0.1742 - acc: 0.9302 - val_loss: 0.2194 - val_acc: 0.9203\n",
      "Epoch 39/50\n",
      "271/271 [==============================] - 1s 3ms/step - loss: 0.1786 - acc: 0.9274 - val_loss: 0.2205 - val_acc: 0.8958\n",
      "Epoch 40/50\n",
      "271/271 [==============================] - 1s 3ms/step - loss: 0.1714 - acc: 0.9305 - val_loss: 0.1323 - val_acc: 0.9436\n",
      "Epoch 41/50\n",
      "271/271 [==============================] - 1s 3ms/step - loss: 0.1632 - acc: 0.9333 - val_loss: 0.1861 - val_acc: 0.9283\n",
      "Epoch 42/50\n",
      "271/271 [==============================] - 1s 2ms/step - loss: 0.1548 - acc: 0.9376 - val_loss: 0.1615 - val_acc: 0.9432\n",
      "Epoch 43/50\n",
      "271/271 [==============================] - 1s 3ms/step - loss: 0.1581 - acc: 0.9362 - val_loss: 0.1255 - val_acc: 0.9504\n",
      "Epoch 44/50\n",
      "271/271 [==============================] - 1s 3ms/step - loss: 0.1666 - acc: 0.9336 - val_loss: 1.0301 - val_acc: 0.6535\n",
      "Epoch 45/50\n",
      "271/271 [==============================] - 1s 3ms/step - loss: 0.1887 - acc: 0.9240 - val_loss: 0.1403 - val_acc: 0.9481\n",
      "Epoch 46/50\n",
      "271/271 [==============================] - 1s 3ms/step - loss: 0.1539 - acc: 0.9387 - val_loss: 0.2130 - val_acc: 0.8941\n",
      "Epoch 47/50\n",
      "271/271 [==============================] - 1s 3ms/step - loss: 0.1604 - acc: 0.9370 - val_loss: 0.1370 - val_acc: 0.9447\n",
      "Epoch 48/50\n",
      "271/271 [==============================] - 1s 3ms/step - loss: 0.1453 - acc: 0.9432 - val_loss: 0.2725 - val_acc: 0.8996\n",
      "Epoch 49/50\n",
      "271/271 [==============================] - 1s 3ms/step - loss: 0.1525 - acc: 0.9383 - val_loss: 0.1208 - val_acc: 0.9587\n",
      "Epoch 50/50\n",
      "271/271 [==============================] - 1s 3ms/step - loss: 0.1588 - acc: 0.9355 - val_loss: 0.1692 - val_acc: 0.9362\n"
     ]
    }
   ],
   "source": [
    "from keras.losses import CategoricalCrossentropy\n",
    "from keras.optimizers import Adam\n",
    "model.compile(optimizer=Adam(), loss=CategoricalCrossentropy(), metrics=[\"acc\"])\n",
    "\n",
    "history = model.fit(X_train, train_labels, 256, 50, validation_split=0.1)"
   ]
  },
  {
   "cell_type": "code",
   "execution_count": 136,
   "metadata": {},
   "outputs": [],
   "source": [
    "import matplotlib.pyplot as plt\n",
    "\n",
    "\n",
    "# function for plotting the history including validation/training loss and accuracy\n",
    "def plot_history(history, epochs_size):\n",
    "    loss = history.history[\"loss\"]\n",
    "    accuracy = history.history[\"acc\"]\n",
    "    val_loss = history.history[\"val_loss\"]\n",
    "    val_accuracy = history.history[\"val_acc\"]\n",
    "    # max_acc = accuracy[np.argmax(accuracy)]\n",
    "    # max_val_acc = val_accuracy[np.argmax(val_accuracy)]\n",
    "    epochs = range(1, (epochs_size+1))\n",
    "    ig, ax = plt.subplots(2, figsize=(20, 8))\n",
    "    ax[0].plot(epochs ,loss, \"b\", label=\"Training loss\")\n",
    "    ax[0].plot(epochs, val_loss, \"r\", label=\"Validation loss\")\n",
    "    ax[0].set_xlabel(\"Epochs\")\n",
    "    ax[0].set_ylabel(\"%\")\n",
    "    ax[0].set_title(\"Loss of Model:\")\n",
    "    ax[0].legend()\n",
    "    ax[1].plot(epochs, accuracy, \"g\", label=\"Training accuracy\")\n",
    "    ax[1].plot(epochs, val_accuracy, \"y\", label=\"Validation accuracy\")\n",
    "    ax[1].set_xlabel(\"Epochs\")\n",
    "    ax[1].set_ylabel(\"%\")\n",
    "    ax[1].set_title(\"Accuracy of Model:\")\n",
    "    ax[1].legend()\n",
    "\n",
    "    # set the spacing between subplots\n",
    "    plt.subplots_adjust(left=0.1,\n",
    "                        bottom=0.1, \n",
    "                        right=0.9, \n",
    "                        top=0.9, \n",
    "                        wspace=0.4, \n",
    "                        hspace=0.8)\n",
    "\n",
    "    plt.show()\n",
    "    "
   ]
  },
  {
   "cell_type": "code",
   "execution_count": 137,
   "metadata": {},
   "outputs": [
    {
     "data": {
      "image/png": "[encoded data removed]",
      "text/plain": [
       "<Figure size 1440x576 with 2 Axes>"
      ]
     },
     "metadata": {
      "needs_background": "light"
     },
     "output_type": "display_data"
    }
   ],
   "source": [
    "plot_history(history=history, epochs_size=50)"
   ]
  },
  {
   "cell_type": "code",
   "execution_count": 6,
   "metadata": {},
   "outputs": [
    {
     "name": "stdout",
     "output_type": "stream",
     "text": [
      "{'song': {0: 'neelix', 1: 'ng', 2: 'pieces'}, 'dcdc': {0: 'mosfets', 1: 'normal', 2: 'drossel'}, 'song_alias': {'neelix': 0, 'ng': 1, 'pieces': 2}, 'dcdc_alias': {'mosfets': 0, 'normal': 1, 'drossel': 2}}\n"
     ]
    }
   ],
   "source": [
    "dataset_dict = {\n",
    "    'song': {\n",
    "        0: 'neelix', \n",
    "        1: 'ng', \n",
    "        2: 'pieces'\n",
    "    },\n",
    "\n",
    "    'dcdc': {\n",
    "        0: 'mosfets',\n",
    "        1: 'normal',\n",
    "        2: 'drossel'\n",
    "    }\n",
    "}\n",
    "dataset_dict['song_alias'] = dict((g, i) for i, g in dataset_dict['song'].items())\n",
    "dataset_dict['dcdc_alias'] = dict((r, i) for i, r in dataset_dict['dcdc'].items())\n",
    "print(dataset_dict)\n",
    "\n",
    "IM_WIDTH = 321 \n",
    "IM_HEIGHT = 123"
   ]
  },
  {
   "cell_type": "code",
   "execution_count": 138,
   "metadata": {},
   "outputs": [],
   "source": [
    "from keras.models import Model\n",
    "from keras.layers import BatchNormalization\n",
    "from keras.layers.convolutional import Conv2D\n",
    "from keras.layers.convolutional import MaxPooling2D\n",
    "from keras.layers.core import Activation\n",
    "from keras.layers.core import Dropout\n",
    "from keras.layers.core import Lambda\n",
    "from keras.layers.core import Dense\n",
    "from keras.layers import Flatten\n",
    "from keras.layers import Input\n",
    "import tensorflow as tf\n",
    "class UtkMultiOutputModel():\n",
    "    \"\"\"\n",
    "    Used to generate our multi-output model. This CNN contains three branches, one for age, other for \n",
    "    sex and another for race. Each branch contains a sequence of Convolutional Layers that is defined\n",
    "    on the make_default_hidden_layers method.\n",
    "    \"\"\"\n",
    "    def make_default_hidden_layers(self, inputs):\n",
    "        \"\"\"\n",
    "        Used to generate a default set of hidden layers. The structure used in this network is defined as:\n",
    "        \n",
    "        Conv2D -> BatchNormalization -> Pooling -> Dropout\n",
    "        \"\"\"\n",
    "        x = Conv2D(16, (3, 3), padding=\"same\")(inputs)\n",
    "        x = Activation(\"relu\")(x)\n",
    "        x = BatchNormalization(axis=-1)(x)\n",
    "        x = MaxPooling2D(pool_size=(3, 3))(x)\n",
    "        x = Dropout(0.25)(x)\n",
    "        x = Conv2D(32, (3, 3), padding=\"same\")(x)\n",
    "        x = Activation(\"relu\")(x)\n",
    "        x = BatchNormalization(axis=-1)(x)\n",
    "        x = MaxPooling2D(pool_size=(2, 2))(x)\n",
    "        x = Dropout(0.25)(x)\n",
    "        x = Conv2D(32, (3, 3), padding=\"same\")(x)\n",
    "        x = Activation(\"relu\")(x)\n",
    "        x = BatchNormalization(axis=-1)(x)\n",
    "        x = MaxPooling2D(pool_size=(2, 2))(x)\n",
    "        x = Dropout(0.25)(x)\n",
    "        return x\n",
    "    def build_race_branch(self, inputs, num_races):\n",
    "        \"\"\"\n",
    "        Used to build the race branch of our face recognition network.\n",
    "        This branch is composed of three Conv -> BN -> Pool -> Dropout blocks, \n",
    "        followed by the Dense output layer.\n",
    "        \"\"\"\n",
    "        x = self.make_default_hidden_layers(inputs)\n",
    "        x = Flatten()(x)\n",
    "        x = Dense(128)(x)\n",
    "        x = Activation(\"relu\")(x)\n",
    "        x = BatchNormalization()(x)\n",
    "        x = Dropout(0.5)(x)\n",
    "        x = Dense(num_races)(x)\n",
    "        x = Activation(\"softmax\", name=\"race_output\")(x)\n",
    "        return x\n",
    "    def build_gender_branch(self, inputs, num_genders=2):\n",
    "        \"\"\"\n",
    "        Used to build the gender branch of our face recognition network.\n",
    "        This branch is composed of three Conv -> BN -> Pool -> Dropout blocks, \n",
    "        followed by the Dense output layer.\n",
    "        \"\"\"\n",
    "        x = Lambda(lambda c: tf.image.rgb_to_grayscale(c))(inputs)\n",
    "        x = self.make_default_hidden_layers(inputs)\n",
    "        x = Flatten()(x)\n",
    "        x = Dense(128)(x)\n",
    "        x = Activation(\"relu\")(x)\n",
    "        x = BatchNormalization()(x)\n",
    "        x = Dropout(0.5)(x)\n",
    "        x = Dense(num_genders)(x)\n",
    "        x = Activation(\"sigmoid\", name=\"gender_output\")(x)\n",
    "        return x\n",
    "    def build_age_branch(self, inputs):   \n",
    "        \"\"\"\n",
    "        Used to build the age branch of our face recognition network.\n",
    "        This branch is composed of three Conv -> BN -> Pool -> Dropout blocks, \n",
    "        followed by the Dense output layer.\n",
    "        \"\"\"\n",
    "        x = self.make_default_hidden_layers(inputs)\n",
    "        x = Flatten()(x)\n",
    "        x = Dense(128)(x)\n",
    "        x = Activation(\"relu\")(x)\n",
    "        x = BatchNormalization()(x)\n",
    "        x = Dropout(0.5)(x)\n",
    "        x = Dense(1)(x)\n",
    "        x = Activation(\"linear\", name=\"age_output\")(x)\n",
    "        return x\n",
    "    def assemble_full_model(self, width, height, num_races):\n",
    "        \"\"\"\n",
    "        Used to assemble our multi-output model CNN.\n",
    "        \"\"\"\n",
    "        input_shape = (height, width, 3)\n",
    "        inputs = Input(shape=input_shape)\n",
    "        age_branch = self.build_age_branch(inputs)\n",
    "        race_branch = self.build_race_branch(inputs, num_races)\n",
    "        gender_branch = self.build_gender_branch(inputs)\n",
    "        model = Model(inputs=inputs,\n",
    "                     outputs = [age_branch, race_branch, gender_branch],\n",
    "                     name=\"face_net\")\n",
    "        return model\n",
    "    \n",
    "# model = UtkMultiOutputModel().assemble_full_model(IM_WIDTH, IM_HEIGHT, num_races=len(dataset_dict['race_alias']))\n",
    "model = UtkMultiOutputModel().assemble_full_model(IM_WIDTH, IM_HEIGHT, num_races=4)\n"
   ]
  },
  {
   "cell_type": "code",
   "execution_count": 151,
   "metadata": {},
   "outputs": [
    {
     "name": "stdout",
     "output_type": "stream",
     "text": [
      "You must install pydot (`pip install pydot`) and install graphviz (see instructions at https://graphviz.gitlab.io/download/) for plot_model/model_to_dot to work.\n"
     ]
    }
   ],
   "source": [
    "from keras.utils.vis_utils import plot_model\n",
    "plot_model(model, \"model_1.png\", show_shapes=True)"
   ]
  }
 ],
 "metadata": {
  "kernelspec": {
   "display_name": "Python 3.10.6 ('venv': venv)",
   "language": "python",
   "name": "python3"
  },
  "language_info": {
   "codemirror_mode": {
    "name": "ipython",
    "version": 3
   },
   "file_extension": ".py",
   "mimetype": "text/x-python",
   "name": "python",
   "nbconvert_exporter": "python",
   "pygments_lexer": "ipython3",
   "version": "3.10.6"
  },
  "orig_nbformat": 4,
  "vscode": {
   "interpreter": {
    "hash": "ca1c6f47e78944e5b11f7d3b44b6206ab4f171b310471b46fba50959eb66c8df"
   }
  }
 },
 "nbformat": 4,
 "nbformat_minor": 2
}
