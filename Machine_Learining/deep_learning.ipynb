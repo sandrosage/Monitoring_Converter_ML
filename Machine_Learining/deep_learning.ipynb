{
 "cells": [
  {
   "cell_type": "markdown",
   "metadata": {},
   "source": [
    "# Deep Learning Tensorflow/Keras approach \n",
    "    -> Ressources: \n",
    "    https://towardsdatascience.com/building-a-multi-output-convolutional-neural-network-with-keras-ed24c7bc1178\n",
    "    https://keras.io/guides/functional_api/\n",
    "    (Multi-Output-Network)"
   ]
  },
  {
   "cell_type": "code",
   "execution_count": 14,
   "metadata": {},
   "outputs": [
    {
     "data": {
      "text/html": [
       "<div>\n",
       "<style scoped>\n",
       "    .dataframe tbody tr th:only-of-type {\n",
       "        vertical-align: middle;\n",
       "    }\n",
       "\n",
       "    .dataframe tbody tr th {\n",
       "        vertical-align: top;\n",
       "    }\n",
       "\n",
       "    .dataframe thead th {\n",
       "        text-align: right;\n",
       "    }\n",
       "</style>\n",
       "<table border=\"1\" class=\"dataframe\">\n",
       "  <thead>\n",
       "    <tr style=\"text-align: right;\">\n",
       "      <th></th>\n",
       "      <th>T_min</th>\n",
       "      <th>T_max</th>\n",
       "      <th>T_delta</th>\n",
       "      <th>Pow_mean</th>\n",
       "      <th>status</th>\n",
       "    </tr>\n",
       "  </thead>\n",
       "  <tbody>\n",
       "    <tr>\n",
       "      <th>0</th>\n",
       "      <td>24.559295</td>\n",
       "      <td>27.063301</td>\n",
       "      <td>2.504006</td>\n",
       "      <td>0.0</td>\n",
       "      <td>drossel</td>\n",
       "    </tr>\n",
       "    <tr>\n",
       "      <th>1</th>\n",
       "      <td>24.559295</td>\n",
       "      <td>27.063301</td>\n",
       "      <td>2.504006</td>\n",
       "      <td>0.0</td>\n",
       "      <td>drossel</td>\n",
       "    </tr>\n",
       "    <tr>\n",
       "      <th>2</th>\n",
       "      <td>24.559295</td>\n",
       "      <td>27.063301</td>\n",
       "      <td>2.504006</td>\n",
       "      <td>0.0</td>\n",
       "      <td>drossel</td>\n",
       "    </tr>\n",
       "    <tr>\n",
       "      <th>3</th>\n",
       "      <td>24.559295</td>\n",
       "      <td>27.063301</td>\n",
       "      <td>2.504006</td>\n",
       "      <td>0.0</td>\n",
       "      <td>drossel</td>\n",
       "    </tr>\n",
       "    <tr>\n",
       "      <th>4</th>\n",
       "      <td>24.559295</td>\n",
       "      <td>27.063301</td>\n",
       "      <td>2.504006</td>\n",
       "      <td>0.0</td>\n",
       "      <td>drossel</td>\n",
       "    </tr>\n",
       "  </tbody>\n",
       "</table>\n",
       "</div>"
      ],
      "text/plain": [
       "       T_min      T_max   T_delta  Pow_mean   status\n",
       "0  24.559295  27.063301  2.504006       0.0  drossel\n",
       "1  24.559295  27.063301  2.504006       0.0  drossel\n",
       "2  24.559295  27.063301  2.504006       0.0  drossel\n",
       "3  24.559295  27.063301  2.504006       0.0  drossel\n",
       "4  24.559295  27.063301  2.504006       0.0  drossel"
      ]
     },
     "execution_count": 14,
     "metadata": {},
     "output_type": "execute_result"
    }
   ],
   "source": [
    "import pandas as pd\n",
    "\n",
    "df = pd.read_csv(\"../static_merged_data.csv\")\n",
    "df.head()\n"
   ]
  },
  {
   "cell_type": "code",
   "execution_count": 83,
   "metadata": {},
   "outputs": [
    {
     "data": {
      "text/html": [
       "<div>\n",
       "<style scoped>\n",
       "    .dataframe tbody tr th:only-of-type {\n",
       "        vertical-align: middle;\n",
       "    }\n",
       "\n",
       "    .dataframe tbody tr th {\n",
       "        vertical-align: top;\n",
       "    }\n",
       "\n",
       "    .dataframe thead th {\n",
       "        text-align: right;\n",
       "    }\n",
       "</style>\n",
       "<table border=\"1\" class=\"dataframe\">\n",
       "  <thead>\n",
       "    <tr style=\"text-align: right;\">\n",
       "      <th></th>\n",
       "      <th>status</th>\n",
       "    </tr>\n",
       "  </thead>\n",
       "  <tbody>\n",
       "    <tr>\n",
       "      <th>0</th>\n",
       "      <td>drossel</td>\n",
       "    </tr>\n",
       "    <tr>\n",
       "      <th>1</th>\n",
       "      <td>drossel</td>\n",
       "    </tr>\n",
       "    <tr>\n",
       "      <th>2</th>\n",
       "      <td>drossel</td>\n",
       "    </tr>\n",
       "    <tr>\n",
       "      <th>3</th>\n",
       "      <td>drossel</td>\n",
       "    </tr>\n",
       "    <tr>\n",
       "      <th>4</th>\n",
       "      <td>drossel</td>\n",
       "    </tr>\n",
       "  </tbody>\n",
       "</table>\n",
       "</div>"
      ],
      "text/plain": [
       "    status\n",
       "0  drossel\n",
       "1  drossel\n",
       "2  drossel\n",
       "3  drossel\n",
       "4  drossel"
      ]
     },
     "execution_count": 83,
     "metadata": {},
     "output_type": "execute_result"
    }
   ],
   "source": [
    "from sklearn.model_selection import train_test_split\n",
    "from keras.utils import to_categorical\n",
    "# devide it into labels and features\n",
    "Y = df[[\"status\"]]\n",
    "X = df[[\"T_min\",\"T_max\",\"T_delta\",\"Pow_mean\"]]\n",
    "\n",
    "# split the dataset into train- and testset\n",
    "X_train, X_test, y_train, y_test = train_test_split(X, Y, shuffle=True, test_size=.2)\n",
    "\n",
    "#y_categ = to_categorical(Y,3) #does not work: only integers\n",
    "Y.head()"
   ]
  },
  {
   "cell_type": "code",
   "execution_count": 103,
   "metadata": {},
   "outputs": [
    {
     "data": {
      "text/plain": [
       "(77079, 3)"
      ]
     },
     "execution_count": 103,
     "metadata": {},
     "output_type": "execute_result"
    }
   ],
   "source": [
    "from keras.utils import to_categorical\n",
    "pd_series_nums = y_train.status.astype('category').cat.codes.to_numpy()\n",
    "labels = to_categorical(pd_series_nums, 3)\n",
    "labels.shape"
   ]
  },
  {
   "cell_type": "code",
   "execution_count": 104,
   "metadata": {},
   "outputs": [
    {
     "data": {
      "text/plain": [
       "(77079, 4)"
      ]
     },
     "execution_count": 104,
     "metadata": {},
     "output_type": "execute_result"
    }
   ],
   "source": [
    "X_numpy = X_train.to_numpy()\n",
    "#X_numpy.resize(96349,1,4)\n",
    "X_numpy.shape"
   ]
  },
  {
   "cell_type": "code",
   "execution_count": 107,
   "metadata": {},
   "outputs": [
    {
     "name": "stdout",
     "output_type": "stream",
     "text": [
      "Model: \"sequential_20\"\n",
      "_________________________________________________________________\n",
      " Layer (type)                Output Shape              Param #   \n",
      "=================================================================\n",
      " dense_63 (Dense)            (None, 32)                160       \n",
      "                                                                 \n",
      " dense_64 (Dense)            (None, 64)                2112      \n",
      "                                                                 \n",
      " dense_65 (Dense)            (None, 32)                2080      \n",
      "                                                                 \n",
      " dense_66 (Dense)            (None, 16)                528       \n",
      "                                                                 \n",
      " output_layer (Dense)        (None, 3)                 51        \n",
      "                                                                 \n",
      "=================================================================\n",
      "Total params: 4,931\n",
      "Trainable params: 4,931\n",
      "Non-trainable params: 0\n",
      "_________________________________________________________________\n"
     ]
    }
   ],
   "source": [
    "from keras.models import Model\n",
    "from keras.layers import BatchNormalization\n",
    "from keras.layers.convolutional import Conv2D\n",
    "from keras.layers.convolutional import MaxPooling2D\n",
    "from keras.layers.core import Activation\n",
    "from keras.layers.core import Dropout\n",
    "from keras.layers.core import Lambda\n",
    "from keras.layers.core import Dense\n",
    "from keras.layers import Flatten\n",
    "from keras.layers import Input\n",
    "import tensorflow as tf\n",
    "from  keras import Sequential\n",
    "\n",
    "model = Sequential([\n",
    "    Input(shape=(4,), name=\"input-layer\"),\n",
    "    Dense(32, activation=\"relu\"),\n",
    "    Dense(64, activation=\"relu\"),\n",
    "    Dense(32, activation=\"relu\"),\n",
    "    Dense(16, activation=\"relu\"),\n",
    "    Dense(3, activation=\"softmax\", name=\"output_layer\")\n",
    "])\n",
    "\n",
    "model.summary()"
   ]
  },
  {
   "cell_type": "code",
   "execution_count": 109,
   "metadata": {},
   "outputs": [
    {
     "name": "stdout",
     "output_type": "stream",
     "text": [
      "Epoch 1/32\n",
      "542/542 [==============================] - 2s 2ms/step - loss: 0.2730 - acc: 0.8920 - val_loss: 0.1828 - val_acc: 0.9346\n",
      "Epoch 2/32\n",
      "542/542 [==============================] - 1s 2ms/step - loss: 0.2542 - acc: 0.8957 - val_loss: 0.2609 - val_acc: 0.8810\n",
      "Epoch 3/32\n",
      "542/542 [==============================] - 1s 2ms/step - loss: 0.2477 - acc: 0.8978 - val_loss: 0.1886 - val_acc: 0.9089\n",
      "Epoch 4/32\n",
      "542/542 [==============================] - 1s 2ms/step - loss: 0.2435 - acc: 0.9004 - val_loss: 0.1779 - val_acc: 0.9360\n",
      "Epoch 5/32\n",
      "542/542 [==============================] - 1s 2ms/step - loss: 0.2380 - acc: 0.9008 - val_loss: 0.3288 - val_acc: 0.8317\n",
      "Epoch 6/32\n",
      "542/542 [==============================] - 1s 2ms/step - loss: 0.2300 - acc: 0.9050 - val_loss: 0.1833 - val_acc: 0.9262\n",
      "Epoch 7/32\n",
      "542/542 [==============================] - 1s 1ms/step - loss: 0.2257 - acc: 0.9049 - val_loss: 0.1663 - val_acc: 0.9445\n",
      "Epoch 8/32\n",
      "542/542 [==============================] - 1s 2ms/step - loss: 0.2217 - acc: 0.9070 - val_loss: 0.1474 - val_acc: 0.9414\n",
      "Epoch 9/32\n",
      "542/542 [==============================] - 1s 2ms/step - loss: 0.2185 - acc: 0.9115 - val_loss: 0.1655 - val_acc: 0.9481\n",
      "Epoch 10/32\n",
      "542/542 [==============================] - 1s 2ms/step - loss: 0.2131 - acc: 0.9124 - val_loss: 0.1544 - val_acc: 0.9380\n",
      "Epoch 11/32\n",
      "542/542 [==============================] - 1s 1ms/step - loss: 0.2098 - acc: 0.9135 - val_loss: 0.2524 - val_acc: 0.8976\n",
      "Epoch 12/32\n",
      "542/542 [==============================] - 1s 2ms/step - loss: 0.2050 - acc: 0.9158 - val_loss: 0.1410 - val_acc: 0.9455\n",
      "Epoch 13/32\n",
      "542/542 [==============================] - 1s 1ms/step - loss: 0.2019 - acc: 0.9172 - val_loss: 0.1533 - val_acc: 0.9451\n",
      "Epoch 14/32\n",
      "542/542 [==============================] - 1s 2ms/step - loss: 0.1993 - acc: 0.9170 - val_loss: 0.1469 - val_acc: 0.9472\n",
      "Epoch 15/32\n",
      "542/542 [==============================] - 1s 2ms/step - loss: 0.1945 - acc: 0.9199 - val_loss: 0.1808 - val_acc: 0.9236\n",
      "Epoch 16/32\n",
      "542/542 [==============================] - 1s 2ms/step - loss: 0.1877 - acc: 0.9228 - val_loss: 0.1583 - val_acc: 0.9294\n",
      "Epoch 17/32\n",
      "542/542 [==============================] - 1s 2ms/step - loss: 0.1873 - acc: 0.9226 - val_loss: 0.3993 - val_acc: 0.8338\n",
      "Epoch 18/32\n",
      "542/542 [==============================] - 1s 2ms/step - loss: 0.1823 - acc: 0.9245 - val_loss: 0.2911 - val_acc: 0.8666\n",
      "Epoch 19/32\n",
      "542/542 [==============================] - 1s 1ms/step - loss: 0.1824 - acc: 0.9260 - val_loss: 0.1346 - val_acc: 0.9460\n",
      "Epoch 20/32\n",
      "542/542 [==============================] - 1s 2ms/step - loss: 0.1766 - acc: 0.9285 - val_loss: 0.1253 - val_acc: 0.9526\n",
      "Epoch 21/32\n",
      "542/542 [==============================] - 1s 1ms/step - loss: 0.1736 - acc: 0.9284 - val_loss: 0.1490 - val_acc: 0.9380\n",
      "Epoch 22/32\n",
      "542/542 [==============================] - 1s 2ms/step - loss: 0.1781 - acc: 0.9272 - val_loss: 0.1259 - val_acc: 0.9545\n",
      "Epoch 23/32\n",
      "542/542 [==============================] - 1s 2ms/step - loss: 0.1698 - acc: 0.9301 - val_loss: 0.2407 - val_acc: 0.8895\n",
      "Epoch 24/32\n",
      "542/542 [==============================] - 1s 2ms/step - loss: 0.1693 - acc: 0.9305 - val_loss: 0.1541 - val_acc: 0.9316\n",
      "Epoch 25/32\n",
      "542/542 [==============================] - 1s 2ms/step - loss: 0.1694 - acc: 0.9307 - val_loss: 0.1254 - val_acc: 0.9491\n",
      "Epoch 26/32\n",
      "542/542 [==============================] - 1s 2ms/step - loss: 0.1682 - acc: 0.9312 - val_loss: 0.3043 - val_acc: 0.8705\n",
      "Epoch 27/32\n",
      "542/542 [==============================] - 1s 2ms/step - loss: 0.1712 - acc: 0.9305 - val_loss: 0.1147 - val_acc: 0.9502\n",
      "Epoch 28/32\n",
      "542/542 [==============================] - 1s 1ms/step - loss: 0.1641 - acc: 0.9326 - val_loss: 0.1272 - val_acc: 0.9491\n",
      "Epoch 29/32\n",
      "542/542 [==============================] - 1s 2ms/step - loss: 0.1650 - acc: 0.9334 - val_loss: 0.2034 - val_acc: 0.9159\n",
      "Epoch 30/32\n",
      "542/542 [==============================] - 1s 2ms/step - loss: 0.1634 - acc: 0.9341 - val_loss: 0.1341 - val_acc: 0.9569\n",
      "Epoch 31/32\n",
      "542/542 [==============================] - 1s 1ms/step - loss: 0.1637 - acc: 0.9342 - val_loss: 0.1071 - val_acc: 0.9532\n",
      "Epoch 32/32\n",
      "542/542 [==============================] - 1s 2ms/step - loss: 0.1608 - acc: 0.9347 - val_loss: 0.1419 - val_acc: 0.9440\n"
     ]
    }
   ],
   "source": [
    "from keras.losses import CategoricalCrossentropy\n",
    "model.compile(optimizer=\"rmsprop\", loss=CategoricalCrossentropy(), metrics=[\"acc\"])\n",
    "\n",
    "history = model.fit(X_numpy, labels, 128, 32, validation_split=0.1)"
   ]
  },
  {
   "cell_type": "code",
   "execution_count": 114,
   "metadata": {},
   "outputs": [],
   "source": [
    "import matplotlib.pyplot as plt\n",
    "\n",
    "def plot_history(history, epochs_size):\n",
    "    loss = history.history[\"loss\"]\n",
    "    accuracy = history.history[\"acc\"]\n",
    "    val_loss = history.history[\"val_loss\"]\n",
    "    val_accuracy = history.history[\"val_acc\"]\n",
    "    # max_acc = accuracy[np.argmax(accuracy)]\n",
    "    # max_val_acc = val_accuracy[np.argmax(val_accuracy)]\n",
    "    epochs = range(1, (epochs_size+1))\n",
    "    ig, ax = plt.subplots(2, figsize=(20, 8))\n",
    "    ax[0].plot(epochs ,loss, \"b\", label=\"Training loss\")\n",
    "    ax[0].plot(epochs, val_loss, \"r\", label=\"Validation loss\")\n",
    "    ax[0].set_xlabel(\"Epochs\")\n",
    "    ax[0].set_ylabel(\"%\")\n",
    "    ax[0].set_title(\"Loss of Model:\")\n",
    "    ax[0].legend()\n",
    "    ax[1].plot(epochs, accuracy, \"g\", label=\"Training accuracy\")\n",
    "    ax[1].plot(epochs, val_accuracy, \"y\", label=\"Validation accuracy\")\n",
    "    ax[1].set_xlabel(\"Epochs\")\n",
    "    ax[1].set_ylabel(\"%\")\n",
    "    ax[1].set_title(\"Accuracy of Model:\")\n",
    "    ax[1].legend()\n",
    "\n",
    "    # set the spacing between subplots\n",
    "    plt.subplots_adjust(left=0.1,\n",
    "                        bottom=0.1, \n",
    "                        right=0.9, \n",
    "                        top=0.9, \n",
    "                        wspace=0.4, \n",
    "                        hspace=0.8)\n",
    "\n",
    "    plt.show()\n",
    "    "
   ]
  },
  {
   "cell_type": "code",
   "execution_count": 115,
   "metadata": {},
   "outputs": [
    {
     "data": {
      "image/png": "[encoded data removed]",
      "text/plain": [
       "<Figure size 1440x576 with 2 Axes>"
      ]
     },
     "metadata": {
      "needs_background": "light"
     },
     "output_type": "display_data"
    }
   ],
   "source": [
    "plot_history(history=history, epochs_size=32)"
   ]
  },
  {
   "cell_type": "code",
   "execution_count": 6,
   "metadata": {},
   "outputs": [
    {
     "name": "stdout",
     "output_type": "stream",
     "text": [
      "{'song': {0: 'neelix', 1: 'ng', 2: 'pieces'}, 'dcdc': {0: 'mosfets', 1: 'normal', 2: 'drossel'}, 'song_alias': {'neelix': 0, 'ng': 1, 'pieces': 2}, 'dcdc_alias': {'mosfets': 0, 'normal': 1, 'drossel': 2}}\n"
     ]
    }
   ],
   "source": [
    "dataset_dict = {\n",
    "    'song': {\n",
    "        0: 'neelix', \n",
    "        1: 'ng', \n",
    "        2: 'pieces'\n",
    "    },\n",
    "\n",
    "    'dcdc': {\n",
    "        0: 'mosfets',\n",
    "        1: 'normal',\n",
    "        2: 'drossel'\n",
    "    }\n",
    "}\n",
    "dataset_dict['song_alias'] = dict((g, i) for i, g in dataset_dict['song'].items())\n",
    "dataset_dict['dcdc_alias'] = dict((r, i) for i, r in dataset_dict['dcdc'].items())\n",
    "print(dataset_dict)\n",
    "\n",
    "IM_WIDTH = 321 \n",
    "IM_HEIGHT = 123"
   ]
  },
  {
   "cell_type": "code",
   "execution_count": 7,
   "metadata": {},
   "outputs": [
    {
     "ename": "KeyError",
     "evalue": "'race_alias'",
     "output_type": "error",
     "traceback": [
      "\u001b[1;31m---------------------------------------------------------------------------\u001b[0m",
      "\u001b[1;31mKeyError\u001b[0m                                  Traceback (most recent call last)",
      "\u001b[1;32mc:\\Users\\sandr\\source\\repos\\Monitoring_Converter_ML\\Machine_Learining\\deep_learning.ipynb Zelle 3\u001b[0m in \u001b[0;36m<cell line: 100>\u001b[1;34m()\u001b[0m\n\u001b[0;32m     <a href='vscode-notebook-cell:/c%3A/Users/sandr/source/repos/Monitoring_Converter_ML/Machine_Learining/deep_learning.ipynb#W1sZmlsZQ%3D%3D?line=94'>95</a>\u001b[0m         model \u001b[39m=\u001b[39m Model(inputs\u001b[39m=\u001b[39minputs,\n\u001b[0;32m     <a href='vscode-notebook-cell:/c%3A/Users/sandr/source/repos/Monitoring_Converter_ML/Machine_Learining/deep_learning.ipynb#W1sZmlsZQ%3D%3D?line=95'>96</a>\u001b[0m                      outputs \u001b[39m=\u001b[39m [age_branch, race_branch, gender_branch],\n\u001b[0;32m     <a href='vscode-notebook-cell:/c%3A/Users/sandr/source/repos/Monitoring_Converter_ML/Machine_Learining/deep_learning.ipynb#W1sZmlsZQ%3D%3D?line=96'>97</a>\u001b[0m                      name\u001b[39m=\u001b[39m\u001b[39m\"\u001b[39m\u001b[39mface_net\u001b[39m\u001b[39m\"\u001b[39m)\n\u001b[0;32m     <a href='vscode-notebook-cell:/c%3A/Users/sandr/source/repos/Monitoring_Converter_ML/Machine_Learining/deep_learning.ipynb#W1sZmlsZQ%3D%3D?line=97'>98</a>\u001b[0m         \u001b[39mreturn\u001b[39;00m model\n\u001b[1;32m--> <a href='vscode-notebook-cell:/c%3A/Users/sandr/source/repos/Monitoring_Converter_ML/Machine_Learining/deep_learning.ipynb#W1sZmlsZQ%3D%3D?line=99'>100</a>\u001b[0m model \u001b[39m=\u001b[39m UtkMultiOutputModel()\u001b[39m.\u001b[39massemble_full_model(IM_WIDTH, IM_HEIGHT, num_races\u001b[39m=\u001b[39m\u001b[39mlen\u001b[39m(dataset_dict[\u001b[39m'\u001b[39;49m\u001b[39mrace_alias\u001b[39;49m\u001b[39m'\u001b[39;49m]))\n",
      "\u001b[1;31mKeyError\u001b[0m: 'race_alias'"
     ]
    }
   ],
   "source": [
    "from keras.models import Model\n",
    "from keras.layers import BatchNormalization\n",
    "from keras.layers.convolutional import Conv2D\n",
    "from keras.layers.convolutional import MaxPooling2D\n",
    "from keras.layers.core import Activation\n",
    "from keras.layers.core import Dropout\n",
    "from keras.layers.core import Lambda\n",
    "from keras.layers.core import Dense\n",
    "from keras.layers import Flatten\n",
    "from keras.layers import Input\n",
    "import tensorflow as tf\n",
    "class UtkMultiOutputModel():\n",
    "    \"\"\"\n",
    "    Used to generate our multi-output model. This CNN contains three branches, one for age, other for \n",
    "    sex and another for race. Each branch contains a sequence of Convolutional Layers that is defined\n",
    "    on the make_default_hidden_layers method.\n",
    "    \"\"\"\n",
    "    def make_default_hidden_layers(self, inputs):\n",
    "        \"\"\"\n",
    "        Used to generate a default set of hidden layers. The structure used in this network is defined as:\n",
    "        \n",
    "        Conv2D -> BatchNormalization -> Pooling -> Dropout\n",
    "        \"\"\"\n",
    "        x = Conv2D(16, (3, 3), padding=\"same\")(inputs)\n",
    "        x = Activation(\"relu\")(x)\n",
    "        x = BatchNormalization(axis=-1)(x)\n",
    "        x = MaxPooling2D(pool_size=(3, 3))(x)\n",
    "        x = Dropout(0.25)(x)\n",
    "        x = Conv2D(32, (3, 3), padding=\"same\")(x)\n",
    "        x = Activation(\"relu\")(x)\n",
    "        x = BatchNormalization(axis=-1)(x)\n",
    "        x = MaxPooling2D(pool_size=(2, 2))(x)\n",
    "        x = Dropout(0.25)(x)\n",
    "        x = Conv2D(32, (3, 3), padding=\"same\")(x)\n",
    "        x = Activation(\"relu\")(x)\n",
    "        x = BatchNormalization(axis=-1)(x)\n",
    "        x = MaxPooling2D(pool_size=(2, 2))(x)\n",
    "        x = Dropout(0.25)(x)\n",
    "        return x\n",
    "    def build_race_branch(self, inputs, num_races):\n",
    "        \"\"\"\n",
    "        Used to build the race branch of our face recognition network.\n",
    "        This branch is composed of three Conv -> BN -> Pool -> Dropout blocks, \n",
    "        followed by the Dense output layer.\n",
    "        \"\"\"\n",
    "        x = self.make_default_hidden_layers(inputs)\n",
    "        x = Flatten()(x)\n",
    "        x = Dense(128)(x)\n",
    "        x = Activation(\"relu\")(x)\n",
    "        x = BatchNormalization()(x)\n",
    "        x = Dropout(0.5)(x)\n",
    "        x = Dense(num_races)(x)\n",
    "        x = Activation(\"softmax\", name=\"race_output\")(x)\n",
    "        return x\n",
    "    def build_gender_branch(self, inputs, num_genders=2):\n",
    "        \"\"\"\n",
    "        Used to build the gender branch of our face recognition network.\n",
    "        This branch is composed of three Conv -> BN -> Pool -> Dropout blocks, \n",
    "        followed by the Dense output layer.\n",
    "        \"\"\"\n",
    "        x = Lambda(lambda c: tf.image.rgb_to_grayscale(c))(inputs)\n",
    "        x = self.make_default_hidden_layers(inputs)\n",
    "        x = Flatten()(x)\n",
    "        x = Dense(128)(x)\n",
    "        x = Activation(\"relu\")(x)\n",
    "        x = BatchNormalization()(x)\n",
    "        x = Dropout(0.5)(x)\n",
    "        x = Dense(num_genders)(x)\n",
    "        x = Activation(\"sigmoid\", name=\"gender_output\")(x)\n",
    "        return x\n",
    "    def build_age_branch(self, inputs):   \n",
    "        \"\"\"\n",
    "        Used to build the age branch of our face recognition network.\n",
    "        This branch is composed of three Conv -> BN -> Pool -> Dropout blocks, \n",
    "        followed by the Dense output layer.\n",
    "        \"\"\"\n",
    "        x = self.make_default_hidden_layers(inputs)\n",
    "        x = Flatten()(x)\n",
    "        x = Dense(128)(x)\n",
    "        x = Activation(\"relu\")(x)\n",
    "        x = BatchNormalization()(x)\n",
    "        x = Dropout(0.5)(x)\n",
    "        x = Dense(1)(x)\n",
    "        x = Activation(\"linear\", name=\"age_output\")(x)\n",
    "        return x\n",
    "    def assemble_full_model(self, width, height, num_races):\n",
    "        \"\"\"\n",
    "        Used to assemble our multi-output model CNN.\n",
    "        \"\"\"\n",
    "        input_shape = (height, width, 3)\n",
    "        inputs = Input(shape=input_shape)\n",
    "        age_branch = self.build_age_branch(inputs)\n",
    "        race_branch = self.build_race_branch(inputs, num_races)\n",
    "        gender_branch = self.build_gender_branch(inputs)\n",
    "        model = Model(inputs=inputs,\n",
    "                     outputs = [age_branch, race_branch, gender_branch],\n",
    "                     name=\"face_net\")\n",
    "        return model\n",
    "    \n",
    "model = UtkMultiOutputModel().assemble_full_model(IM_WIDTH, IM_HEIGHT, num_races=len(dataset_dict['race_alias']))"
   ]
  }
 ],
 "metadata": {
  "kernelspec": {
   "display_name": "Python 3.10.6 ('venv': venv)",
   "language": "python",
   "name": "python3"
  },
  "language_info": {
   "codemirror_mode": {
    "name": "ipython",
    "version": 3
   },
   "file_extension": ".py",
   "mimetype": "text/x-python",
   "name": "python",
   "nbconvert_exporter": "python",
   "pygments_lexer": "ipython3",
   "version": "3.10.6"
  },
  "orig_nbformat": 4,
  "vscode": {
   "interpreter": {
    "hash": "ca1c6f47e78944e5b11f7d3b44b6206ab4f171b310471b46fba50959eb66c8df"
   }
  }
 },
 "nbformat": 4,
 "nbformat_minor": 2
}
