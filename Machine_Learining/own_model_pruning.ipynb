{
 "cells": [
  {
   "cell_type": "code",
   "execution_count": 2,
   "metadata": {},
   "outputs": [],
   "source": [
    "import os\n",
    "import tensorflow as tf\n",
    "import keras\n",
    "import numpy as np\n",
    "import pandas as pd\n",
    "from sklearn.model_selection import train_test_split\n",
    "from keras.utils import to_categorical"
   ]
  },
  {
   "cell_type": "code",
   "execution_count": 9,
   "metadata": {},
   "outputs": [],
   "source": [
    "df = pd.read_csv(\"../static_merged_data.csv\")\n",
    "x = df.drop(labels=\"status\", axis=1)\n",
    "y = df[[\"status\"]]\n",
    "\n",
    "def prepare_train_test_set(X, Y, num_classes):\n",
    "    X_train, X_test, y_train, y_test = train_test_split(X, Y, shuffle=True, test_size=.2)\n",
    "    train_labels = y_train.status.astype('category').cat.codes.to_numpy()\n",
    "    test_labels = y_test.status.astype('category').cat.codes.to_numpy()\n",
    "    X_train.to_numpy()\n",
    "    X_test.to_numpy()\n",
    "    return (X_train, X_test), (train_labels, test_labels)"
   ]
  },
  {
   "cell_type": "code",
   "execution_count": 10,
   "metadata": {},
   "outputs": [],
   "source": [
    "(X_train, X_test), (train_labels, test_labels) = prepare_train_test_set(x,y,3)"
   ]
  },
  {
   "cell_type": "code",
   "execution_count": 85,
   "metadata": {},
   "outputs": [
    {
     "name": "stdout",
     "output_type": "stream",
     "text": [
      "Model: \"best_acc_model\"\n",
      "_________________________________________________________________\n",
      " Layer (type)                Output Shape              Param #   \n",
      "=================================================================\n",
      " dense_58 (Dense)            (None, 64)                320       \n",
      "                                                                 \n",
      " dense_59 (Dense)            (None, 64)                4160      \n",
      "                                                                 \n",
      " dense_60 (Dense)            (None, 128)               8320      \n",
      "                                                                 \n",
      " dense_61 (Dense)            (None, 256)               33024     \n",
      "                                                                 \n",
      " dense_62 (Dense)            (None, 128)               32896     \n",
      "                                                                 \n",
      " dense_63 (Dense)            (None, 16)                2064      \n",
      "                                                                 \n",
      " output_layer (Dense)        (None, 3)                 51        \n",
      "                                                                 \n",
      "=================================================================\n",
      "Total params: 80,835\n",
      "Trainable params: 80,835\n",
      "Non-trainable params: 0\n",
      "_________________________________________________________________\n"
     ]
    }
   ],
   "source": [
    "from keras.models import Model\n",
    "from keras.layers import Dropout\n",
    "from keras.layers import Dense\n",
    "from keras.layers import Input, InputLayer\n",
    "import tensorflow as tf\n",
    "from keras import Sequential\n",
    "from keras.layers import Activation \n",
    "model = Sequential([\n",
    "    InputLayer(input_shape=(4,), name=\"input-layer\"),\n",
    "    Dense(64, activation=\"relu\"),\n",
    "    Dense(64, activation=\"relu\"),\n",
    "    Dense(128, activation=\"relu\"),\n",
    "    Dense(256, activation=\"relu\"),\n",
    "    Dense(128, activation=\"relu\"),\n",
    "    Dense(16, activation=\"relu\"),\n",
    "    Dense(3, name=\"output_layer\")\n",
    "], name=\"best_acc_model\")\n",
    "\n",
    "model.summary()"
   ]
  },
  {
   "cell_type": "code",
   "execution_count": 86,
   "metadata": {},
   "outputs": [
    {
     "name": "stdout",
     "output_type": "stream",
     "text": [
      "Epoch 1/80\n",
      "2168/2168 [==============================] - 6s 3ms/step - loss: 0.7038 - accuracy: 0.6479 - val_loss: 0.2834 - val_accuracy: 0.8704\n",
      "Epoch 2/80\n",
      "2168/2168 [==============================] - 5s 2ms/step - loss: 0.2563 - accuracy: 0.8939 - val_loss: 0.1874 - val_accuracy: 0.9232\n",
      "Epoch 3/80\n",
      "2168/2168 [==============================] - 5s 2ms/step - loss: 0.2234 - accuracy: 0.9063 - val_loss: 0.1903 - val_accuracy: 0.9190\n",
      "Epoch 4/80\n",
      "2168/2168 [==============================] - 5s 2ms/step - loss: 0.1994 - accuracy: 0.9157 - val_loss: 0.1547 - val_accuracy: 0.9349\n",
      "Epoch 5/80\n",
      "2168/2168 [==============================] - 5s 2ms/step - loss: 0.2010 - accuracy: 0.9144 - val_loss: 0.1711 - val_accuracy: 0.9183\n",
      "Epoch 6/80\n",
      "2168/2168 [==============================] - 5s 2ms/step - loss: 0.1849 - accuracy: 0.9212 - val_loss: 0.2547 - val_accuracy: 0.8821\n",
      "Epoch 7/80\n",
      "2168/2168 [==============================] - 5s 2ms/step - loss: 0.1832 - accuracy: 0.9226 - val_loss: 0.1510 - val_accuracy: 0.9329\n",
      "Epoch 8/80\n",
      "2168/2168 [==============================] - 5s 2ms/step - loss: 0.1741 - accuracy: 0.9268 - val_loss: 0.1414 - val_accuracy: 0.9388\n",
      "Epoch 9/80\n",
      "2168/2168 [==============================] - 5s 2ms/step - loss: 0.1701 - accuracy: 0.9276 - val_loss: 0.1606 - val_accuracy: 0.9319\n",
      "Epoch 10/80\n",
      "2168/2168 [==============================] - 5s 2ms/step - loss: 0.1663 - accuracy: 0.9289 - val_loss: 0.1490 - val_accuracy: 0.9341\n",
      "Epoch 11/80\n",
      "2168/2168 [==============================] - 5s 2ms/step - loss: 0.1660 - accuracy: 0.9296 - val_loss: 0.2043 - val_accuracy: 0.9094\n",
      "Epoch 12/80\n",
      "2168/2168 [==============================] - 5s 2ms/step - loss: 0.1592 - accuracy: 0.9318 - val_loss: 0.1296 - val_accuracy: 0.9417\n",
      "Epoch 13/80\n",
      "2168/2168 [==============================] - 5s 2ms/step - loss: 0.1572 - accuracy: 0.9332 - val_loss: 0.1471 - val_accuracy: 0.9324\n",
      "Epoch 14/80\n",
      "2168/2168 [==============================] - 5s 2ms/step - loss: 0.1593 - accuracy: 0.9312 - val_loss: 0.2021 - val_accuracy: 0.9185\n",
      "Epoch 15/80\n",
      "2168/2168 [==============================] - 5s 2ms/step - loss: 0.1543 - accuracy: 0.9336 - val_loss: 0.1864 - val_accuracy: 0.9033\n",
      "Epoch 16/80\n",
      "2168/2168 [==============================] - 5s 2ms/step - loss: 0.1588 - accuracy: 0.9307 - val_loss: 0.1841 - val_accuracy: 0.9184\n",
      "Epoch 17/80\n",
      "2168/2168 [==============================] - 5s 2ms/step - loss: 0.1530 - accuracy: 0.9338 - val_loss: 0.1322 - val_accuracy: 0.9421\n",
      "Epoch 18/80\n",
      "2168/2168 [==============================] - 5s 2ms/step - loss: 0.1542 - accuracy: 0.9330 - val_loss: 0.1423 - val_accuracy: 0.9407\n",
      "Epoch 19/80\n",
      "2168/2168 [==============================] - 5s 2ms/step - loss: 0.1463 - accuracy: 0.9370 - val_loss: 0.1312 - val_accuracy: 0.9443\n",
      "Epoch 20/80\n",
      "2168/2168 [==============================] - 5s 2ms/step - loss: 0.1464 - accuracy: 0.9367 - val_loss: 0.1319 - val_accuracy: 0.9455\n",
      "Epoch 21/80\n",
      "2168/2168 [==============================] - 5s 2ms/step - loss: 0.1513 - accuracy: 0.9344 - val_loss: 0.1421 - val_accuracy: 0.9368\n",
      "Epoch 22/80\n",
      "2168/2168 [==============================] - 5s 3ms/step - loss: 0.1457 - accuracy: 0.9373 - val_loss: 0.1250 - val_accuracy: 0.9475\n",
      "Epoch 23/80\n",
      "2168/2168 [==============================] - 5s 2ms/step - loss: 0.1378 - accuracy: 0.9402 - val_loss: 0.1308 - val_accuracy: 0.9417\n",
      "Epoch 24/80\n",
      "2168/2168 [==============================] - 5s 2ms/step - loss: 0.1389 - accuracy: 0.9414 - val_loss: 0.1518 - val_accuracy: 0.9207\n",
      "Epoch 25/80\n",
      "2168/2168 [==============================] - 5s 2ms/step - loss: 0.1454 - accuracy: 0.9387 - val_loss: 0.2169 - val_accuracy: 0.9106\n",
      "Epoch 26/80\n",
      "2168/2168 [==============================] - 5s 2ms/step - loss: 0.1378 - accuracy: 0.9425 - val_loss: 0.1067 - val_accuracy: 0.9554\n",
      "Epoch 27/80\n",
      "2168/2168 [==============================] - 5s 2ms/step - loss: 0.1329 - accuracy: 0.9438 - val_loss: 0.1095 - val_accuracy: 0.9538\n",
      "Epoch 28/80\n",
      "2168/2168 [==============================] - 5s 2ms/step - loss: 0.1330 - accuracy: 0.9435 - val_loss: 0.1784 - val_accuracy: 0.9281\n",
      "Epoch 29/80\n",
      "2168/2168 [==============================] - 5s 2ms/step - loss: 0.1294 - accuracy: 0.9457 - val_loss: 0.1058 - val_accuracy: 0.9537\n",
      "Epoch 30/80\n",
      "2168/2168 [==============================] - 5s 2ms/step - loss: 0.1281 - accuracy: 0.9461 - val_loss: 0.1222 - val_accuracy: 0.9468\n",
      "Epoch 31/80\n",
      "2168/2168 [==============================] - 5s 2ms/step - loss: 0.1276 - accuracy: 0.9466 - val_loss: 0.1086 - val_accuracy: 0.9545\n",
      "Epoch 32/80\n",
      "2168/2168 [==============================] - 5s 2ms/step - loss: 0.1312 - accuracy: 0.9464 - val_loss: 0.1162 - val_accuracy: 0.9472\n",
      "Epoch 33/80\n",
      "2168/2168 [==============================] - 5s 2ms/step - loss: 0.1348 - accuracy: 0.9430 - val_loss: 0.1093 - val_accuracy: 0.9520\n",
      "Epoch 34/80\n",
      "2168/2168 [==============================] - 6s 3ms/step - loss: 0.1337 - accuracy: 0.9442 - val_loss: 0.1424 - val_accuracy: 0.9377\n",
      "Epoch 35/80\n",
      "2168/2168 [==============================] - 5s 2ms/step - loss: 0.1371 - accuracy: 0.9425 - val_loss: 0.1223 - val_accuracy: 0.9485\n",
      "Epoch 36/80\n",
      "2168/2168 [==============================] - 5s 2ms/step - loss: 0.1314 - accuracy: 0.9442 - val_loss: 0.1013 - val_accuracy: 0.9545\n",
      "Epoch 37/80\n",
      "2168/2168 [==============================] - 5s 2ms/step - loss: 0.1267 - accuracy: 0.9472 - val_loss: 0.1016 - val_accuracy: 0.9597\n",
      "Epoch 38/80\n",
      "2168/2168 [==============================] - 5s 2ms/step - loss: 0.1293 - accuracy: 0.9471 - val_loss: 0.1349 - val_accuracy: 0.9377\n",
      "Epoch 39/80\n",
      "2168/2168 [==============================] - 5s 2ms/step - loss: 0.1140 - accuracy: 0.9533 - val_loss: 0.0948 - val_accuracy: 0.9646\n",
      "Epoch 40/80\n",
      "2168/2168 [==============================] - 5s 2ms/step - loss: 0.1096 - accuracy: 0.9559 - val_loss: 0.1765 - val_accuracy: 0.9268\n",
      "Epoch 41/80\n",
      "2168/2168 [==============================] - 5s 2ms/step - loss: 0.0991 - accuracy: 0.9609 - val_loss: 0.1096 - val_accuracy: 0.9609\n",
      "Epoch 42/80\n",
      "2168/2168 [==============================] - 5s 2ms/step - loss: 0.0967 - accuracy: 0.9617 - val_loss: 0.0585 - val_accuracy: 0.9790\n",
      "Epoch 43/80\n",
      "2168/2168 [==============================] - 5s 2ms/step - loss: 0.0856 - accuracy: 0.9678 - val_loss: 0.0543 - val_accuracy: 0.9789\n",
      "Epoch 44/80\n",
      "2168/2168 [==============================] - 5s 2ms/step - loss: 0.0851 - accuracy: 0.9686 - val_loss: 0.1993 - val_accuracy: 0.9294\n",
      "Epoch 45/80\n",
      "2168/2168 [==============================] - 5s 2ms/step - loss: 0.0993 - accuracy: 0.9616 - val_loss: 0.1176 - val_accuracy: 0.9547\n",
      "Epoch 46/80\n",
      "2168/2168 [==============================] - 5s 2ms/step - loss: 0.0743 - accuracy: 0.9724 - val_loss: 0.0523 - val_accuracy: 0.9778\n",
      "Epoch 47/80\n",
      "2168/2168 [==============================] - 5s 2ms/step - loss: 0.0676 - accuracy: 0.9761 - val_loss: 0.0326 - val_accuracy: 0.9870\n",
      "Epoch 48/80\n",
      "2168/2168 [==============================] - 5s 2ms/step - loss: 0.0926 - accuracy: 0.9644 - val_loss: 0.0421 - val_accuracy: 0.9813\n",
      "Epoch 49/80\n",
      "2168/2168 [==============================] - 5s 2ms/step - loss: 0.1134 - accuracy: 0.9538 - val_loss: 0.0895 - val_accuracy: 0.9629\n",
      "Epoch 50/80\n",
      "2168/2168 [==============================] - 5s 2ms/step - loss: 0.1217 - accuracy: 0.9502 - val_loss: 0.1066 - val_accuracy: 0.9561\n",
      "Epoch 51/80\n",
      "2168/2168 [==============================] - 5s 2ms/step - loss: 0.1188 - accuracy: 0.9523 - val_loss: 0.0947 - val_accuracy: 0.9613\n",
      "Epoch 52/80\n",
      "2168/2168 [==============================] - 5s 2ms/step - loss: 0.1143 - accuracy: 0.9531 - val_loss: 0.1050 - val_accuracy: 0.9556\n",
      "Epoch 53/80\n",
      "2168/2168 [==============================] - 5s 3ms/step - loss: 0.1073 - accuracy: 0.9561 - val_loss: 0.0923 - val_accuracy: 0.9595\n",
      "Epoch 54/80\n",
      "2168/2168 [==============================] - 5s 2ms/step - loss: 0.1149 - accuracy: 0.9536 - val_loss: 0.0767 - val_accuracy: 0.9651\n",
      "Epoch 55/80\n",
      "2168/2168 [==============================] - 5s 2ms/step - loss: 0.1055 - accuracy: 0.9569 - val_loss: 0.1504 - val_accuracy: 0.9442\n",
      "Epoch 56/80\n",
      "2168/2168 [==============================] - 5s 2ms/step - loss: 0.0972 - accuracy: 0.9612 - val_loss: 0.0585 - val_accuracy: 0.9779\n",
      "Epoch 57/80\n",
      "2168/2168 [==============================] - 5s 2ms/step - loss: 0.0856 - accuracy: 0.9681 - val_loss: 0.0591 - val_accuracy: 0.9776\n",
      "Epoch 58/80\n",
      "2168/2168 [==============================] - 5s 2ms/step - loss: 0.0887 - accuracy: 0.9669 - val_loss: 0.1155 - val_accuracy: 0.9412\n",
      "Epoch 59/80\n",
      "2168/2168 [==============================] - 5s 2ms/step - loss: 0.0632 - accuracy: 0.9762 - val_loss: 0.1042 - val_accuracy: 0.9498\n",
      "Epoch 60/80\n",
      "2168/2168 [==============================] - 5s 2ms/step - loss: 0.0619 - accuracy: 0.9763 - val_loss: 0.0355 - val_accuracy: 0.9857\n",
      "Epoch 61/80\n",
      "2168/2168 [==============================] - 5s 2ms/step - loss: 0.0653 - accuracy: 0.9763 - val_loss: 0.0380 - val_accuracy: 0.9857\n",
      "Epoch 62/80\n",
      "2168/2168 [==============================] - 5s 2ms/step - loss: 0.0647 - accuracy: 0.9772 - val_loss: 0.0385 - val_accuracy: 0.9857\n",
      "Epoch 63/80\n",
      "2168/2168 [==============================] - 5s 2ms/step - loss: 0.0529 - accuracy: 0.9796 - val_loss: 0.0289 - val_accuracy: 0.9885\n",
      "Epoch 64/80\n",
      "2168/2168 [==============================] - 5s 2ms/step - loss: 0.0640 - accuracy: 0.9767 - val_loss: 0.2622 - val_accuracy: 0.9084\n",
      "Epoch 65/80\n",
      "2168/2168 [==============================] - 5s 2ms/step - loss: 0.0730 - accuracy: 0.9730 - val_loss: 0.0687 - val_accuracy: 0.9735\n",
      "Epoch 66/80\n",
      "2168/2168 [==============================] - 5s 2ms/step - loss: 0.0773 - accuracy: 0.9707 - val_loss: 0.0584 - val_accuracy: 0.9743\n",
      "Epoch 67/80\n",
      "2168/2168 [==============================] - 5s 2ms/step - loss: 0.0600 - accuracy: 0.9773 - val_loss: 0.0307 - val_accuracy: 0.9869\n",
      "Epoch 68/80\n",
      "2168/2168 [==============================] - 5s 2ms/step - loss: 0.0590 - accuracy: 0.9777 - val_loss: 0.0475 - val_accuracy: 0.9792\n",
      "Epoch 69/80\n",
      "2168/2168 [==============================] - 6s 3ms/step - loss: 0.0589 - accuracy: 0.9774 - val_loss: 0.1291 - val_accuracy: 0.9621\n",
      "Epoch 70/80\n",
      "2168/2168 [==============================] - 5s 2ms/step - loss: 0.0702 - accuracy: 0.9733 - val_loss: 0.0339 - val_accuracy: 0.9874\n",
      "Epoch 71/80\n",
      "2168/2168 [==============================] - 5s 2ms/step - loss: 0.0634 - accuracy: 0.9772 - val_loss: 0.0462 - val_accuracy: 0.9820\n",
      "Epoch 72/80\n",
      "2168/2168 [==============================] - 5s 2ms/step - loss: 0.0648 - accuracy: 0.9757 - val_loss: 0.0366 - val_accuracy: 0.9873\n",
      "Epoch 73/80\n",
      "2168/2168 [==============================] - 5s 2ms/step - loss: 0.0536 - accuracy: 0.9801 - val_loss: 0.0959 - val_accuracy: 0.9628\n",
      "Epoch 74/80\n",
      "2168/2168 [==============================] - 5s 2ms/step - loss: 0.0534 - accuracy: 0.9804 - val_loss: 0.0853 - val_accuracy: 0.9643\n",
      "Epoch 75/80\n",
      "2168/2168 [==============================] - 5s 2ms/step - loss: 0.0568 - accuracy: 0.9794 - val_loss: 0.0272 - val_accuracy: 0.9895\n",
      "Epoch 76/80\n",
      "2168/2168 [==============================] - 5s 2ms/step - loss: 0.0505 - accuracy: 0.9817 - val_loss: 0.1244 - val_accuracy: 0.9533\n",
      "Epoch 77/80\n",
      "2168/2168 [==============================] - 5s 2ms/step - loss: 0.0508 - accuracy: 0.9807 - val_loss: 0.0382 - val_accuracy: 0.9874\n",
      "Epoch 78/80\n",
      "2168/2168 [==============================] - 5s 2ms/step - loss: 0.0556 - accuracy: 0.9795 - val_loss: 0.0847 - val_accuracy: 0.9655\n",
      "Epoch 79/80\n",
      "2168/2168 [==============================] - 5s 2ms/step - loss: 0.0499 - accuracy: 0.9814 - val_loss: 0.0296 - val_accuracy: 0.9882\n",
      "Epoch 80/80\n",
      "2168/2168 [==============================] - 5s 2ms/step - loss: 0.0464 - accuracy: 0.9829 - val_loss: 0.0465 - val_accuracy: 0.9840\n"
     ]
    }
   ],
   "source": [
    "from keras.losses import CategoricalCrossentropy, SparseCategoricalCrossentropy\n",
    "from keras.optimizers import Adam\n",
    "model.compile(optimizer=Adam(), loss=SparseCategoricalCrossentropy(from_logits=True), metrics=[\"accuracy\"])\n",
    "\n",
    "model_checkpoint_callback = tf.keras.callbacks.ModelCheckpoint(\n",
    "    filepath=(model.name + \".h5\"),\n",
    "    save_weights_only=False,\n",
    "    monitor='val_acc',\n",
    "    mode='max',\n",
    "    save_best_only=True)\n",
    "\n",
    "history = model.fit(X_train, train_labels, epochs=80, validation_split=0.1)"
   ]
  },
  {
   "cell_type": "code",
   "execution_count": 110,
   "metadata": {},
   "outputs": [
    {
     "name": "stdout",
     "output_type": "stream",
     "text": [
      "Baseline model accuracy:  0.9807991981506348\n"
     ]
    }
   ],
   "source": [
    "_, baseline_model_accuracy = model.evaluate(X_test,test_labels, verbose=0)\n",
    "print(\"Baseline model accuracy: \", baseline_model_accuracy)"
   ]
  },
  {
   "cell_type": "code",
   "execution_count": 111,
   "metadata": {},
   "outputs": [],
   "source": [
    "keras.models.save_model(model, \"own_model.h5\", include_optimizer=False)"
   ]
  },
  {
   "cell_type": "markdown",
   "metadata": {},
   "source": [
    "# Fine-tune pre-trained model with pruning"
   ]
  },
  {
   "cell_type": "code",
   "execution_count": 133,
   "metadata": {},
   "outputs": [
    {
     "name": "stdout",
     "output_type": "stream",
     "text": [
      "Model: \"best_acc_model\"\n",
      "_________________________________________________________________\n",
      " Layer (type)                Output Shape              Param #   \n",
      "=================================================================\n",
      " prune_low_magnitude_dense_5  (None, 64)               578       \n",
      " 8 (PruneLowMagnitude)                                           \n",
      "                                                                 \n",
      " prune_low_magnitude_dense_5  (None, 64)               8258      \n",
      " 9 (PruneLowMagnitude)                                           \n",
      "                                                                 \n",
      " prune_low_magnitude_dense_6  (None, 128)              16514     \n",
      " 0 (PruneLowMagnitude)                                           \n",
      "                                                                 \n",
      " prune_low_magnitude_dense_6  (None, 256)              65794     \n",
      " 1 (PruneLowMagnitude)                                           \n",
      "                                                                 \n",
      " prune_low_magnitude_dense_6  (None, 128)              65666     \n",
      " 2 (PruneLowMagnitude)                                           \n",
      "                                                                 \n",
      " prune_low_magnitude_dense_6  (None, 16)               4114      \n",
      " 3 (PruneLowMagnitude)                                           \n",
      "                                                                 \n",
      " prune_low_magnitude_output_  (None, 3)                101       \n",
      " layer (PruneLowMagnitude)                                       \n",
      "                                                                 \n",
      "=================================================================\n",
      "Total params: 161,025\n",
      "Trainable params: 80,835\n",
      "Non-trainable params: 80,190\n",
      "_________________________________________________________________\n"
     ]
    }
   ],
   "source": [
    "import tensorflow_model_optimization as tfmot\n",
    "\n",
    "prune_low_magnitude = tfmot.sparsity.keras.prune_low_magnitude\n",
    "\n",
    "batch_size = 128\n",
    "epochs = 2\n",
    "validation_split = 0.1\n",
    "\n",
    "num_samples = X_train.shape[0] * (1 - validation_split)\n",
    "end_step = np.ceil(num_samples/batch_size).astype(np.int32) * epochs\n",
    "\n",
    "# Define model for pruning\n",
    "pruning_params = {\n",
    "    'pruning_schedule': tfmot.sparsity.keras.PolynomialDecay(initial_sparsity=0.50, final_sparsity=0.80, begin_step=0, end_step=end_step)\n",
    "}\n",
    "\n",
    "model_for_pruning = prune_low_magnitude(model, **pruning_params)\n",
    "\n",
    "# prune_low_magnitude requires a recompile\n",
    "\n",
    "model_for_pruning.compile(optimizer='adam', loss= keras.losses.SparseCategoricalCrossentropy(from_logits=True), metrics=['accuracy'])\n",
    "model_for_pruning.summary()"
   ]
  },
  {
   "cell_type": "markdown",
   "metadata": {},
   "source": [
    "# Train and evalute the model against baseline model"
   ]
  },
  {
   "cell_type": "code",
   "execution_count": 134,
   "metadata": {},
   "outputs": [
    {
     "name": "stdout",
     "output_type": "stream",
     "text": [
      "Epoch 1/2\n",
      "  1/542 [..............................] - ETA: 35:33 - loss: 0.0327 - accuracy: 0.9922WARNING:tensorflow:Callback method `on_train_batch_end` is slow compared to the batch time (batch time: 0.0043s vs `on_train_batch_end` time: 0.0131s). Check your callbacks.\n"
     ]
    },
    {
     "name": "stderr",
     "output_type": "stream",
     "text": [
      "WARNING:tensorflow:Callback method `on_train_batch_end` is slow compared to the batch time (batch time: 0.0043s vs `on_train_batch_end` time: 0.0131s). Check your callbacks.\n"
     ]
    },
    {
     "name": "stdout",
     "output_type": "stream",
     "text": [
      "542/542 [==============================] - 6s 5ms/step - loss: 0.0493 - accuracy: 0.9829 - val_loss: 0.0367 - val_accuracy: 0.9872\n",
      "Epoch 2/2\n",
      "542/542 [==============================] - 2s 4ms/step - loss: 0.0369 - accuracy: 0.9876 - val_loss: 0.0404 - val_accuracy: 0.9873\n"
     ]
    },
    {
     "data": {
      "text/plain": [
       "<keras.callbacks.History at 0x179c97fb460>"
      ]
     },
     "execution_count": 134,
     "metadata": {},
     "output_type": "execute_result"
    }
   ],
   "source": [
    "callbacks = [\n",
    "    tfmot.sparsity.keras.UpdatePruningStep(),\n",
    "    tfmot.sparsity.keras.PruningSummaries(\"log_pruning_results\")\n",
    "]\n",
    "\n",
    "model_for_pruning.fit(X_train,train_labels, batch_size=batch_size, epochs=epochs, validation_split=validation_split, callbacks=callbacks)"
   ]
  },
  {
   "cell_type": "code",
   "execution_count": 135,
   "metadata": {},
   "outputs": [
    {
     "name": "stdout",
     "output_type": "stream",
     "text": [
      "Baseline test accuracy:  0.9807991981506348\n",
      "Pruned test accuracy:  0.9869226813316345\n"
     ]
    }
   ],
   "source": [
    "_, model_for_pruning_accuracy = model_for_pruning.evaluate(X_test, test_labels, verbose=0)\n",
    "\n",
    "print(\"Baseline test accuracy: \", baseline_model_accuracy)\n",
    "print(\"Pruned test accuracy: \", model_for_pruning_accuracy)"
   ]
  },
  {
   "cell_type": "code",
   "execution_count": 136,
   "metadata": {},
   "outputs": [
    {
     "name": "stdout",
     "output_type": "stream",
     "text": [
      "WARNING:tensorflow:Compiled the loaded model, but the compiled metrics have yet to be built. `model.compile_metrics` will be empty until you train or evaluate the model.\n"
     ]
    },
    {
     "name": "stderr",
     "output_type": "stream",
     "text": [
      "WARNING:tensorflow:Compiled the loaded model, but the compiled metrics have yet to be built. `model.compile_metrics` will be empty until you train or evaluate the model.\n"
     ]
    }
   ],
   "source": [
    "# strip_pruning removes every tf.Variable that pruning only needs during training, which would otherwise add to model size during inference\n",
    "model_for_export = tfmot.sparsity.keras.strip_pruning(model_for_pruning)\n",
    "\n",
    "pruned_keras_file = \"pruned_own_model.h5\"\n",
    "keras.models.save_model(model_for_export, pruned_keras_file, include_optimizer=False)"
   ]
  },
  {
   "cell_type": "code",
   "execution_count": 137,
   "metadata": {},
   "outputs": [
    {
     "name": "stderr",
     "output_type": "stream",
     "text": [
      "WARNING:absl:Function `_wrapped_model` contains input name(s) input-layer with unsupported characters which will be renamed to input_layer in the SavedModel.\n"
     ]
    },
    {
     "name": "stdout",
     "output_type": "stream",
     "text": [
      "INFO:tensorflow:Assets written to: C:\\Users\\sandr\\AppData\\Local\\Temp\\tmpfvwlp0fb\\assets\n"
     ]
    },
    {
     "name": "stderr",
     "output_type": "stream",
     "text": [
      "INFO:tensorflow:Assets written to: C:\\Users\\sandr\\AppData\\Local\\Temp\\tmpfvwlp0fb\\assets\n"
     ]
    }
   ],
   "source": [
    "converter = tf.lite.TFLiteConverter.from_keras_model(model_for_export)\n",
    "pruned_tflite_model = converter.convert()\n",
    "\n",
    "pruned_tflite_file = \"pruned_tflite_own_model.tflite\"\n",
    "\n",
    "with open(pruned_tflite_file, \"wb\") as f:\n",
    "    f.write(pruned_tflite_model)"
   ]
  },
  {
   "cell_type": "code",
   "execution_count": 138,
   "metadata": {},
   "outputs": [],
   "source": [
    "import gzip\n",
    "import os \n",
    "import zipfile\n",
    "def get_gzipped_model_size(file, file_name):\n",
    "    # Returns size of gzipped model, in bytes\n",
    "    zipped_file = file_name + \".zip\"\n",
    "\n",
    "    with zipfile.ZipFile(zipped_file, \"w\", compression=zipfile.ZIP_DEFLATED) as f:\n",
    "        f.write(file)\n",
    "\n",
    "    return os.path.getsize(zipped_file)"
   ]
  },
  {
   "cell_type": "code",
   "execution_count": 139,
   "metadata": {},
   "outputs": [
    {
     "name": "stderr",
     "output_type": "stream",
     "text": [
      "WARNING:absl:Function `_wrapped_model` contains input name(s) input-layer with unsupported characters which will be renamed to input_layer in the SavedModel.\n"
     ]
    },
    {
     "name": "stdout",
     "output_type": "stream",
     "text": [
      "INFO:tensorflow:Assets written to: C:\\Users\\sandr\\AppData\\Local\\Temp\\tmpakd2ss0r\\assets\n"
     ]
    },
    {
     "name": "stderr",
     "output_type": "stream",
     "text": [
      "INFO:tensorflow:Assets written to: C:\\Users\\sandr\\AppData\\Local\\Temp\\tmpakd2ss0r\\assets\n"
     ]
    }
   ],
   "source": [
    "converter = tf.lite.TFLiteConverter.from_keras_model(model_for_export)\n",
    "converter.optimizations = [tf.lite.Optimize.DEFAULT]\n",
    "quantized_and_pruned_tflite_model = converter.convert()\n",
    "quantized_and_pruned_tflite_file = \"quantized_pruned_own_model.tflite\"\n",
    "\n",
    "with open(quantized_and_pruned_tflite_file, \"wb\") as f:\n",
    "    f.write(quantized_and_pruned_tflite_model)"
   ]
  },
  {
   "cell_type": "code",
   "execution_count": 140,
   "metadata": {},
   "outputs": [
    {
     "name": "stdout",
     "output_type": "stream",
     "text": [
      "Size of gzipped baseline Keras model: 100225.00 bytes\n",
      "Size of gzipped pruned Keras model: 100335.00 bytes\n",
      "Size of gzipped pruned TFLite model: 98797.00 bytes\n",
      "Size of gzipped quantized pruned TFLite model: 27954.00 bytes\n"
     ]
    }
   ],
   "source": [
    "print(\"Size of gzipped baseline Keras model: %.2f bytes\" % (get_gzipped_model_size(\"own_model.h5\", \"zip_own_model\")))\n",
    "print(\"Size of gzipped pruned Keras model: %.2f bytes\" % (get_gzipped_model_size(\"pruned_own_model.h5\", \"zip_pruned_own_model\")))\n",
    "print(\"Size of gzipped pruned TFLite model: %.2f bytes\" % (get_gzipped_model_size(\"pruned_tflite_own_model.tflite\", \"zip_pruned_tflite_own_model\")))\n",
    "print(\"Size of gzipped quantized pruned TFLite model: %.2f bytes\" % (get_gzipped_model_size(\"quantized_pruned_own_model.tflite\", \"zip_quantized_pruned_own_model\")))"
   ]
  },
  {
   "cell_type": "code",
   "execution_count": 150,
   "metadata": {},
   "outputs": [],
   "source": [
    "import numpy as np\n",
    "\n",
    "def evaluate_model(interpreter):\n",
    "    input_index = interpreter.get_input_details()[0][\"index\"]\n",
    "    output_index = interpreter.get_output_details()[0][\"index\"]\n",
    "\n",
    "    # Run predictions on over y image in the test dataset\n",
    "    prediction_digits = []\n",
    "    for i, test_image in enumerate(X_test.to_numpy()):\n",
    "        if i % 1000 == 0:\n",
    "            print(\"Evaluated on {n} results so far.\".format(n=i))\n",
    "        \n",
    "        # Pre-processing: add batch dimension and convert to float32 to match with the model's input data format\n",
    "        test_image = np.expand_dims(test_image, axis=0).astype(np.float32)\n",
    "        interpreter.set_tensor(input_index, test_image)\n",
    "\n",
    "        # Run inference\n",
    "        interpreter.invoke()\n",
    "\n",
    "        # Post-processing: remove batch dimension and find the digit with highest probability\n",
    "        output = interpreter.tensor(output_index)\n",
    "        digit = np.argmax(output()[0])\n",
    "        prediction_digits.append(digit)\n",
    "\n",
    "    print(\"\\n\")\n",
    "\n",
    "    # Compare prediction result with ground truth labels to calculate accuracy\n",
    "    prediction_digits = np.array(prediction_digits)\n",
    "    accuracy = (prediction_digits == test_labels).mean()\n",
    "    return accuracy"
   ]
  },
  {
   "cell_type": "code",
   "execution_count": 151,
   "metadata": {},
   "outputs": [
    {
     "name": "stdout",
     "output_type": "stream",
     "text": [
      "Evaluated on 0 results so far.\n",
      "Evaluated on 1000 results so far.\n",
      "Evaluated on 2000 results so far.\n",
      "Evaluated on 3000 results so far.\n",
      "Evaluated on 4000 results so far.\n",
      "Evaluated on 5000 results so far.\n",
      "Evaluated on 6000 results so far.\n",
      "Evaluated on 7000 results so far.\n",
      "Evaluated on 8000 results so far.\n",
      "Evaluated on 9000 results so far.\n",
      "Evaluated on 10000 results so far.\n",
      "Evaluated on 11000 results so far.\n",
      "Evaluated on 12000 results so far.\n",
      "Evaluated on 13000 results so far.\n",
      "Evaluated on 14000 results so far.\n",
      "Evaluated on 15000 results so far.\n",
      "Evaluated on 16000 results so far.\n",
      "Evaluated on 17000 results so far.\n",
      "Evaluated on 18000 results so far.\n",
      "Evaluated on 19000 results so far.\n",
      "\n",
      "\n",
      "Pruned and quantized TFLite test_accuracy:  0.7180591593149974\n",
      "Pruned TF test accuracy:  0.9869226813316345\n"
     ]
    }
   ],
   "source": [
    "interpreter = tf.lite.Interpreter(model_content=quantized_and_pruned_tflite_model)\n",
    "interpreter.allocate_tensors()\n",
    "\n",
    "test_accuracy = evaluate_model(interpreter)\n",
    "\n",
    "print(\"Pruned and quantized TFLite test_accuracy: \", test_accuracy)\n",
    "print(\"Pruned TF test accuracy: \", model_for_pruning_accuracy)"
   ]
  },
  {
   "cell_type": "code",
   "execution_count": 152,
   "metadata": {},
   "outputs": [],
   "source": [
    "def representative_dataset():\n",
    "    for sample in X_train.to_numpy()[:500,:]:\n",
    "      yield [sample.astype(np.float32)]"
   ]
  },
  {
   "cell_type": "code",
   "execution_count": 153,
   "metadata": {},
   "outputs": [
    {
     "name": "stderr",
     "output_type": "stream",
     "text": [
      "WARNING:absl:Function `_wrapped_model` contains input name(s) input-layer with unsupported characters which will be renamed to input_layer in the SavedModel.\n"
     ]
    },
    {
     "name": "stdout",
     "output_type": "stream",
     "text": [
      "INFO:tensorflow:Assets written to: C:\\Users\\sandr\\AppData\\Local\\Temp\\tmpvb_cwjdp\\assets\n"
     ]
    },
    {
     "name": "stderr",
     "output_type": "stream",
     "text": [
      "INFO:tensorflow:Assets written to: C:\\Users\\sandr\\AppData\\Local\\Temp\\tmpvb_cwjdp\\assets\n",
      "c:\\Users\\sandr\\source\\repos\\Monitoring_Converter_ML\\venv\\lib\\site-packages\\tensorflow\\lite\\python\\convert.py:766: UserWarning: Statistics for quantized inputs were expected, but not specified; continuing anyway.\n",
      "  warnings.warn(\"Statistics for quantized inputs were expected, but not \"\n"
     ]
    }
   ],
   "source": [
    "import tensorflow as tf\n",
    "converter = tf.lite.TFLiteConverter.from_keras_model(model_for_export)\n",
    "converter.optimizations = [tf.lite.Optimize.DEFAULT]\n",
    "converter.representative_dataset = representative_dataset\n",
    "tflite_quant_model = converter.convert()"
   ]
  },
  {
   "cell_type": "code",
   "execution_count": 124,
   "metadata": {},
   "outputs": [
    {
     "name": "stderr",
     "output_type": "stream",
     "text": [
      "WARNING:absl:Function `_wrapped_model` contains input name(s) input-layer with unsupported characters which will be renamed to input_layer in the SavedModel.\n"
     ]
    },
    {
     "name": "stdout",
     "output_type": "stream",
     "text": [
      "INFO:tensorflow:Assets written to: C:\\Users\\sandr\\AppData\\Local\\Temp\\tmpfgza5fy0\\assets\n"
     ]
    },
    {
     "name": "stderr",
     "output_type": "stream",
     "text": [
      "INFO:tensorflow:Assets written to: C:\\Users\\sandr\\AppData\\Local\\Temp\\tmpfgza5fy0\\assets\n",
      "c:\\Users\\sandr\\source\\repos\\Monitoring_Converter_ML\\venv\\lib\\site-packages\\tensorflow\\lite\\python\\convert.py:766: UserWarning: Statistics for quantized inputs were expected, but not specified; continuing anyway.\n",
      "  warnings.warn(\"Statistics for quantized inputs were expected, but not \"\n"
     ]
    }
   ],
   "source": [
    "import tensorflow as tf\n",
    "converter = tf.lite.TFLiteConverter.from_keras_model(model_for_export)\n",
    "converter.optimizations = [tf.lite.Optimize.DEFAULT]\n",
    "converter.representative_dataset = representative_dataset\n",
    "converter.target_spec.supported_ops = [tf.lite.OpsSet.TFLITE_BUILTINS_INT8]\n",
    "converter.inference_input_type = tf.int8  # or tf.uint8\n",
    "converter.inference_output_type = tf.int8  # or tf.uint8\n",
    "tflite_quant_model_int8 = converter.convert()"
   ]
  },
  {
   "cell_type": "code",
   "execution_count": 154,
   "metadata": {},
   "outputs": [
    {
     "name": "stdout",
     "output_type": "stream",
     "text": [
      "Evaluated on 0 results so far.\n",
      "Evaluated on 1000 results so far.\n",
      "Evaluated on 2000 results so far.\n",
      "Evaluated on 3000 results so far.\n",
      "Evaluated on 4000 results so far.\n",
      "Evaluated on 5000 results so far.\n",
      "Evaluated on 6000 results so far.\n",
      "Evaluated on 7000 results so far.\n",
      "Evaluated on 8000 results so far.\n",
      "Evaluated on 9000 results so far.\n",
      "Evaluated on 10000 results so far.\n",
      "Evaluated on 11000 results so far.\n",
      "Evaluated on 12000 results so far.\n",
      "Evaluated on 13000 results so far.\n",
      "Evaluated on 14000 results so far.\n",
      "Evaluated on 15000 results so far.\n",
      "Evaluated on 16000 results so far.\n",
      "Evaluated on 17000 results so far.\n",
      "Evaluated on 18000 results so far.\n",
      "Evaluated on 19000 results so far.\n",
      "\n",
      "\n",
      "Pruned and quantized TFLite test_accuracy:  0.6409963674104826\n",
      "Pruned TF test accuracy:  0.9869226813316345\n"
     ]
    }
   ],
   "source": [
    "interpreter = tf.lite.Interpreter(model_content=tflite_quant_model)\n",
    "interpreter.allocate_tensors()\n",
    "# interpreter_int8 = tf.lite.Interpreter(model_content=tflite_quant_model_int8)\n",
    "# interpreter_int8.allocate_tensors()\n",
    "test_accuracy = evaluate_model(interpreter)\n",
    "# test_accuracy_int8 = evaluate_model(interpreter_int8)\n",
    "\n",
    "\n",
    "print(\"Pruned and quantized TFLite test_accuracy: \", test_accuracy)\n",
    "# print(\"Int_8 Pruned and quantized TFLite test_accuracy: \", test_accuracy_int8)\n",
    "print(\"Pruned TF test accuracy: \", model_for_pruning_accuracy)"
   ]
  }
 ],
 "metadata": {
  "kernelspec": {
   "display_name": "Python 3.10.8 ('venv': venv)",
   "language": "python",
   "name": "python3"
  },
  "language_info": {
   "codemirror_mode": {
    "name": "ipython",
    "version": 3
   },
   "file_extension": ".py",
   "mimetype": "text/x-python",
   "name": "python",
   "nbconvert_exporter": "python",
   "pygments_lexer": "ipython3",
   "version": "3.10.9 (tags/v3.10.9:1dd9be6, Dec  6 2022, 20:01:21) [MSC v.1934 64 bit (AMD64)]"
  },
  "orig_nbformat": 4,
  "vscode": {
   "interpreter": {
    "hash": "ca1c6f47e78944e5b11f7d3b44b6206ab4f171b310471b46fba50959eb66c8df"
   }
  }
 },
 "nbformat": 4,
 "nbformat_minor": 2
}
