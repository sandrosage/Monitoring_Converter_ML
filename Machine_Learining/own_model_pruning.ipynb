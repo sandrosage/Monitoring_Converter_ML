{
 "cells": [
  {
   "cell_type": "code",
   "execution_count": 1,
   "metadata": {},
   "outputs": [],
   "source": [
    "import os\n",
    "import tensorflow as tf\n",
    "import keras\n",
    "import numpy as np\n",
    "import pandas as pd\n",
    "from sklearn.model_selection import train_test_split\n",
    "from keras.utils import to_categorical"
   ]
  },
  {
   "cell_type": "code",
   "execution_count": 2,
   "metadata": {},
   "outputs": [],
   "source": [
    "df = pd.read_csv(\"../static_merged_data.csv\")\n",
    "x = df.drop(labels=\"status\", axis=1)\n",
    "y = df[[\"status\"]]\n",
    "\n",
    "def prepare_train_test_set(X, Y, num_classes):\n",
    "    X_train, X_test, y_train, y_test = train_test_split(X, Y, shuffle=True, test_size=.2)\n",
    "    train_labels = y_train.status.astype('category').cat.codes.to_numpy()\n",
    "    test_labels = y_test.status.astype('category').cat.codes.to_numpy()\n",
    "    X_train.to_numpy()\n",
    "    X_test.to_numpy()\n",
    "    return (X_train, X_test), (train_labels, test_labels)"
   ]
  },
  {
   "cell_type": "code",
   "execution_count": 3,
   "metadata": {},
   "outputs": [],
   "source": [
    "(X_train, X_test), (train_labels, test_labels) = prepare_train_test_set(x,y,3)"
   ]
  },
  {
   "cell_type": "code",
   "execution_count": 4,
   "metadata": {},
   "outputs": [
    {
     "name": "stdout",
     "output_type": "stream",
     "text": [
      "Model: \"best_acc_model\"\n",
      "_________________________________________________________________\n",
      " Layer (type)                Output Shape              Param #   \n",
      "=================================================================\n",
      " dense (Dense)               (None, 64)                320       \n",
      "                                                                 \n",
      " dense_1 (Dense)             (None, 64)                4160      \n",
      "                                                                 \n",
      " dense_2 (Dense)             (None, 128)               8320      \n",
      "                                                                 \n",
      " dense_3 (Dense)             (None, 256)               33024     \n",
      "                                                                 \n",
      " dense_4 (Dense)             (None, 128)               32896     \n",
      "                                                                 \n",
      " dense_5 (Dense)             (None, 16)                2064      \n",
      "                                                                 \n",
      " output_layer (Dense)        (None, 3)                 51        \n",
      "                                                                 \n",
      "=================================================================\n",
      "Total params: 80,835\n",
      "Trainable params: 80,835\n",
      "Non-trainable params: 0\n",
      "_________________________________________________________________\n"
     ]
    }
   ],
   "source": [
    "from keras.models import Model\n",
    "from keras.layers import Dropout\n",
    "from keras.layers import Dense\n",
    "from keras.layers import Input, InputLayer\n",
    "import tensorflow as tf\n",
    "from keras import Sequential\n",
    "from keras.layers import Activation \n",
    "model = Sequential([\n",
    "    InputLayer(input_shape=(4,), name=\"input-layer\"),\n",
    "    Dense(64, activation=\"relu\"),\n",
    "    Dense(64, activation=\"relu\"),\n",
    "    Dense(128, activation=\"relu\"),\n",
    "    Dense(256, activation=\"relu\"),\n",
    "    Dense(128, activation=\"relu\"),\n",
    "    Dense(16, activation=\"relu\"),\n",
    "    Dense(3, name=\"output_layer\")\n",
    "], name=\"best_acc_model\")\n",
    "\n",
    "model.summary()"
   ]
  },
  {
   "cell_type": "code",
   "execution_count": 5,
   "metadata": {},
   "outputs": [
    {
     "name": "stdout",
     "output_type": "stream",
     "text": [
      "Epoch 1/80\n",
      "2168/2168 [==============================] - 7s 3ms/step - loss: 0.7349 - accuracy: 0.6314 - val_loss: 0.3778 - val_accuracy: 0.8426\n",
      "Epoch 2/80\n",
      "2168/2168 [==============================] - 6s 3ms/step - loss: 0.2576 - accuracy: 0.8912 - val_loss: 0.3434 - val_accuracy: 0.8486\n",
      "Epoch 3/80\n",
      "2168/2168 [==============================] - 5s 3ms/step - loss: 0.2121 - accuracy: 0.9111 - val_loss: 0.2339 - val_accuracy: 0.9036\n",
      "Epoch 4/80\n",
      "2168/2168 [==============================] - 6s 3ms/step - loss: 0.2018 - accuracy: 0.9146 - val_loss: 0.1666 - val_accuracy: 0.9294\n",
      "Epoch 5/80\n",
      "2168/2168 [==============================] - 6s 3ms/step - loss: 0.1932 - accuracy: 0.9185 - val_loss: 0.1471 - val_accuracy: 0.9385\n",
      "Epoch 6/80\n",
      "2168/2168 [==============================] - 5s 2ms/step - loss: 0.1875 - accuracy: 0.9198 - val_loss: 0.1965 - val_accuracy: 0.9205\n",
      "Epoch 7/80\n",
      "2168/2168 [==============================] - 5s 2ms/step - loss: 0.1816 - accuracy: 0.9240 - val_loss: 0.1521 - val_accuracy: 0.9337\n",
      "Epoch 8/80\n",
      "2168/2168 [==============================] - 5s 2ms/step - loss: 0.1789 - accuracy: 0.9237 - val_loss: 0.2193 - val_accuracy: 0.8948\n",
      "Epoch 9/80\n",
      "2168/2168 [==============================] - 5s 2ms/step - loss: 0.1749 - accuracy: 0.9258 - val_loss: 0.1677 - val_accuracy: 0.9258\n",
      "Epoch 10/80\n",
      "2168/2168 [==============================] - 5s 3ms/step - loss: 0.1730 - accuracy: 0.9267 - val_loss: 0.1429 - val_accuracy: 0.9393\n",
      "Epoch 11/80\n",
      "2168/2168 [==============================] - 6s 3ms/step - loss: 0.1695 - accuracy: 0.9274 - val_loss: 0.1916 - val_accuracy: 0.9166\n",
      "Epoch 12/80\n",
      "2168/2168 [==============================] - 6s 3ms/step - loss: 0.1636 - accuracy: 0.9302 - val_loss: 0.1639 - val_accuracy: 0.9286\n",
      "Epoch 13/80\n",
      "2168/2168 [==============================] - 6s 3ms/step - loss: 0.1639 - accuracy: 0.9292 - val_loss: 0.1541 - val_accuracy: 0.9355\n",
      "Epoch 14/80\n",
      "2168/2168 [==============================] - 6s 3ms/step - loss: 0.1620 - accuracy: 0.9298 - val_loss: 0.1511 - val_accuracy: 0.9366\n",
      "Epoch 15/80\n",
      "2168/2168 [==============================] - 6s 3ms/step - loss: 0.1605 - accuracy: 0.9313 - val_loss: 0.1411 - val_accuracy: 0.9402\n",
      "Epoch 16/80\n",
      "2168/2168 [==============================] - 6s 3ms/step - loss: 0.1540 - accuracy: 0.9339 - val_loss: 0.1478 - val_accuracy: 0.9406\n",
      "Epoch 17/80\n",
      "2168/2168 [==============================] - 7s 3ms/step - loss: 0.1596 - accuracy: 0.9304 - val_loss: 0.1308 - val_accuracy: 0.9424\n",
      "Epoch 18/80\n",
      "2168/2168 [==============================] - 6s 3ms/step - loss: 0.1588 - accuracy: 0.9324 - val_loss: 0.1884 - val_accuracy: 0.9058\n",
      "Epoch 19/80\n",
      "2168/2168 [==============================] - 6s 3ms/step - loss: 0.1532 - accuracy: 0.9340 - val_loss: 0.1329 - val_accuracy: 0.9417\n",
      "Epoch 20/80\n",
      "2168/2168 [==============================] - 7s 3ms/step - loss: 0.1484 - accuracy: 0.9363 - val_loss: 0.1377 - val_accuracy: 0.9420\n",
      "Epoch 21/80\n",
      "2168/2168 [==============================] - 6s 3ms/step - loss: 0.1474 - accuracy: 0.9374 - val_loss: 0.1154 - val_accuracy: 0.9508\n",
      "Epoch 22/80\n",
      "2168/2168 [==============================] - 5s 3ms/step - loss: 0.1483 - accuracy: 0.9358 - val_loss: 0.1443 - val_accuracy: 0.9414\n",
      "Epoch 23/80\n",
      "2168/2168 [==============================] - 6s 3ms/step - loss: 0.1421 - accuracy: 0.9387 - val_loss: 0.1208 - val_accuracy: 0.9476\n",
      "Epoch 24/80\n",
      "2168/2168 [==============================] - 6s 3ms/step - loss: 0.1439 - accuracy: 0.9403 - val_loss: 0.1108 - val_accuracy: 0.9489\n",
      "Epoch 25/80\n",
      "2168/2168 [==============================] - 6s 3ms/step - loss: 0.1395 - accuracy: 0.9394 - val_loss: 0.1589 - val_accuracy: 0.9347\n",
      "Epoch 26/80\n",
      "2168/2168 [==============================] - 8s 3ms/step - loss: 0.1327 - accuracy: 0.9442 - val_loss: 0.1080 - val_accuracy: 0.9602\n",
      "Epoch 27/80\n",
      "2168/2168 [==============================] - 6s 3ms/step - loss: 0.1358 - accuracy: 0.9421 - val_loss: 0.1011 - val_accuracy: 0.9578\n",
      "Epoch 28/80\n",
      "2168/2168 [==============================] - 6s 3ms/step - loss: 0.1341 - accuracy: 0.9439 - val_loss: 0.1196 - val_accuracy: 0.9550\n",
      "Epoch 29/80\n",
      "2168/2168 [==============================] - 6s 3ms/step - loss: 0.1306 - accuracy: 0.9469 - val_loss: 0.0906 - val_accuracy: 0.9624\n",
      "Epoch 30/80\n",
      "2168/2168 [==============================] - 5s 3ms/step - loss: 0.1262 - accuracy: 0.9483 - val_loss: 0.1040 - val_accuracy: 0.9590\n",
      "Epoch 31/80\n",
      "2168/2168 [==============================] - 6s 3ms/step - loss: 0.1323 - accuracy: 0.9450 - val_loss: 0.1196 - val_accuracy: 0.9463\n",
      "Epoch 32/80\n",
      "2168/2168 [==============================] - 6s 3ms/step - loss: 0.1334 - accuracy: 0.9431 - val_loss: 0.1197 - val_accuracy: 0.9525\n",
      "Epoch 33/80\n",
      "2168/2168 [==============================] - 6s 3ms/step - loss: 0.1348 - accuracy: 0.9441 - val_loss: 0.1354 - val_accuracy: 0.9423\n",
      "Epoch 34/80\n",
      "2168/2168 [==============================] - 6s 3ms/step - loss: 0.1323 - accuracy: 0.9453 - val_loss: 0.1047 - val_accuracy: 0.9542\n",
      "Epoch 35/80\n",
      "2168/2168 [==============================] - 6s 3ms/step - loss: 0.1322 - accuracy: 0.9442 - val_loss: 0.1100 - val_accuracy: 0.9532\n",
      "Epoch 36/80\n",
      "2168/2168 [==============================] - 6s 3ms/step - loss: 0.1241 - accuracy: 0.9498 - val_loss: 0.1113 - val_accuracy: 0.9549\n",
      "Epoch 37/80\n",
      "2168/2168 [==============================] - 6s 3ms/step - loss: 0.1206 - accuracy: 0.9505 - val_loss: 0.0997 - val_accuracy: 0.9608\n",
      "Epoch 38/80\n",
      "2168/2168 [==============================] - 6s 3ms/step - loss: 0.1270 - accuracy: 0.9487 - val_loss: 0.1202 - val_accuracy: 0.9537\n",
      "Epoch 39/80\n",
      "2168/2168 [==============================] - 6s 3ms/step - loss: 0.1305 - accuracy: 0.9471 - val_loss: 0.0857 - val_accuracy: 0.9659\n",
      "Epoch 40/80\n",
      "2168/2168 [==============================] - 6s 3ms/step - loss: 0.1271 - accuracy: 0.9482 - val_loss: 0.1051 - val_accuracy: 0.9559\n",
      "Epoch 41/80\n",
      "2168/2168 [==============================] - 6s 3ms/step - loss: 0.1141 - accuracy: 0.9538 - val_loss: 0.1458 - val_accuracy: 0.9463\n",
      "Epoch 42/80\n",
      "2168/2168 [==============================] - 6s 3ms/step - loss: 0.1121 - accuracy: 0.9548 - val_loss: 0.0920 - val_accuracy: 0.9591\n",
      "Epoch 43/80\n",
      "2168/2168 [==============================] - 6s 3ms/step - loss: 0.1195 - accuracy: 0.9518 - val_loss: 0.1197 - val_accuracy: 0.9499\n",
      "Epoch 44/80\n",
      "2168/2168 [==============================] - 6s 3ms/step - loss: 0.1190 - accuracy: 0.9510 - val_loss: 0.1446 - val_accuracy: 0.9364\n",
      "Epoch 45/80\n",
      "2168/2168 [==============================] - 6s 3ms/step - loss: 0.1312 - accuracy: 0.9450 - val_loss: 0.1663 - val_accuracy: 0.9293\n",
      "Epoch 46/80\n",
      "2168/2168 [==============================] - 6s 3ms/step - loss: 0.1263 - accuracy: 0.9465 - val_loss: 0.1096 - val_accuracy: 0.9555\n",
      "Epoch 47/80\n",
      "2168/2168 [==============================] - 6s 3ms/step - loss: 0.1143 - accuracy: 0.9525 - val_loss: 0.1148 - val_accuracy: 0.9521\n",
      "Epoch 48/80\n",
      "2168/2168 [==============================] - 5s 3ms/step - loss: 0.1192 - accuracy: 0.9511 - val_loss: 0.1423 - val_accuracy: 0.9446\n",
      "Epoch 49/80\n",
      "2168/2168 [==============================] - 5s 3ms/step - loss: 0.1077 - accuracy: 0.9568 - val_loss: 0.1050 - val_accuracy: 0.9558\n",
      "Epoch 50/80\n",
      "2168/2168 [==============================] - 5s 3ms/step - loss: 0.1127 - accuracy: 0.9535 - val_loss: 0.1440 - val_accuracy: 0.9362\n",
      "Epoch 51/80\n",
      "2168/2168 [==============================] - 5s 2ms/step - loss: 0.1145 - accuracy: 0.9526 - val_loss: 0.1107 - val_accuracy: 0.9560\n",
      "Epoch 52/80\n",
      "2168/2168 [==============================] - 5s 2ms/step - loss: 0.1110 - accuracy: 0.9547 - val_loss: 0.0835 - val_accuracy: 0.9646\n",
      "Epoch 53/80\n",
      "2168/2168 [==============================] - 5s 3ms/step - loss: 0.1277 - accuracy: 0.9466 - val_loss: 0.1203 - val_accuracy: 0.9529\n",
      "Epoch 54/80\n",
      "2168/2168 [==============================] - 5s 3ms/step - loss: 0.1138 - accuracy: 0.9532 - val_loss: 0.0817 - val_accuracy: 0.9680\n",
      "Epoch 55/80\n",
      "2168/2168 [==============================] - 5s 3ms/step - loss: 0.1166 - accuracy: 0.9525 - val_loss: 0.0959 - val_accuracy: 0.9603\n",
      "Epoch 56/80\n",
      "2168/2168 [==============================] - 5s 3ms/step - loss: 0.1104 - accuracy: 0.9564 - val_loss: 0.0699 - val_accuracy: 0.9715\n",
      "Epoch 57/80\n",
      "2168/2168 [==============================] - 6s 3ms/step - loss: 0.1050 - accuracy: 0.9573 - val_loss: 0.2497 - val_accuracy: 0.9010\n",
      "Epoch 58/80\n",
      "2168/2168 [==============================] - 5s 2ms/step - loss: 0.1008 - accuracy: 0.9606 - val_loss: 0.0792 - val_accuracy: 0.9716\n",
      "Epoch 59/80\n",
      "2168/2168 [==============================] - 5s 2ms/step - loss: 0.1115 - accuracy: 0.9544 - val_loss: 0.3020 - val_accuracy: 0.8935\n",
      "Epoch 60/80\n",
      "2168/2168 [==============================] - 6s 3ms/step - loss: 0.1180 - accuracy: 0.9521 - val_loss: 0.1049 - val_accuracy: 0.9567\n",
      "Epoch 61/80\n",
      "2168/2168 [==============================] - 5s 2ms/step - loss: 0.1271 - accuracy: 0.9485 - val_loss: 0.2019 - val_accuracy: 0.9255\n",
      "Epoch 62/80\n",
      "2168/2168 [==============================] - 6s 3ms/step - loss: 0.1122 - accuracy: 0.9540 - val_loss: 0.2180 - val_accuracy: 0.9205\n",
      "Epoch 63/80\n",
      "2168/2168 [==============================] - 6s 3ms/step - loss: 0.1244 - accuracy: 0.9484 - val_loss: 0.0924 - val_accuracy: 0.9585\n",
      "Epoch 64/80\n",
      "2168/2168 [==============================] - 7s 3ms/step - loss: 0.1138 - accuracy: 0.9536 - val_loss: 0.0883 - val_accuracy: 0.9587\n",
      "Epoch 65/80\n",
      "2168/2168 [==============================] - 6s 3ms/step - loss: 0.0974 - accuracy: 0.9614 - val_loss: 0.0728 - val_accuracy: 0.9703\n",
      "Epoch 66/80\n",
      "2168/2168 [==============================] - 6s 3ms/step - loss: 0.1160 - accuracy: 0.9524 - val_loss: 0.0899 - val_accuracy: 0.9669\n",
      "Epoch 67/80\n",
      "2168/2168 [==============================] - 6s 3ms/step - loss: 0.1069 - accuracy: 0.9570 - val_loss: 0.1359 - val_accuracy: 0.9336\n",
      "Epoch 68/80\n",
      "2168/2168 [==============================] - 6s 3ms/step - loss: 0.1016 - accuracy: 0.9600 - val_loss: 0.0594 - val_accuracy: 0.9764\n",
      "Epoch 69/80\n",
      "2168/2168 [==============================] - 6s 3ms/step - loss: 0.1076 - accuracy: 0.9575 - val_loss: 0.0727 - val_accuracy: 0.9696\n",
      "Epoch 70/80\n",
      "2168/2168 [==============================] - 6s 3ms/step - loss: 0.0929 - accuracy: 0.9631 - val_loss: 0.0741 - val_accuracy: 0.9757\n",
      "Epoch 71/80\n",
      "2168/2168 [==============================] - 6s 3ms/step - loss: 0.0910 - accuracy: 0.9650 - val_loss: 0.0689 - val_accuracy: 0.9708\n",
      "Epoch 72/80\n",
      "2168/2168 [==============================] - 6s 3ms/step - loss: 0.0969 - accuracy: 0.9628 - val_loss: 0.0842 - val_accuracy: 0.9619\n",
      "Epoch 73/80\n",
      "2168/2168 [==============================] - 6s 3ms/step - loss: 0.1059 - accuracy: 0.9591 - val_loss: 0.0496 - val_accuracy: 0.9804\n",
      "Epoch 74/80\n",
      "2168/2168 [==============================] - 6s 3ms/step - loss: 0.0872 - accuracy: 0.9670 - val_loss: 0.0900 - val_accuracy: 0.9561\n",
      "Epoch 75/80\n",
      "2168/2168 [==============================] - 6s 3ms/step - loss: 0.1079 - accuracy: 0.9570 - val_loss: 0.1072 - val_accuracy: 0.9602\n",
      "Epoch 76/80\n",
      "2168/2168 [==============================] - 6s 3ms/step - loss: 0.1203 - accuracy: 0.9512 - val_loss: 0.0924 - val_accuracy: 0.9637\n",
      "Epoch 77/80\n",
      "2168/2168 [==============================] - 6s 3ms/step - loss: 0.1029 - accuracy: 0.9598 - val_loss: 0.0731 - val_accuracy: 0.9699\n",
      "Epoch 78/80\n",
      "2168/2168 [==============================] - 6s 3ms/step - loss: 0.1084 - accuracy: 0.9560 - val_loss: 0.2712 - val_accuracy: 0.9046\n",
      "Epoch 79/80\n",
      "2168/2168 [==============================] - 6s 3ms/step - loss: 0.1072 - accuracy: 0.9569 - val_loss: 0.0902 - val_accuracy: 0.9645\n",
      "Epoch 80/80\n",
      "2168/2168 [==============================] - 6s 3ms/step - loss: 0.1146 - accuracy: 0.9534 - val_loss: 0.0840 - val_accuracy: 0.9639\n"
     ]
    }
   ],
   "source": [
    "from keras.losses import CategoricalCrossentropy, SparseCategoricalCrossentropy\n",
    "from keras.optimizers import Adam\n",
    "model.compile(optimizer=Adam(), loss=SparseCategoricalCrossentropy(from_logits=True), metrics=[\"accuracy\"])\n",
    "\n",
    "model_checkpoint_callback = tf.keras.callbacks.ModelCheckpoint(\n",
    "    filepath=(model.name + \".h5\"),\n",
    "    save_weights_only=False,\n",
    "    monitor='val_acc',\n",
    "    mode='max',\n",
    "    save_best_only=True)\n",
    "\n",
    "history = model.fit(X_train, train_labels, epochs=80, validation_split=0.1)"
   ]
  },
  {
   "cell_type": "code",
   "execution_count": 6,
   "metadata": {},
   "outputs": [
    {
     "name": "stdout",
     "output_type": "stream",
     "text": [
      "Baseline model accuracy:  0.9629476070404053\n"
     ]
    }
   ],
   "source": [
    "_, baseline_model_accuracy = model.evaluate(X_test,test_labels, verbose=0)\n",
    "print(\"Baseline model accuracy: \", baseline_model_accuracy)"
   ]
  },
  {
   "cell_type": "code",
   "execution_count": 7,
   "metadata": {},
   "outputs": [],
   "source": [
    "keras.models.save_model(model, \"own_model.h5\", include_optimizer=False)"
   ]
  },
  {
   "cell_type": "markdown",
   "metadata": {},
   "source": [
    "# Fine-tune pre-trained model with pruning"
   ]
  },
  {
   "cell_type": "code",
   "execution_count": 8,
   "metadata": {},
   "outputs": [
    {
     "name": "stdout",
     "output_type": "stream",
     "text": [
      "Model: \"best_acc_model\"\n",
      "_________________________________________________________________\n",
      " Layer (type)                Output Shape              Param #   \n",
      "=================================================================\n",
      " prune_low_magnitude_dense (  (None, 64)               578       \n",
      " PruneLowMagnitude)                                              \n",
      "                                                                 \n",
      " prune_low_magnitude_dense_1  (None, 64)               8258      \n",
      "  (PruneLowMagnitude)                                            \n",
      "                                                                 \n",
      " prune_low_magnitude_dense_2  (None, 128)              16514     \n",
      "  (PruneLowMagnitude)                                            \n",
      "                                                                 \n",
      " prune_low_magnitude_dense_3  (None, 256)              65794     \n",
      "  (PruneLowMagnitude)                                            \n",
      "                                                                 \n",
      " prune_low_magnitude_dense_4  (None, 128)              65666     \n",
      "  (PruneLowMagnitude)                                            \n",
      "                                                                 \n",
      " prune_low_magnitude_dense_5  (None, 16)               4114      \n",
      "  (PruneLowMagnitude)                                            \n",
      "                                                                 \n",
      " prune_low_magnitude_output_  (None, 3)                101       \n",
      " layer (PruneLowMagnitude)                                       \n",
      "                                                                 \n",
      "=================================================================\n",
      "Total params: 161,025\n",
      "Trainable params: 80,835\n",
      "Non-trainable params: 80,190\n",
      "_________________________________________________________________\n"
     ]
    }
   ],
   "source": [
    "import tensorflow_model_optimization as tfmot\n",
    "\n",
    "prune_low_magnitude = tfmot.sparsity.keras.prune_low_magnitude\n",
    "\n",
    "batch_size = 128\n",
    "epochs = 2\n",
    "validation_split = 0.1\n",
    "\n",
    "num_samples = X_train.shape[0] * (1 - validation_split)\n",
    "end_step = np.ceil(num_samples/batch_size).astype(np.int32) * epochs\n",
    "\n",
    "# Define model for pruning\n",
    "pruning_params = {\n",
    "    'pruning_schedule': tfmot.sparsity.keras.PolynomialDecay(initial_sparsity=0.50, final_sparsity=0.80, begin_step=0, end_step=end_step)\n",
    "}\n",
    "\n",
    "model_for_pruning = prune_low_magnitude(model, **pruning_params)\n",
    "\n",
    "# prune_low_magnitude requires a recompile\n",
    "\n",
    "model_for_pruning.compile(optimizer='adam', loss= keras.losses.SparseCategoricalCrossentropy(from_logits=True), metrics=['accuracy'])\n",
    "model_for_pruning.summary()"
   ]
  },
  {
   "cell_type": "markdown",
   "metadata": {},
   "source": [
    "# Train and evalute the model against baseline model"
   ]
  },
  {
   "cell_type": "code",
   "execution_count": 9,
   "metadata": {},
   "outputs": [
    {
     "name": "stdout",
     "output_type": "stream",
     "text": [
      "Epoch 1/2\n",
      "  1/542 [..............................] - ETA: 26:46 - loss: 0.0947 - accuracy: 0.9531WARNING:tensorflow:Callback method `on_train_batch_end` is slow compared to the batch time (batch time: 0.0027s vs `on_train_batch_end` time: 0.0128s). Check your callbacks.\n",
      "542/542 [==============================] - 5s 4ms/step - loss: 2.2533 - accuracy: 0.7547 - val_loss: 0.4478 - val_accuracy: 0.8268\n",
      "Epoch 2/2\n",
      "542/542 [==============================] - 2s 4ms/step - loss: 0.8451 - accuracy: 0.6041 - val_loss: 0.7013 - val_accuracy: 0.7228\n"
     ]
    },
    {
     "data": {
      "text/plain": [
       "<keras.callbacks.History at 0x1d41b330a60>"
      ]
     },
     "execution_count": 9,
     "metadata": {},
     "output_type": "execute_result"
    }
   ],
   "source": [
    "callbacks = [\n",
    "    tfmot.sparsity.keras.UpdatePruningStep(),\n",
    "    tfmot.sparsity.keras.PruningSummaries(\"log_pruning_results\")\n",
    "]\n",
    "\n",
    "model_for_pruning.fit(X_train,train_labels, batch_size=batch_size, epochs=epochs, validation_split=validation_split, callbacks=callbacks)"
   ]
  },
  {
   "cell_type": "code",
   "execution_count": 10,
   "metadata": {},
   "outputs": [
    {
     "name": "stdout",
     "output_type": "stream",
     "text": [
      "Baseline test accuracy:  0.9629476070404053\n",
      "Pruned test accuracy:  0.7163985371589661\n"
     ]
    }
   ],
   "source": [
    "_, model_for_pruning_accuracy = model_for_pruning.evaluate(X_test, test_labels, verbose=0)\n",
    "\n",
    "print(\"Baseline test accuracy: \", baseline_model_accuracy)\n",
    "print(\"Pruned test accuracy: \", model_for_pruning_accuracy)"
   ]
  },
  {
   "cell_type": "code",
   "execution_count": 11,
   "metadata": {},
   "outputs": [
    {
     "name": "stdout",
     "output_type": "stream",
     "text": [
      "WARNING:tensorflow:Compiled the loaded model, but the compiled metrics have yet to be built. `model.compile_metrics` will be empty until you train or evaluate the model.\n"
     ]
    }
   ],
   "source": [
    "# strip_pruning removes every tf.Variable that pruning only needs during training, which would otherwise add to model size during inference\n",
    "model_for_export = tfmot.sparsity.keras.strip_pruning(model_for_pruning)\n",
    "\n",
    "pruned_keras_file = \"pruned_own_model.h5\"\n",
    "keras.models.save_model(model_for_export, pruned_keras_file, include_optimizer=False)"
   ]
  },
  {
   "cell_type": "code",
   "execution_count": 12,
   "metadata": {},
   "outputs": [
    {
     "name": "stderr",
     "output_type": "stream",
     "text": [
      "WARNING:absl:Function `_wrapped_model` contains input name(s) input-layer with unsupported characters which will be renamed to input_layer in the SavedModel.\n"
     ]
    },
    {
     "name": "stdout",
     "output_type": "stream",
     "text": [
      "INFO:tensorflow:Assets written to: C:\\Users\\sandr\\AppData\\Local\\Temp\\tmp3vs4uzq_\\assets\n"
     ]
    },
    {
     "name": "stderr",
     "output_type": "stream",
     "text": [
      "INFO:tensorflow:Assets written to: C:\\Users\\sandr\\AppData\\Local\\Temp\\tmp3vs4uzq_\\assets\n"
     ]
    }
   ],
   "source": [
    "converter = tf.lite.TFLiteConverter.from_keras_model(model_for_export)\n",
    "pruned_tflite_model = converter.convert()\n",
    "\n",
    "pruned_tflite_file = \"pruned_tflite_own_model.tflite\"\n",
    "\n",
    "with open(pruned_tflite_file, \"wb\") as f:\n",
    "    f.write(pruned_tflite_model)"
   ]
  },
  {
   "cell_type": "code",
   "execution_count": 13,
   "metadata": {},
   "outputs": [],
   "source": [
    "import gzip\n",
    "import os \n",
    "import zipfile\n",
    "def get_gzipped_model_size(file, file_name):\n",
    "    # Returns size of gzipped model, in bytes\n",
    "    zipped_file = file_name + \".zip\"\n",
    "\n",
    "    with zipfile.ZipFile(zipped_file, \"w\", compression=zipfile.ZIP_DEFLATED) as f:\n",
    "        f.write(file)\n",
    "\n",
    "    return os.path.getsize(zipped_file)"
   ]
  },
  {
   "cell_type": "code",
   "execution_count": 14,
   "metadata": {},
   "outputs": [
    {
     "name": "stderr",
     "output_type": "stream",
     "text": [
      "WARNING:absl:Function `_wrapped_model` contains input name(s) input-layer with unsupported characters which will be renamed to input_layer in the SavedModel.\n"
     ]
    },
    {
     "name": "stdout",
     "output_type": "stream",
     "text": [
      "INFO:tensorflow:Assets written to: C:\\Users\\sandr\\AppData\\Local\\Temp\\tmp3asnp8hl\\assets\n"
     ]
    },
    {
     "name": "stderr",
     "output_type": "stream",
     "text": [
      "INFO:tensorflow:Assets written to: C:\\Users\\sandr\\AppData\\Local\\Temp\\tmp3asnp8hl\\assets\n"
     ]
    }
   ],
   "source": [
    "converter = tf.lite.TFLiteConverter.from_keras_model(model_for_export)\n",
    "converter.optimizations = [tf.lite.Optimize.DEFAULT]\n",
    "quantized_and_pruned_tflite_model = converter.convert()\n",
    "quantized_and_pruned_tflite_file = \"quantized_pruned_own_model.tflite\"\n",
    "\n",
    "with open(quantized_and_pruned_tflite_file, \"wb\") as f:\n",
    "    f.write(quantized_and_pruned_tflite_model)"
   ]
  },
  {
   "cell_type": "code",
   "execution_count": 15,
   "metadata": {},
   "outputs": [
    {
     "name": "stdout",
     "output_type": "stream",
     "text": [
      "Size of gzipped baseline Keras model: 304157.00 bytes\n",
      "Size of gzipped pruned Keras model: 100100.00 bytes\n",
      "Size of gzipped pruned TFLite model: 98262.00 bytes\n",
      "Size of gzipped quantized pruned TFLite model: 28106.00 bytes\n"
     ]
    }
   ],
   "source": [
    "print(\"Size of gzipped baseline Keras model: %.2f bytes\" % (get_gzipped_model_size(\"own_model.h5\", \"zip_own_model\")))\n",
    "print(\"Size of gzipped pruned Keras model: %.2f bytes\" % (get_gzipped_model_size(\"pruned_own_model.h5\", \"zip_pruned_own_model\")))\n",
    "print(\"Size of gzipped pruned TFLite model: %.2f bytes\" % (get_gzipped_model_size(\"pruned_tflite_own_model.tflite\", \"zip_pruned_tflite_own_model\")))\n",
    "print(\"Size of gzipped quantized pruned TFLite model: %.2f bytes\" % (get_gzipped_model_size(\"quantized_pruned_own_model.tflite\", \"zip_quantized_pruned_own_model\")))"
   ]
  },
  {
   "cell_type": "code",
   "execution_count": 16,
   "metadata": {},
   "outputs": [],
   "source": [
    "import numpy as np\n",
    "\n",
    "def evaluate_model(interpreter):\n",
    "    input_index = interpreter.get_input_details()[0][\"index\"]\n",
    "    output_index = interpreter.get_output_details()[0][\"index\"]\n",
    "\n",
    "    # Run predictions on over y image in the test dataset\n",
    "    prediction_digits = []\n",
    "    for i, test_image in enumerate(X_test.to_numpy()):\n",
    "        if i % 1000 == 0:\n",
    "            print(\"Evaluated on {n} results so far.\".format(n=i))\n",
    "        \n",
    "        # Pre-processing: add batch dimension and convert to float32 to match with the model's input data format\n",
    "        test_image = np.expand_dims(test_image, axis=0).astype(np.float32)\n",
    "        interpreter.set_tensor(input_index, test_image)\n",
    "\n",
    "        # Run inference\n",
    "        interpreter.invoke()\n",
    "\n",
    "        # Post-processing: remove batch dimension and find the digit with highest probability\n",
    "        output = interpreter.tensor(output_index)\n",
    "        digit = np.argmax(output()[0])\n",
    "        prediction_digits.append(digit)\n",
    "\n",
    "    print(\"\\n\")\n",
    "\n",
    "    # Compare prediction result with ground truth labels to calculate accuracy\n",
    "    prediction_digits = np.array(prediction_digits)\n",
    "    print(prediction_digits)\n",
    "    accuracy = (prediction_digits == test_labels).mean()\n",
    "    return accuracy"
   ]
  },
  {
   "cell_type": "code",
   "execution_count": 17,
   "metadata": {},
   "outputs": [
    {
     "name": "stdout",
     "output_type": "stream",
     "text": [
      "Evaluated on 0 results so far.\n",
      "Evaluated on 1000 results so far.\n",
      "Evaluated on 2000 results so far.\n",
      "Evaluated on 3000 results so far.\n",
      "Evaluated on 4000 results so far.\n",
      "Evaluated on 5000 results so far.\n",
      "Evaluated on 6000 results so far.\n",
      "Evaluated on 7000 results so far.\n",
      "Evaluated on 8000 results so far.\n",
      "Evaluated on 9000 results so far.\n",
      "Evaluated on 10000 results so far.\n",
      "Evaluated on 11000 results so far.\n",
      "Evaluated on 12000 results so far.\n",
      "Evaluated on 13000 results so far.\n",
      "Evaluated on 14000 results so far.\n",
      "Evaluated on 15000 results so far.\n",
      "Evaluated on 16000 results so far.\n",
      "Evaluated on 17000 results so far.\n",
      "Evaluated on 18000 results so far.\n",
      "Evaluated on 19000 results so far.\n",
      "\n",
      "\n",
      "[1 2 0 ... 2 1 0]\n",
      "Pruned and quantized TFLite test_accuracy:  0.700570835495589\n",
      "Pruned TF test accuracy:  0.7163985371589661\n"
     ]
    }
   ],
   "source": [
    "interpreter = tf.lite.Interpreter(model_content=quantized_and_pruned_tflite_model)\n",
    "interpreter.allocate_tensors()\n",
    "\n",
    "test_accuracy = evaluate_model(interpreter)\n",
    "\n",
    "print(\"Pruned and quantized TFLite test_accuracy: \", test_accuracy)\n",
    "print(\"Pruned TF test accuracy: \", model_for_pruning_accuracy)"
   ]
  },
  {
   "cell_type": "code",
   "execution_count": 152,
   "metadata": {},
   "outputs": [],
   "source": [
    "def representative_dataset():\n",
    "    for sample in X_train.to_numpy()[:500,:]:\n",
    "      yield [sample.astype(np.float32)]"
   ]
  },
  {
   "cell_type": "code",
   "execution_count": 153,
   "metadata": {},
   "outputs": [
    {
     "name": "stderr",
     "output_type": "stream",
     "text": [
      "WARNING:absl:Function `_wrapped_model` contains input name(s) input-layer with unsupported characters which will be renamed to input_layer in the SavedModel.\n"
     ]
    },
    {
     "name": "stdout",
     "output_type": "stream",
     "text": [
      "INFO:tensorflow:Assets written to: C:\\Users\\sandr\\AppData\\Local\\Temp\\tmpvb_cwjdp\\assets\n"
     ]
    },
    {
     "name": "stderr",
     "output_type": "stream",
     "text": [
      "INFO:tensorflow:Assets written to: C:\\Users\\sandr\\AppData\\Local\\Temp\\tmpvb_cwjdp\\assets\n",
      "c:\\Users\\sandr\\source\\repos\\Monitoring_Converter_ML\\venv\\lib\\site-packages\\tensorflow\\lite\\python\\convert.py:766: UserWarning: Statistics for quantized inputs were expected, but not specified; continuing anyway.\n",
      "  warnings.warn(\"Statistics for quantized inputs were expected, but not \"\n"
     ]
    }
   ],
   "source": [
    "import tensorflow as tf\n",
    "converter = tf.lite.TFLiteConverter.from_keras_model(model_for_export)\n",
    "converter.optimizations = [tf.lite.Optimize.DEFAULT]\n",
    "converter.representative_dataset = representative_dataset\n",
    "tflite_quant_model = converter.convert()"
   ]
  },
  {
   "cell_type": "code",
   "execution_count": 124,
   "metadata": {},
   "outputs": [
    {
     "name": "stderr",
     "output_type": "stream",
     "text": [
      "WARNING:absl:Function `_wrapped_model` contains input name(s) input-layer with unsupported characters which will be renamed to input_layer in the SavedModel.\n"
     ]
    },
    {
     "name": "stdout",
     "output_type": "stream",
     "text": [
      "INFO:tensorflow:Assets written to: C:\\Users\\sandr\\AppData\\Local\\Temp\\tmpfgza5fy0\\assets\n"
     ]
    },
    {
     "name": "stderr",
     "output_type": "stream",
     "text": [
      "INFO:tensorflow:Assets written to: C:\\Users\\sandr\\AppData\\Local\\Temp\\tmpfgza5fy0\\assets\n",
      "c:\\Users\\sandr\\source\\repos\\Monitoring_Converter_ML\\venv\\lib\\site-packages\\tensorflow\\lite\\python\\convert.py:766: UserWarning: Statistics for quantized inputs were expected, but not specified; continuing anyway.\n",
      "  warnings.warn(\"Statistics for quantized inputs were expected, but not \"\n"
     ]
    }
   ],
   "source": [
    "import tensorflow as tf\n",
    "converter = tf.lite.TFLiteConverter.from_keras_model(model_for_export)\n",
    "converter.optimizations = [tf.lite.Optimize.DEFAULT]\n",
    "converter.representative_dataset = representative_dataset\n",
    "converter.target_spec.supported_ops = [tf.lite.OpsSet.TFLITE_BUILTINS_INT8]\n",
    "converter.inference_input_type = tf.int8  # or tf.uint8\n",
    "converter.inference_output_type = tf.int8  # or tf.uint8\n",
    "tflite_quant_model_int8 = converter.convert()"
   ]
  },
  {
   "cell_type": "code",
   "execution_count": 154,
   "metadata": {},
   "outputs": [
    {
     "name": "stdout",
     "output_type": "stream",
     "text": [
      "Evaluated on 0 results so far.\n",
      "Evaluated on 1000 results so far.\n",
      "Evaluated on 2000 results so far.\n",
      "Evaluated on 3000 results so far.\n",
      "Evaluated on 4000 results so far.\n",
      "Evaluated on 5000 results so far.\n",
      "Evaluated on 6000 results so far.\n",
      "Evaluated on 7000 results so far.\n",
      "Evaluated on 8000 results so far.\n",
      "Evaluated on 9000 results so far.\n",
      "Evaluated on 10000 results so far.\n",
      "Evaluated on 11000 results so far.\n",
      "Evaluated on 12000 results so far.\n",
      "Evaluated on 13000 results so far.\n",
      "Evaluated on 14000 results so far.\n",
      "Evaluated on 15000 results so far.\n",
      "Evaluated on 16000 results so far.\n",
      "Evaluated on 17000 results so far.\n",
      "Evaluated on 18000 results so far.\n",
      "Evaluated on 19000 results so far.\n",
      "\n",
      "\n",
      "Pruned and quantized TFLite test_accuracy:  0.6409963674104826\n",
      "Pruned TF test accuracy:  0.9869226813316345\n"
     ]
    }
   ],
   "source": [
    "interpreter = tf.lite.Interpreter(model_content=tflite_quant_model)\n",
    "interpreter.allocate_tensors()\n",
    "# interpreter_int8 = tf.lite.Interpreter(model_content=tflite_quant_model_int8)\n",
    "# interpreter_int8.allocate_tensors()\n",
    "test_accuracy = evaluate_model(interpreter)\n",
    "# test_accuracy_int8 = evaluate_model(interpreter_int8)\n",
    "\n",
    "\n",
    "print(\"Pruned and quantized TFLite test_accuracy: \", test_accuracy)\n",
    "# print(\"Int_8 Pruned and quantized TFLite test_accuracy: \", test_accuracy_int8)\n",
    "print(\"Pruned TF test accuracy: \", model_for_pruning_accuracy)"
   ]
  }
 ],
 "metadata": {
  "kernelspec": {
   "display_name": "Python 3.10.8 ('venv': venv)",
   "language": "python",
   "name": "python3"
  },
  "language_info": {
   "codemirror_mode": {
    "name": "ipython",
    "version": 3
   },
   "file_extension": ".py",
   "mimetype": "text/x-python",
   "name": "python",
   "nbconvert_exporter": "python",
   "pygments_lexer": "ipython3",
   "version": "3.10.9"
  },
  "orig_nbformat": 4,
  "vscode": {
   "interpreter": {
    "hash": "ca1c6f47e78944e5b11f7d3b44b6206ab4f171b310471b46fba50959eb66c8df"
   }
  }
 },
 "nbformat": 4,
 "nbformat_minor": 2
}
