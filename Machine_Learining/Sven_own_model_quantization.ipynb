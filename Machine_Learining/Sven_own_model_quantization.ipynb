{
 "cells": [
  {
   "cell_type": "code",
   "execution_count": 1,
   "metadata": {},
   "outputs": [],
   "source": [
    "import os\n",
    "import tensorflow as tf\n",
    "import keras\n",
    "import numpy as np\n",
    "import pandas as pd\n",
    "from sklearn.model_selection import train_test_split\n",
    "from keras.utils import to_categorical\n",
    "from sklearn.preprocessing import MinMaxScaler"
   ]
  },
  {
   "cell_type": "code",
   "execution_count": 4,
   "metadata": {},
   "outputs": [],
   "source": [
    "df = pd.read_csv(\"../static_merged_data.csv\")\n",
    "x = df.drop(labels=\"status\", axis=1)\n",
    "y = df[[\"status\"]]\n",
    "min_max_scale = MinMaxScaler()\n",
    "x_scaled = min_max_scale.fit_transform(x)\n",
    "\n",
    "def prepare_train_test_set(X, Y, num_classes):\n",
    "    X_train, X_test, y_train, y_test = train_test_split(X, Y, shuffle=True, test_size=.2)\n",
    "    train_labels = y_train.status.astype('category').cat.codes.to_numpy()\n",
    "    test_labels = y_test.status.astype('category').cat.codes.to_numpy()\n",
    "    return (X_train, X_test), (train_labels, test_labels)"
   ]
  },
  {
   "cell_type": "code",
   "execution_count": 5,
   "metadata": {},
   "outputs": [],
   "source": [
    "(X_train, X_test), (train_labels, test_labels) = prepare_train_test_set(x_scaled,y,3)"
   ]
  },
  {
   "cell_type": "code",
   "execution_count": 25,
   "metadata": {},
   "outputs": [],
   "source": [
    "import pandas as pd \n",
    "pd.DataFrame(X_test).to_csv(\"test_data.csv\", index=False)\n",
    "pd.DataFrame(test_labels).to_csv(\"test_labels.csv\", index=False)\n",
    "\n"
   ]
  },
  {
   "cell_type": "code",
   "execution_count": 8,
   "metadata": {},
   "outputs": [
    {
     "name": "stdout",
     "output_type": "stream",
     "text": [
      "Model: \"sven_quant_model\"\n",
      "_________________________________________________________________\n",
      " Layer (type)                Output Shape              Param #   \n",
      "=================================================================\n",
      " quantize_annotate_6 (Quanti  (None, 64)               320       \n",
      " zeAnnotate)                                                     \n",
      "                                                                 \n",
      " quantize_annotate_7 (Quanti  (None, 128)              8320      \n",
      " zeAnnotate)                                                     \n",
      "                                                                 \n",
      " quantize_annotate_8 (Quanti  (None, 256)              33024     \n",
      " zeAnnotate)                                                     \n",
      "                                                                 \n",
      " quantize_annotate_9 (Quanti  (None, 128)              32896     \n",
      " zeAnnotate)                                                     \n",
      "                                                                 \n",
      " quantize_annotate_10 (Quant  (None, 16)               2064      \n",
      " izeAnnotate)                                                    \n",
      "                                                                 \n",
      " quantize_annotate_11 (Quant  (None, 3)                51        \n",
      " izeAnnotate)                                                    \n",
      "                                                                 \n",
      "=================================================================\n",
      "Total params: 76,675\n",
      "Trainable params: 76,675\n",
      "Non-trainable params: 0\n",
      "_________________________________________________________________\n"
     ]
    }
   ],
   "source": [
    "from keras.models import Model\n",
    "from keras.layers import Dropout\n",
    "from keras.layers import Dense\n",
    "from keras.layers import Input, InputLayer\n",
    "import tensorflow as tf\n",
    "from keras import Sequential\n",
    "from keras.layers import Activation \n",
    "import tensorflow_model_optimization as tfmot\n",
    "model = tfmot.quantization.keras.quantize_annotate_model(Sequential([\n",
    "    InputLayer(input_shape=(4,), name=\"input_layer\"),\n",
    "    tfmot.quantization.keras.quantize_annotate_layer(Dense(64, activation=\"relu\")),\n",
    "    tfmot.quantization.keras.quantize_annotate_layer(Dense(128, activation=\"relu\")),\n",
    "    tfmot.quantization.keras.quantize_annotate_layer(Dense(256, activation=\"relu\")),\n",
    "    tfmot.quantization.keras.quantize_annotate_layer(Dense(128, activation=\"relu\")),\n",
    "    tfmot.quantization.keras.quantize_annotate_layer(Dense(16, activation=\"relu\")),\n",
    "    Dense(3, name=\"output_layer\")\n",
    "], name=\"sven_quant_model\"))\n",
    "\n",
    "model.summary()"
   ]
  },
  {
   "cell_type": "code",
   "execution_count": 16,
   "metadata": {},
   "outputs": [],
   "source": [
    "from keras.models import load_model\n",
    "import tensorflow_model_optimization as tfmot\n",
    "\n",
    "with tfmot.quantization.keras.quantize_scope():\n",
    "    model = load_model(\"./sven_quant_model.h5\")"
   ]
  },
  {
   "cell_type": "code",
   "execution_count": 9,
   "metadata": {},
   "outputs": [
    {
     "name": "stdout",
     "output_type": "stream",
     "text": [
      "Epoch 1/50\n",
      "2168/2168 [==============================] - 6s 3ms/step - loss: 0.2581 - accuracy: 0.8929 - val_loss: 0.1493 - val_accuracy: 0.9405\n",
      "Epoch 2/50\n",
      "2168/2168 [==============================] - 5s 2ms/step - loss: 0.1653 - accuracy: 0.9312 - val_loss: 0.1331 - val_accuracy: 0.9458\n",
      "Epoch 3/50\n",
      "2168/2168 [==============================] - 5s 2ms/step - loss: 0.1531 - accuracy: 0.9365 - val_loss: 0.1789 - val_accuracy: 0.9223\n",
      "Epoch 4/50\n",
      "2168/2168 [==============================] - 5s 3ms/step - loss: 0.1458 - accuracy: 0.9398 - val_loss: 0.1381 - val_accuracy: 0.9442\n",
      "Epoch 5/50\n",
      "2168/2168 [==============================] - 5s 3ms/step - loss: 0.1408 - accuracy: 0.9416 - val_loss: 0.2237 - val_accuracy: 0.8984\n",
      "Epoch 6/50\n",
      "2168/2168 [==============================] - 5s 2ms/step - loss: 0.1399 - accuracy: 0.9417 - val_loss: 0.2737 - val_accuracy: 0.8707\n",
      "Epoch 7/50\n",
      "2168/2168 [==============================] - 6s 3ms/step - loss: 0.1365 - accuracy: 0.9429 - val_loss: 0.1088 - val_accuracy: 0.9552\n",
      "Epoch 8/50\n",
      "2168/2168 [==============================] - 6s 3ms/step - loss: 0.1360 - accuracy: 0.9430 - val_loss: 0.1763 - val_accuracy: 0.9091\n",
      "Epoch 9/50\n",
      "2168/2168 [==============================] - 6s 3ms/step - loss: 0.1307 - accuracy: 0.9451 - val_loss: 0.1178 - val_accuracy: 0.9507\n",
      "Epoch 10/50\n",
      "2168/2168 [==============================] - 6s 3ms/step - loss: 0.1244 - accuracy: 0.9479 - val_loss: 0.1063 - val_accuracy: 0.9565\n",
      "Epoch 11/50\n",
      "2168/2168 [==============================] - 6s 3ms/step - loss: 0.1213 - accuracy: 0.9489 - val_loss: 0.0914 - val_accuracy: 0.9608\n",
      "Epoch 12/50\n",
      "2168/2168 [==============================] - 6s 3ms/step - loss: 0.1135 - accuracy: 0.9529 - val_loss: 0.1102 - val_accuracy: 0.9612\n",
      "Epoch 13/50\n",
      "2168/2168 [==============================] - 6s 3ms/step - loss: 0.1101 - accuracy: 0.9544 - val_loss: 0.0907 - val_accuracy: 0.9630\n",
      "Epoch 14/50\n",
      "2168/2168 [==============================] - 6s 3ms/step - loss: 0.1174 - accuracy: 0.9514 - val_loss: 0.1357 - val_accuracy: 0.9450\n",
      "Epoch 15/50\n",
      "2168/2168 [==============================] - 7s 3ms/step - loss: 0.1254 - accuracy: 0.9470 - val_loss: 0.1400 - val_accuracy: 0.9459\n",
      "Epoch 16/50\n",
      "2168/2168 [==============================] - 5s 2ms/step - loss: 0.1191 - accuracy: 0.9496 - val_loss: 0.0996 - val_accuracy: 0.9584\n",
      "Epoch 17/50\n",
      "2168/2168 [==============================] - 6s 3ms/step - loss: 0.1121 - accuracy: 0.9524 - val_loss: 0.1227 - val_accuracy: 0.9537\n",
      "Epoch 18/50\n",
      "2168/2168 [==============================] - 6s 3ms/step - loss: 0.1058 - accuracy: 0.9560 - val_loss: 0.1081 - val_accuracy: 0.9532\n",
      "Epoch 19/50\n",
      "2168/2168 [==============================] - 6s 3ms/step - loss: 0.1057 - accuracy: 0.9562 - val_loss: 0.0945 - val_accuracy: 0.9659\n",
      "Epoch 20/50\n",
      "2168/2168 [==============================] - 6s 3ms/step - loss: 0.1039 - accuracy: 0.9578 - val_loss: 0.0883 - val_accuracy: 0.9657\n",
      "Epoch 21/50\n",
      "2168/2168 [==============================] - 6s 3ms/step - loss: 0.1001 - accuracy: 0.9592 - val_loss: 0.1160 - val_accuracy: 0.9580\n",
      "Epoch 22/50\n",
      "2168/2168 [==============================] - 6s 3ms/step - loss: 0.0954 - accuracy: 0.9615 - val_loss: 0.0930 - val_accuracy: 0.9655\n",
      "Epoch 23/50\n",
      "2168/2168 [==============================] - 6s 3ms/step - loss: 0.0883 - accuracy: 0.9641 - val_loss: 0.0761 - val_accuracy: 0.9669\n",
      "Epoch 24/50\n",
      "2168/2168 [==============================] - 6s 3ms/step - loss: 0.0881 - accuracy: 0.9639 - val_loss: 0.0903 - val_accuracy: 0.9599\n",
      "Epoch 25/50\n",
      "2168/2168 [==============================] - 6s 3ms/step - loss: 0.0954 - accuracy: 0.9617 - val_loss: 0.1163 - val_accuracy: 0.9526\n",
      "Epoch 26/50\n",
      "2168/2168 [==============================] - 6s 3ms/step - loss: 0.0798 - accuracy: 0.9683 - val_loss: 0.0595 - val_accuracy: 0.9765\n",
      "Epoch 27/50\n",
      "2168/2168 [==============================] - 6s 3ms/step - loss: 0.0706 - accuracy: 0.9736 - val_loss: 0.0329 - val_accuracy: 0.9868\n",
      "Epoch 28/50\n",
      "2168/2168 [==============================] - 6s 3ms/step - loss: 0.0694 - accuracy: 0.9743 - val_loss: 0.0936 - val_accuracy: 0.9606\n",
      "Epoch 29/50\n",
      "2168/2168 [==============================] - 6s 3ms/step - loss: 0.0558 - accuracy: 0.9798 - val_loss: 0.0307 - val_accuracy: 0.9877\n",
      "Epoch 30/50\n",
      "2168/2168 [==============================] - 6s 3ms/step - loss: 0.0433 - accuracy: 0.9836 - val_loss: 0.0324 - val_accuracy: 0.9895\n",
      "Epoch 31/50\n",
      "2168/2168 [==============================] - 6s 3ms/step - loss: 0.0474 - accuracy: 0.9819 - val_loss: 0.0251 - val_accuracy: 0.9901\n",
      "Epoch 32/50\n",
      "2168/2168 [==============================] - 6s 3ms/step - loss: 0.0775 - accuracy: 0.9697 - val_loss: 0.1430 - val_accuracy: 0.9438\n",
      "Epoch 33/50\n",
      "2168/2168 [==============================] - 6s 3ms/step - loss: 0.0764 - accuracy: 0.9700 - val_loss: 0.0381 - val_accuracy: 0.9882\n",
      "Epoch 34/50\n",
      "2168/2168 [==============================] - 6s 3ms/step - loss: 0.0531 - accuracy: 0.9806 - val_loss: 0.0658 - val_accuracy: 0.9759\n",
      "Epoch 35/50\n",
      "2168/2168 [==============================] - 6s 3ms/step - loss: 0.0830 - accuracy: 0.9696 - val_loss: 0.0587 - val_accuracy: 0.9777\n",
      "Epoch 36/50\n",
      "2168/2168 [==============================] - 6s 3ms/step - loss: 0.0705 - accuracy: 0.9734 - val_loss: 0.1896 - val_accuracy: 0.9347\n",
      "Epoch 37/50\n",
      "2168/2168 [==============================] - 7s 3ms/step - loss: 0.0506 - accuracy: 0.9813 - val_loss: 0.0331 - val_accuracy: 0.9865\n",
      "Epoch 38/50\n",
      "2168/2168 [==============================] - 6s 3ms/step - loss: 0.0544 - accuracy: 0.9799 - val_loss: 0.0376 - val_accuracy: 0.9862\n",
      "Epoch 39/50\n",
      "2168/2168 [==============================] - 7s 3ms/step - loss: 0.0408 - accuracy: 0.9845 - val_loss: 0.0324 - val_accuracy: 0.9890\n",
      "Epoch 40/50\n",
      "2168/2168 [==============================] - 7s 3ms/step - loss: 0.0584 - accuracy: 0.9779 - val_loss: 0.0406 - val_accuracy: 0.9820\n",
      "Epoch 41/50\n",
      "2168/2168 [==============================] - 8s 4ms/step - loss: 0.0420 - accuracy: 0.9838 - val_loss: 0.0253 - val_accuracy: 0.9916\n",
      "Epoch 42/50\n",
      "2168/2168 [==============================] - 6s 3ms/step - loss: 0.0367 - accuracy: 0.9864 - val_loss: 0.0215 - val_accuracy: 0.9903\n",
      "Epoch 43/50\n",
      "2168/2168 [==============================] - 6s 3ms/step - loss: 0.0442 - accuracy: 0.9825 - val_loss: 0.0266 - val_accuracy: 0.9891\n",
      "Epoch 44/50\n",
      "2168/2168 [==============================] - 6s 3ms/step - loss: 0.0425 - accuracy: 0.9851 - val_loss: 0.0227 - val_accuracy: 0.9899\n",
      "Epoch 45/50\n",
      "2168/2168 [==============================] - 6s 3ms/step - loss: 0.0454 - accuracy: 0.9811 - val_loss: 0.0491 - val_accuracy: 0.9765\n",
      "Epoch 46/50\n",
      "2168/2168 [==============================] - 6s 3ms/step - loss: 0.0331 - accuracy: 0.9874 - val_loss: 0.0218 - val_accuracy: 0.9904\n",
      "Epoch 47/50\n",
      "2168/2168 [==============================] - 6s 3ms/step - loss: 0.0380 - accuracy: 0.9858 - val_loss: 0.0202 - val_accuracy: 0.9921\n",
      "Epoch 48/50\n",
      "2168/2168 [==============================] - 6s 3ms/step - loss: 0.0326 - accuracy: 0.9882 - val_loss: 0.0249 - val_accuracy: 0.9887\n",
      "Epoch 49/50\n",
      "2168/2168 [==============================] - 6s 3ms/step - loss: 0.0456 - accuracy: 0.9838 - val_loss: 0.0319 - val_accuracy: 0.9891\n",
      "Epoch 50/50\n",
      "2168/2168 [==============================] - 6s 3ms/step - loss: 0.0538 - accuracy: 0.9802 - val_loss: 0.0393 - val_accuracy: 0.9855\n"
     ]
    }
   ],
   "source": [
    "from keras.losses import CategoricalCrossentropy, SparseCategoricalCrossentropy\n",
    "from keras.optimizers import Adam\n",
    "\n",
    "\n",
    "\n",
    "model.compile(optimizer=Adam(), loss=SparseCategoricalCrossentropy(from_logits=True), metrics=[\"accuracy\"])\n",
    "\n",
    "model_checkpoint_callback = tf.keras.callbacks.ModelCheckpoint(\n",
    "    filepath=(model.name + \".h5\"),\n",
    "    save_weights_only=False,\n",
    "    monitor='val_accuracy',\n",
    "    mode='max',\n",
    "    save_best_only=True)\n",
    "\n",
    "history = model.fit(X_train, train_labels, epochs=50, validation_split=0.1, callbacks=[model_checkpoint_callback])"
   ]
  },
  {
   "cell_type": "code",
   "execution_count": 10,
   "metadata": {},
   "outputs": [
    {
     "name": "stdout",
     "output_type": "stream",
     "text": [
      "Model: \"sven_quant_model\"\n",
      "_________________________________________________________________\n",
      " Layer (type)                Output Shape              Param #   \n",
      "=================================================================\n",
      " quantize_layer_1 (QuantizeL  (None, 4)                3         \n",
      " ayer)                                                           \n",
      "                                                                 \n",
      " quant_dense_5 (QuantizeWrap  (None, 64)               325       \n",
      " perV2)                                                          \n",
      "                                                                 \n",
      " quant_dense_6 (QuantizeWrap  (None, 128)              8325      \n",
      " perV2)                                                          \n",
      "                                                                 \n",
      " quant_dense_7 (QuantizeWrap  (None, 256)              33029     \n",
      " perV2)                                                          \n",
      "                                                                 \n",
      " quant_dense_8 (QuantizeWrap  (None, 128)              32901     \n",
      " perV2)                                                          \n",
      "                                                                 \n",
      " quant_dense_9 (QuantizeWrap  (None, 16)               2069      \n",
      " perV2)                                                          \n",
      "                                                                 \n",
      " quant_output_layer (Quantiz  (None, 3)                56        \n",
      " eWrapperV2)                                                     \n",
      "                                                                 \n",
      "=================================================================\n",
      "Total params: 76,708\n",
      "Trainable params: 76,675\n",
      "Non-trainable params: 33\n",
      "_________________________________________________________________\n"
     ]
    }
   ],
   "source": [
    "import tensorflow_model_optimization as tfmot\n",
    "quantize_model = tfmot.quantization.keras.quantize_model\n",
    "# q_aware stands for quantization aware\n",
    "q_aware_model = quantize_model(model)\n",
    "\n",
    "# Use `quantize_apply` to actually make the model quantization aware.\n",
    "with tfmot.quantization.keras.quantize_scope():\n",
    "    quant_aware_model = tfmot.quantization.keras.quantize_apply(model)\n",
    "\n",
    "quant_aware_model.summary()\n",
    "\n",
    "# 'quantized_model' requires a recompile\n",
    "quant_aware_model.compile(optimizer='adam', loss=keras.losses.SparseCategoricalCrossentropy(from_logits=True), metrics=['accuracy'])\n",
    "#q_aware_model.compile(optimizer='adam', loss=keras.losses.SparseCategoricalCrossentropy(from_logits=True), metrics=['accuracy'])\n",
    "\n"
   ]
  },
  {
   "cell_type": "code",
   "execution_count": 11,
   "metadata": {},
   "outputs": [
    {
     "name": "stdout",
     "output_type": "stream",
     "text": [
      "Epoch 1/80\n",
      "71/71 [==============================] - 2s 10ms/step - loss: 0.1390 - accuracy: 0.9569 - val_loss: 0.1072 - val_accuracy: 0.9630\n",
      "Epoch 2/80\n",
      "71/71 [==============================] - 0s 7ms/step - loss: 0.0776 - accuracy: 0.9699 - val_loss: 0.1041 - val_accuracy: 0.9640\n",
      "Epoch 3/80\n",
      "71/71 [==============================] - 0s 6ms/step - loss: 0.0717 - accuracy: 0.9743 - val_loss: 0.0798 - val_accuracy: 0.9675\n",
      "Epoch 4/80\n",
      "71/71 [==============================] - 0s 6ms/step - loss: 0.0838 - accuracy: 0.9666 - val_loss: 0.0670 - val_accuracy: 0.9750\n",
      "Epoch 5/80\n",
      "71/71 [==============================] - 0s 6ms/step - loss: 0.0544 - accuracy: 0.9794 - val_loss: 0.0810 - val_accuracy: 0.9715\n",
      "Epoch 6/80\n",
      "71/71 [==============================] - 0s 7ms/step - loss: 0.0578 - accuracy: 0.9779 - val_loss: 0.0656 - val_accuracy: 0.9725\n",
      "Epoch 7/80\n",
      "71/71 [==============================] - 0s 6ms/step - loss: 0.0456 - accuracy: 0.9817 - val_loss: 0.0517 - val_accuracy: 0.9835\n",
      "Epoch 8/80\n",
      "71/71 [==============================] - 0s 6ms/step - loss: 0.0591 - accuracy: 0.9776 - val_loss: 0.0616 - val_accuracy: 0.9760\n",
      "Epoch 9/80\n",
      "71/71 [==============================] - 0s 7ms/step - loss: 0.0498 - accuracy: 0.9804 - val_loss: 0.0455 - val_accuracy: 0.9805\n",
      "Epoch 10/80\n",
      "71/71 [==============================] - 0s 6ms/step - loss: 0.0601 - accuracy: 0.9772 - val_loss: 0.0656 - val_accuracy: 0.9750\n",
      "Epoch 11/80\n",
      "71/71 [==============================] - 0s 6ms/step - loss: 0.0517 - accuracy: 0.9793 - val_loss: 0.0469 - val_accuracy: 0.9830\n",
      "Epoch 12/80\n",
      "71/71 [==============================] - 0s 6ms/step - loss: 0.0480 - accuracy: 0.9802 - val_loss: 0.0753 - val_accuracy: 0.9710\n",
      "Epoch 13/80\n",
      "71/71 [==============================] - 0s 6ms/step - loss: 0.0417 - accuracy: 0.9838 - val_loss: 0.0357 - val_accuracy: 0.9865\n",
      "Epoch 14/80\n",
      "71/71 [==============================] - 0s 7ms/step - loss: 0.0368 - accuracy: 0.9853 - val_loss: 0.0418 - val_accuracy: 0.9865\n",
      "Epoch 15/80\n",
      "71/71 [==============================] - 0s 7ms/step - loss: 0.0309 - accuracy: 0.9881 - val_loss: 0.0361 - val_accuracy: 0.9885\n",
      "Epoch 16/80\n",
      "71/71 [==============================] - 0s 6ms/step - loss: 0.0307 - accuracy: 0.9880 - val_loss: 0.0409 - val_accuracy: 0.9825\n",
      "Epoch 17/80\n",
      "71/71 [==============================] - 0s 6ms/step - loss: 0.0386 - accuracy: 0.9857 - val_loss: 0.0302 - val_accuracy: 0.9900\n",
      "Epoch 18/80\n",
      "71/71 [==============================] - 0s 6ms/step - loss: 0.0252 - accuracy: 0.9897 - val_loss: 0.0280 - val_accuracy: 0.9925\n",
      "Epoch 19/80\n",
      "71/71 [==============================] - 0s 6ms/step - loss: 0.0653 - accuracy: 0.9784 - val_loss: 0.1589 - val_accuracy: 0.9495\n",
      "Epoch 20/80\n",
      "71/71 [==============================] - 0s 6ms/step - loss: 0.0631 - accuracy: 0.9768 - val_loss: 0.0419 - val_accuracy: 0.9875\n",
      "Epoch 21/80\n",
      "71/71 [==============================] - 0s 6ms/step - loss: 0.0318 - accuracy: 0.9880 - val_loss: 0.0356 - val_accuracy: 0.9905\n",
      "Epoch 22/80\n",
      "71/71 [==============================] - 0s 6ms/step - loss: 0.0244 - accuracy: 0.9902 - val_loss: 0.0592 - val_accuracy: 0.9735\n",
      "Epoch 23/80\n",
      "71/71 [==============================] - 0s 6ms/step - loss: 0.0280 - accuracy: 0.9879 - val_loss: 0.0278 - val_accuracy: 0.9920\n",
      "Epoch 24/80\n",
      "71/71 [==============================] - 0s 6ms/step - loss: 0.0193 - accuracy: 0.9924 - val_loss: 0.0325 - val_accuracy: 0.9855\n",
      "Epoch 25/80\n",
      "71/71 [==============================] - 0s 6ms/step - loss: 0.0196 - accuracy: 0.9917 - val_loss: 0.0347 - val_accuracy: 0.9905\n",
      "Epoch 26/80\n",
      "71/71 [==============================] - 0s 6ms/step - loss: 0.0235 - accuracy: 0.9901 - val_loss: 0.0659 - val_accuracy: 0.9730\n",
      "Epoch 27/80\n",
      "71/71 [==============================] - 0s 6ms/step - loss: 0.0231 - accuracy: 0.9907 - val_loss: 0.0252 - val_accuracy: 0.9910\n",
      "Epoch 28/80\n",
      "71/71 [==============================] - 0s 6ms/step - loss: 0.0193 - accuracy: 0.9923 - val_loss: 0.0244 - val_accuracy: 0.9925\n",
      "Epoch 29/80\n",
      "71/71 [==============================] - 0s 6ms/step - loss: 0.0170 - accuracy: 0.9928 - val_loss: 0.0242 - val_accuracy: 0.9905\n",
      "Epoch 30/80\n",
      "71/71 [==============================] - 0s 6ms/step - loss: 0.0183 - accuracy: 0.9918 - val_loss: 0.0325 - val_accuracy: 0.9875\n",
      "Epoch 31/80\n",
      "71/71 [==============================] - 0s 6ms/step - loss: 0.0196 - accuracy: 0.9910 - val_loss: 0.0273 - val_accuracy: 0.9895\n",
      "Epoch 32/80\n",
      "71/71 [==============================] - 0s 6ms/step - loss: 0.0163 - accuracy: 0.9924 - val_loss: 0.0222 - val_accuracy: 0.9930\n",
      "Epoch 33/80\n",
      "71/71 [==============================] - 0s 6ms/step - loss: 0.0213 - accuracy: 0.9911 - val_loss: 0.0327 - val_accuracy: 0.9905\n",
      "Epoch 34/80\n",
      "71/71 [==============================] - 0s 6ms/step - loss: 0.0184 - accuracy: 0.9920 - val_loss: 0.0241 - val_accuracy: 0.9910\n",
      "Epoch 35/80\n",
      "71/71 [==============================] - 0s 6ms/step - loss: 0.0196 - accuracy: 0.9912 - val_loss: 0.0346 - val_accuracy: 0.9850\n",
      "Epoch 36/80\n",
      "71/71 [==============================] - 0s 6ms/step - loss: 0.0733 - accuracy: 0.9755 - val_loss: 0.0368 - val_accuracy: 0.9875\n",
      "Epoch 37/80\n",
      "71/71 [==============================] - 0s 6ms/step - loss: 0.0242 - accuracy: 0.9901 - val_loss: 0.0269 - val_accuracy: 0.9920\n",
      "Epoch 38/80\n",
      "71/71 [==============================] - 0s 6ms/step - loss: 0.0213 - accuracy: 0.9913 - val_loss: 0.0264 - val_accuracy: 0.9915\n",
      "Epoch 39/80\n",
      "71/71 [==============================] - 0s 6ms/step - loss: 0.0200 - accuracy: 0.9918 - val_loss: 0.0333 - val_accuracy: 0.9915\n",
      "Epoch 40/80\n",
      "71/71 [==============================] - 0s 6ms/step - loss: 0.0179 - accuracy: 0.9923 - val_loss: 0.0352 - val_accuracy: 0.9825\n",
      "Epoch 41/80\n",
      "71/71 [==============================] - 0s 6ms/step - loss: 0.0312 - accuracy: 0.9873 - val_loss: 0.1004 - val_accuracy: 0.9580\n",
      "Epoch 42/80\n",
      "71/71 [==============================] - 0s 6ms/step - loss: 0.0281 - accuracy: 0.9891 - val_loss: 0.0263 - val_accuracy: 0.9930\n",
      "Epoch 43/80\n",
      "71/71 [==============================] - 0s 6ms/step - loss: 0.0340 - accuracy: 0.9874 - val_loss: 0.0462 - val_accuracy: 0.9835\n",
      "Epoch 44/80\n",
      "71/71 [==============================] - 0s 6ms/step - loss: 0.0311 - accuracy: 0.9876 - val_loss: 0.0340 - val_accuracy: 0.9920\n",
      "Epoch 45/80\n",
      "71/71 [==============================] - 0s 6ms/step - loss: 0.0300 - accuracy: 0.9884 - val_loss: 0.0532 - val_accuracy: 0.9890\n",
      "Epoch 46/80\n",
      "71/71 [==============================] - 0s 6ms/step - loss: 0.0208 - accuracy: 0.9923 - val_loss: 0.0263 - val_accuracy: 0.9925\n",
      "Epoch 47/80\n",
      "71/71 [==============================] - 0s 6ms/step - loss: 0.0193 - accuracy: 0.9925 - val_loss: 0.0320 - val_accuracy: 0.9870\n",
      "Epoch 48/80\n",
      "71/71 [==============================] - 0s 6ms/step - loss: 0.0244 - accuracy: 0.9906 - val_loss: 0.0269 - val_accuracy: 0.9925\n",
      "Epoch 49/80\n",
      "71/71 [==============================] - 0s 6ms/step - loss: 0.0200 - accuracy: 0.9919 - val_loss: 0.0273 - val_accuracy: 0.9920\n",
      "Epoch 50/80\n",
      "71/71 [==============================] - 0s 6ms/step - loss: 0.0185 - accuracy: 0.9923 - val_loss: 0.0363 - val_accuracy: 0.9905\n",
      "Epoch 51/80\n",
      "71/71 [==============================] - 0s 6ms/step - loss: 0.0169 - accuracy: 0.9934 - val_loss: 0.0313 - val_accuracy: 0.9910\n",
      "Epoch 52/80\n",
      "71/71 [==============================] - 0s 6ms/step - loss: 0.0186 - accuracy: 0.9926 - val_loss: 0.0270 - val_accuracy: 0.9935\n",
      "Epoch 53/80\n",
      "71/71 [==============================] - 0s 6ms/step - loss: 0.0595 - accuracy: 0.9818 - val_loss: 0.0572 - val_accuracy: 0.9830\n",
      "Epoch 54/80\n",
      "71/71 [==============================] - 0s 7ms/step - loss: 0.0278 - accuracy: 0.9891 - val_loss: 0.0262 - val_accuracy: 0.9925\n",
      "Epoch 55/80\n",
      "71/71 [==============================] - 0s 6ms/step - loss: 0.0200 - accuracy: 0.9911 - val_loss: 0.0368 - val_accuracy: 0.9885\n",
      "Epoch 56/80\n",
      "71/71 [==============================] - 0s 6ms/step - loss: 0.0195 - accuracy: 0.9918 - val_loss: 0.0297 - val_accuracy: 0.9900\n",
      "Epoch 57/80\n",
      "71/71 [==============================] - 0s 6ms/step - loss: 0.0272 - accuracy: 0.9888 - val_loss: 0.0919 - val_accuracy: 0.9780\n",
      "Epoch 58/80\n",
      "71/71 [==============================] - 0s 6ms/step - loss: 0.0627 - accuracy: 0.9811 - val_loss: 0.0230 - val_accuracy: 0.9920\n",
      "Epoch 59/80\n",
      "71/71 [==============================] - 0s 6ms/step - loss: 0.0213 - accuracy: 0.9915 - val_loss: 0.0284 - val_accuracy: 0.9910\n",
      "Epoch 60/80\n",
      "71/71 [==============================] - 0s 6ms/step - loss: 0.0221 - accuracy: 0.9911 - val_loss: 0.0320 - val_accuracy: 0.9885\n",
      "Epoch 61/80\n",
      "71/71 [==============================] - 0s 6ms/step - loss: 0.0204 - accuracy: 0.9921 - val_loss: 0.0304 - val_accuracy: 0.9925\n",
      "Epoch 62/80\n",
      "71/71 [==============================] - 0s 6ms/step - loss: 0.0210 - accuracy: 0.9920 - val_loss: 0.0213 - val_accuracy: 0.9935\n",
      "Epoch 63/80\n",
      "71/71 [==============================] - 0s 6ms/step - loss: 0.0457 - accuracy: 0.9840 - val_loss: 0.0449 - val_accuracy: 0.9795\n",
      "Epoch 64/80\n",
      "71/71 [==============================] - 0s 7ms/step - loss: 0.0238 - accuracy: 0.9905 - val_loss: 0.0266 - val_accuracy: 0.9915\n",
      "Epoch 65/80\n",
      "71/71 [==============================] - 1s 7ms/step - loss: 0.0361 - accuracy: 0.9867 - val_loss: 0.0410 - val_accuracy: 0.9895\n",
      "Epoch 66/80\n",
      "71/71 [==============================] - 0s 6ms/step - loss: 0.0244 - accuracy: 0.9902 - val_loss: 0.0281 - val_accuracy: 0.9920\n",
      "Epoch 67/80\n",
      "71/71 [==============================] - 0s 6ms/step - loss: 0.0180 - accuracy: 0.9922 - val_loss: 0.0267 - val_accuracy: 0.9920\n",
      "Epoch 68/80\n",
      "71/71 [==============================] - 0s 6ms/step - loss: 0.0178 - accuracy: 0.9925 - val_loss: 0.0259 - val_accuracy: 0.9920\n",
      "Epoch 69/80\n",
      "71/71 [==============================] - 0s 6ms/step - loss: 0.0185 - accuracy: 0.9921 - val_loss: 0.0239 - val_accuracy: 0.9935\n",
      "Epoch 70/80\n",
      "71/71 [==============================] - 0s 6ms/step - loss: 0.0168 - accuracy: 0.9922 - val_loss: 0.0292 - val_accuracy: 0.9920\n",
      "Epoch 71/80\n",
      "71/71 [==============================] - 0s 6ms/step - loss: 0.0187 - accuracy: 0.9929 - val_loss: 0.0315 - val_accuracy: 0.9880\n",
      "Epoch 72/80\n",
      "71/71 [==============================] - 0s 6ms/step - loss: 0.0304 - accuracy: 0.9886 - val_loss: 0.0283 - val_accuracy: 0.9890\n",
      "Epoch 73/80\n",
      "71/71 [==============================] - 0s 6ms/step - loss: 0.0254 - accuracy: 0.9898 - val_loss: 0.0543 - val_accuracy: 0.9735\n",
      "Epoch 74/80\n",
      "71/71 [==============================] - 0s 6ms/step - loss: 0.0285 - accuracy: 0.9882 - val_loss: 0.0300 - val_accuracy: 0.9905\n",
      "Epoch 75/80\n",
      "71/71 [==============================] - 0s 6ms/step - loss: 0.0512 - accuracy: 0.9831 - val_loss: 0.0263 - val_accuracy: 0.9915\n",
      "Epoch 76/80\n",
      "71/71 [==============================] - 0s 6ms/step - loss: 0.0188 - accuracy: 0.9923 - val_loss: 0.0293 - val_accuracy: 0.9910\n",
      "Epoch 77/80\n",
      "71/71 [==============================] - 0s 6ms/step - loss: 0.0198 - accuracy: 0.9924 - val_loss: 0.0251 - val_accuracy: 0.9925\n",
      "Epoch 78/80\n",
      "71/71 [==============================] - 0s 6ms/step - loss: 0.0195 - accuracy: 0.9919 - val_loss: 0.0264 - val_accuracy: 0.9925\n",
      "Epoch 79/80\n",
      "71/71 [==============================] - 0s 6ms/step - loss: 0.0184 - accuracy: 0.9927 - val_loss: 0.0312 - val_accuracy: 0.9910\n",
      "Epoch 80/80\n",
      "71/71 [==============================] - 0s 6ms/step - loss: 0.0265 - accuracy: 0.9904 - val_loss: 0.0292 - val_accuracy: 0.9930\n"
     ]
    },
    {
     "data": {
      "text/plain": [
       "<keras.callbacks.History at 0x1f28a293e50>"
      ]
     },
     "execution_count": 11,
     "metadata": {},
     "output_type": "execute_result"
    }
   ],
   "source": [
    "train_subset = X_train[0:20000]      # out of 60000\n",
    "train_labels_subset = train_labels[0:20000]\n",
    "\n",
    "quant_aware_model.fit(train_subset, train_labels_subset,batch_size=256,epochs=80, validation_split=0.1)"
   ]
  },
  {
   "cell_type": "code",
   "execution_count": 12,
   "metadata": {},
   "outputs": [
    {
     "name": "stdout",
     "output_type": "stream",
     "text": [
      "Baseline test accuracy:  0.9881162643432617\n",
      "Quantized test accuracy:  0.9934094548225403\n"
     ]
    }
   ],
   "source": [
    "_, baseline_model_accuracy = model.evaluate(X_test,test_labels, verbose=0)\n",
    "_, quant_aware_model_accuracy = quant_aware_model.evaluate(X_test,test_labels,verbose=0)\n",
    "#_, q_aware_model_accuracy = q_aware_model.evaluate(X_test,test_labels,verbose=0)\n",
    "\n",
    "with tfmot.quantization.keras.quantize_scope():\n",
    "  loaded_model = tf.keras.models.load_model(\"newest_shit.tflite\")\n",
    "\n",
    "#_, newest_aware_model_accuracy = loaded_model.evaluate(X_test,test_labels,verbose=0)\n",
    "\n",
    "print(\"Baseline test accuracy: \", baseline_model_accuracy)\n",
    "print(\"Quantized test accuracy: \", quant_aware_model_accuracy)\n",
    "#print(\"Full Quantized test accuracy: \", newest_aware_model_accuracy)"
   ]
  },
  {
   "cell_type": "code",
   "execution_count": 13,
   "metadata": {},
   "outputs": [],
   "source": [
    "def representative_dataset():\n",
    "    for sample in X_train[:500,:]:\n",
    "      yield [sample.astype(np.float32)]"
   ]
  },
  {
   "cell_type": "code",
   "execution_count": 14,
   "metadata": {},
   "outputs": [
    {
     "name": "stderr",
     "output_type": "stream",
     "text": [
      "WARNING:absl:Found untraced functions such as dense_5_layer_call_fn, dense_5_layer_call_and_return_conditional_losses, dense_6_layer_call_fn, dense_6_layer_call_and_return_conditional_losses, dense_7_layer_call_fn while saving (showing 5 of 12). These functions will not be directly callable after loading.\n"
     ]
    },
    {
     "name": "stdout",
     "output_type": "stream",
     "text": [
      "INFO:tensorflow:Assets written to: C:\\Users\\sandr\\AppData\\Local\\Temp\\tmp8rqp5vmr\\assets\n"
     ]
    },
    {
     "name": "stderr",
     "output_type": "stream",
     "text": [
      "INFO:tensorflow:Assets written to: C:\\Users\\sandr\\AppData\\Local\\Temp\\tmp8rqp5vmr\\assets\n"
     ]
    }
   ],
   "source": [
    "# quantize with 8int weights and 16int activations\n",
    "import tensorflow as tf\n",
    "converter = tf.lite.TFLiteConverter.from_keras_model(quant_aware_model)\n",
    "converter.optimizations = [tf.lite.Optimize.DEFAULT]\n",
    "converter.target_spec.supported_ops = [tf.lite.OpsSet.EXPERIMENTAL_TFLITE_BUILTINS_ACTIVATIONS_INT16_WEIGHTS_INT8]\n",
    "tflite_16int_quant_model = converter.convert()\n",
    "\n"
   ]
  },
  {
   "cell_type": "code",
   "execution_count": 15,
   "metadata": {},
   "outputs": [
    {
     "name": "stderr",
     "output_type": "stream",
     "text": [
      "WARNING:absl:Found untraced functions such as dense_5_layer_call_fn, dense_5_layer_call_and_return_conditional_losses, dense_6_layer_call_fn, dense_6_layer_call_and_return_conditional_losses, dense_7_layer_call_fn while saving (showing 5 of 12). These functions will not be directly callable after loading.\n"
     ]
    },
    {
     "name": "stdout",
     "output_type": "stream",
     "text": [
      "INFO:tensorflow:Assets written to: C:\\Users\\sandr\\AppData\\Local\\Temp\\tmpkvawh20x\\assets\n"
     ]
    },
    {
     "name": "stderr",
     "output_type": "stream",
     "text": [
      "INFO:tensorflow:Assets written to: C:\\Users\\sandr\\AppData\\Local\\Temp\\tmpkvawh20x\\assets\n",
      "c:\\Users\\sandr\\source\\repos\\Monitoring_Converter_ML\\venv\\lib\\site-packages\\tensorflow\\lite\\python\\convert.py:766: UserWarning: Statistics for quantized inputs were expected, but not specified; continuing anyway.\n",
      "  warnings.warn(\"Statistics for quantized inputs were expected, but not \"\n"
     ]
    }
   ],
   "source": [
    "converter = tf.lite.TFLiteConverter.from_keras_model(quant_aware_model)\n",
    "converter.optimizations = [tf.lite.Optimize.DEFAULT]\n",
    "converter.representative_dataset = representative_dataset\n",
    "converter.target_spec.supported_ops = [tf.lite.OpsSet.TFLITE_BUILTINS_INT8]\n",
    "quantized_tflite_model = converter.convert()\n",
    "quantized_tflite_file = \"own_quantized_aware_model.tflite\"\n",
    "\n",
    "# with open(quantized_tflite_file, \"wb\") as f:\n",
    "#     f.write(quantized_tflite_model)"
   ]
  },
  {
   "cell_type": "code",
   "execution_count": 16,
   "metadata": {},
   "outputs": [
    {
     "name": "stderr",
     "output_type": "stream",
     "text": [
      "WARNING:absl:Found untraced functions such as dense_5_layer_call_fn, dense_5_layer_call_and_return_conditional_losses, dense_6_layer_call_fn, dense_6_layer_call_and_return_conditional_losses, dense_7_layer_call_fn while saving (showing 5 of 12). These functions will not be directly callable after loading.\n"
     ]
    },
    {
     "name": "stdout",
     "output_type": "stream",
     "text": [
      "INFO:tensorflow:Assets written to: C:\\Users\\sandr\\AppData\\Local\\Temp\\tmp736vgs0q\\assets\n"
     ]
    },
    {
     "name": "stderr",
     "output_type": "stream",
     "text": [
      "INFO:tensorflow:Assets written to: C:\\Users\\sandr\\AppData\\Local\\Temp\\tmp736vgs0q\\assets\n",
      "c:\\Users\\sandr\\source\\repos\\Monitoring_Converter_ML\\venv\\lib\\site-packages\\tensorflow\\lite\\python\\convert.py:766: UserWarning: Statistics for quantized inputs were expected, but not specified; continuing anyway.\n",
      "  warnings.warn(\"Statistics for quantized inputs were expected, but not \"\n"
     ]
    }
   ],
   "source": [
    "import tensorflow as tf\n",
    "converter = tf.lite.TFLiteConverter.from_keras_model(quant_aware_model)\n",
    "converter.optimizations = [tf.lite.Optimize.DEFAULT]\n",
    "converter.representative_dataset = representative_dataset\n",
    "converter.target_spec.supported_ops = [tf.lite.OpsSet.TFLITE_BUILTINS_INT8]\n",
    "converter.inference_input_type = tf.int8  # or tf.uint8\n",
    "converter.inference_output_type = tf.int8  # or tf.uint8\n",
    "tflite_quant_model_int8 = converter.convert()\n",
    "\n",
    "# with open(\"full_int8_model.tflite\", \"wb\") as f:\n",
    "#     f.write(tflite_quant_model_int8)"
   ]
  },
  {
   "cell_type": "code",
   "execution_count": 19,
   "metadata": {},
   "outputs": [],
   "source": [
    "import numpy as np\n",
    "\n",
    "def evaluate_model(interpreter):\n",
    "    input_index = interpreter.get_input_details()[0][\"index\"]\n",
    "    output_index = interpreter.get_output_details()[0][\"index\"]\n",
    "\n",
    "    # Run predictions on over y image in the test dataset\n",
    "    prediction_digits = []\n",
    "    for i, test_image in enumerate(X_test):\n",
    "        if i % 1000 == 0:\n",
    "            print(\"Evaluated on {n} results so far.\".format(n=i))\n",
    "        \n",
    "        # Pre-processing: add batch dimension and convert to float32 to match with the model's input data format\n",
    "        test_image = np.expand_dims(test_image, axis=0).astype(np.float32)\n",
    "        interpreter.set_tensor(input_index, test_image)\n",
    "\n",
    "        # Run inference\n",
    "        interpreter.invoke()\n",
    "\n",
    "        # Post-processing: remove batch dimension and find the digit with highest probability\n",
    "        output = interpreter.tensor(output_index)\n",
    "        digit = np.argmax(output()[0])\n",
    "        prediction_digits.append(digit)\n",
    "\n",
    "    print(\"\\n\")\n",
    "\n",
    "    # Compare prediction result with ground truth labels to calculate accuracy\n",
    "    prediction_digits = np.array(prediction_digits)\n",
    "    accuracy = (prediction_digits == test_labels).mean()\n",
    "    return accuracy"
   ]
  },
  {
   "cell_type": "code",
   "execution_count": 20,
   "metadata": {},
   "outputs": [
    {
     "name": "stdout",
     "output_type": "stream",
     "text": [
      "Evaluated on 0 results so far.\n",
      "Evaluated on 1000 results so far.\n",
      "Evaluated on 2000 results so far.\n",
      "Evaluated on 3000 results so far.\n",
      "Evaluated on 4000 results so far.\n",
      "Evaluated on 5000 results so far.\n",
      "Evaluated on 6000 results so far.\n",
      "Evaluated on 7000 results so far.\n",
      "Evaluated on 8000 results so far.\n",
      "Evaluated on 9000 results so far.\n",
      "Evaluated on 10000 results so far.\n",
      "Evaluated on 11000 results so far.\n",
      "Evaluated on 12000 results so far.\n",
      "Evaluated on 13000 results so far.\n",
      "Evaluated on 14000 results so far.\n",
      "Evaluated on 15000 results so far.\n",
      "Evaluated on 16000 results so far.\n",
      "Evaluated on 17000 results so far.\n",
      "Evaluated on 18000 results so far.\n",
      "Evaluated on 19000 results so far.\n",
      "\n",
      "\n",
      "Evaluated on 0 results so far.\n",
      "Evaluated on 1000 results so far.\n",
      "Evaluated on 2000 results so far.\n",
      "Evaluated on 3000 results so far.\n",
      "Evaluated on 4000 results so far.\n",
      "Evaluated on 5000 results so far.\n",
      "Evaluated on 6000 results so far.\n",
      "Evaluated on 7000 results so far.\n",
      "Evaluated on 8000 results so far.\n",
      "Evaluated on 9000 results so far.\n",
      "Evaluated on 10000 results so far.\n",
      "Evaluated on 11000 results so far.\n",
      "Evaluated on 12000 results so far.\n",
      "Evaluated on 13000 results so far.\n",
      "Evaluated on 14000 results so far.\n",
      "Evaluated on 15000 results so far.\n",
      "Evaluated on 16000 results so far.\n",
      "Evaluated on 17000 results so far.\n",
      "Evaluated on 18000 results so far.\n",
      "Evaluated on 19000 results so far.\n",
      "\n",
      "\n",
      "With 16int activations TFLite test_accuracy:  0.993565127140633\n",
      "Default TFLite test_accuracy:  0.993565127140633\n"
     ]
    }
   ],
   "source": [
    "interpreter = tf.lite.Interpreter(model_content=tflite_16int_quant_model)\n",
    "interpreter.allocate_tensors()\n",
    "interpreter_default = tf.lite.Interpreter(model_content=quantized_tflite_model)\n",
    "interpreter_default.allocate_tensors()\n",
    "\n",
    "test_accuracy = evaluate_model(interpreter)\n",
    "test_accuracy_default = evaluate_model(interpreter_default)\n",
    "\n",
    "print(\"With 16int activations TFLite test_accuracy: \", test_accuracy)\n",
    "print(\"Default TFLite test_accuracy: \", test_accuracy_default)"
   ]
  },
  {
   "cell_type": "code",
   "execution_count": 26,
   "metadata": {},
   "outputs": [],
   "source": [
    "with open(\"sven_quant_act16int_weights8int.tflite\", \"wb\") as f:\n",
    "    f.write(tflite_16int_quant_model)\n",
    "\n",
    "with open(\"sven_quant_full_int8.tflite\", \"wb\") as t:\n",
    "    t.write(tflite_quant_model_int8)"
   ]
  },
  {
   "cell_type": "code",
   "execution_count": 28,
   "metadata": {},
   "outputs": [],
   "source": [
    "with open(\"sven_quant_int8.tflite\", \"wb\") as m:\n",
    "    m.write(quantized_tflite_model)"
   ]
  }
 ],
 "metadata": {
  "kernelspec": {
   "display_name": "Python 3.10.8 ('venv': venv)",
   "language": "python",
   "name": "python3"
  },
  "language_info": {
   "codemirror_mode": {
    "name": "ipython",
    "version": 3
   },
   "file_extension": ".py",
   "mimetype": "text/x-python",
   "name": "python",
   "nbconvert_exporter": "python",
   "pygments_lexer": "ipython3",
   "version": "3.10.9 (tags/v3.10.9:1dd9be6, Dec  6 2022, 20:01:21) [MSC v.1934 64 bit (AMD64)]"
  },
  "orig_nbformat": 4,
  "vscode": {
   "interpreter": {
    "hash": "ca1c6f47e78944e5b11f7d3b44b6206ab4f171b310471b46fba50959eb66c8df"
   }
  }
 },
 "nbformat": 4,
 "nbformat_minor": 2
}
