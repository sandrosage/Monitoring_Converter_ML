{
 "cells": [
  {
   "cell_type": "code",
   "execution_count": 4,
   "metadata": {},
   "outputs": [],
   "source": [
    "import os\n",
    "import tensorflow as tf\n",
    "import keras\n",
    "import numpy as np\n",
    "import pandas as pd\n",
    "from sklearn.model_selection import train_test_split\n",
    "from keras.utils import to_categorical\n",
    "from sklearn.preprocessing import MinMaxScaler"
   ]
  },
  {
   "cell_type": "code",
   "execution_count": 5,
   "metadata": {},
   "outputs": [],
   "source": [
    "df = pd.read_csv(\"../static_merged_data.csv\")\n",
    "x = df.drop(labels=\"status\", axis=1)\n",
    "y = df[[\"status\"]]\n",
    "min_max_scale = MinMaxScaler()\n",
    "x_scaled = min_max_scale.fit_transform(x)\n",
    "\n",
    "def prepare_train_test_set(X, Y, num_classes):\n",
    "    X_train, X_test, y_train, y_test = train_test_split(X, Y, shuffle=True, test_size=.2)\n",
    "    train_labels = y_train.status.astype('category').cat.codes.to_numpy()\n",
    "    test_labels = y_test.status.astype('category').cat.codes.to_numpy()\n",
    "    return (X_train, X_test), (train_labels, test_labels)"
   ]
  },
  {
   "cell_type": "code",
   "execution_count": 6,
   "metadata": {},
   "outputs": [],
   "source": [
    "(X_train, X_test), (train_labels, test_labels) = prepare_train_test_set(x_scaled,y,3)"
   ]
  },
  {
   "cell_type": "code",
   "execution_count": 1,
   "metadata": {},
   "outputs": [
    {
     "name": "stdout",
     "output_type": "stream",
     "text": [
      "Model: \"sven_quant_model\"\n",
      "_________________________________________________________________\n",
      " Layer (type)                Output Shape              Param #   \n",
      "=================================================================\n",
      " quantize_annotate (Quantize  (None, 64)               320       \n",
      " Annotate)                                                       \n",
      "                                                                 \n",
      " quantize_annotate_1 (Quanti  (None, 128)              8320      \n",
      " zeAnnotate)                                                     \n",
      "                                                                 \n",
      " quantize_annotate_2 (Quanti  (None, 256)              33024     \n",
      " zeAnnotate)                                                     \n",
      "                                                                 \n",
      " quantize_annotate_3 (Quanti  (None, 128)              32896     \n",
      " zeAnnotate)                                                     \n",
      "                                                                 \n",
      " quantize_annotate_4 (Quanti  (None, 16)               2064      \n",
      " zeAnnotate)                                                     \n",
      "                                                                 \n",
      " quantize_annotate_5 (Quanti  (None, 3)                51        \n",
      " zeAnnotate)                                                     \n",
      "                                                                 \n",
      "=================================================================\n",
      "Total params: 76,675\n",
      "Trainable params: 76,675\n",
      "Non-trainable params: 0\n",
      "_________________________________________________________________\n"
     ]
    }
   ],
   "source": [
    "from keras.models import Model\n",
    "from keras.layers import Dropout\n",
    "from keras.layers import Dense\n",
    "from keras.layers import Input, InputLayer\n",
    "import tensorflow as tf\n",
    "from keras import Sequential\n",
    "from keras.layers import Activation \n",
    "import tensorflow_model_optimization as tfmot\n",
    "model = tfmot.quantization.keras.quantize_annotate_model(Sequential([\n",
    "    InputLayer(input_shape=(4,), name=\"input_layer\"),\n",
    "    tfmot.quantization.keras.quantize_annotate_layer(Dense(64, activation=\"relu\")),\n",
    "    tfmot.quantization.keras.quantize_annotate_layer(Dense(128, activation=\"relu\")),\n",
    "    tfmot.quantization.keras.quantize_annotate_layer(Dense(256, activation=\"relu\")),\n",
    "    tfmot.quantization.keras.quantize_annotate_layer(Dense(128, activation=\"relu\")),\n",
    "    tfmot.quantization.keras.quantize_annotate_layer(Dense(16, activation=\"relu\")),\n",
    "    Dense(3, name=\"output_layer\")\n",
    "], name=\"sven_quant_model\"))\n",
    "\n",
    "model.summary()"
   ]
  },
  {
   "cell_type": "code",
   "execution_count": 7,
   "metadata": {},
   "outputs": [],
   "source": [
    "from keras.models import load_model\n",
    "import tensorflow_model_optimization as tfmot\n",
    "\n",
    "with tfmot.quantization.keras.quantize_scope():\n",
    "    model = load_model(\"./sven_quant_model.h5\")"
   ]
  },
  {
   "cell_type": "code",
   "execution_count": 2,
   "metadata": {},
   "outputs": [
    {
     "ename": "NameError",
     "evalue": "name 'X_train' is not defined",
     "output_type": "error",
     "traceback": [
      "\u001b[1;31m---------------------------------------------------------------------------\u001b[0m",
      "\u001b[1;31mNameError\u001b[0m                                 Traceback (most recent call last)",
      "\u001b[1;32mc:\\Users\\sandr\\source\\repos\\Monitoring_Converter_ML\\Machine_Learining\\Sven_own_model_quantization.ipynb Cell 7\u001b[0m in \u001b[0;36m<cell line: 15>\u001b[1;34m()\u001b[0m\n\u001b[0;32m      <a href='vscode-notebook-cell:/c%3A/Users/sandr/source/repos/Monitoring_Converter_ML/Machine_Learining/Sven_own_model_quantization.ipynb#W6sZmlsZQ%3D%3D?line=5'>6</a>\u001b[0m model\u001b[39m.\u001b[39mcompile(optimizer\u001b[39m=\u001b[39mAdam(), loss\u001b[39m=\u001b[39mSparseCategoricalCrossentropy(from_logits\u001b[39m=\u001b[39m\u001b[39mTrue\u001b[39;00m), metrics\u001b[39m=\u001b[39m[\u001b[39m\"\u001b[39m\u001b[39maccuracy\u001b[39m\u001b[39m\"\u001b[39m])\n\u001b[0;32m      <a href='vscode-notebook-cell:/c%3A/Users/sandr/source/repos/Monitoring_Converter_ML/Machine_Learining/Sven_own_model_quantization.ipynb#W6sZmlsZQ%3D%3D?line=7'>8</a>\u001b[0m model_checkpoint_callback \u001b[39m=\u001b[39m tf\u001b[39m.\u001b[39mkeras\u001b[39m.\u001b[39mcallbacks\u001b[39m.\u001b[39mModelCheckpoint(\n\u001b[0;32m      <a href='vscode-notebook-cell:/c%3A/Users/sandr/source/repos/Monitoring_Converter_ML/Machine_Learining/Sven_own_model_quantization.ipynb#W6sZmlsZQ%3D%3D?line=8'>9</a>\u001b[0m     filepath\u001b[39m=\u001b[39m(model\u001b[39m.\u001b[39mname \u001b[39m+\u001b[39m \u001b[39m\"\u001b[39m\u001b[39m.h5\u001b[39m\u001b[39m\"\u001b[39m),\n\u001b[0;32m     <a href='vscode-notebook-cell:/c%3A/Users/sandr/source/repos/Monitoring_Converter_ML/Machine_Learining/Sven_own_model_quantization.ipynb#W6sZmlsZQ%3D%3D?line=9'>10</a>\u001b[0m     save_weights_only\u001b[39m=\u001b[39m\u001b[39mFalse\u001b[39;00m,\n\u001b[0;32m     <a href='vscode-notebook-cell:/c%3A/Users/sandr/source/repos/Monitoring_Converter_ML/Machine_Learining/Sven_own_model_quantization.ipynb#W6sZmlsZQ%3D%3D?line=10'>11</a>\u001b[0m     monitor\u001b[39m=\u001b[39m\u001b[39m'\u001b[39m\u001b[39mval_accuracy\u001b[39m\u001b[39m'\u001b[39m,\n\u001b[0;32m     <a href='vscode-notebook-cell:/c%3A/Users/sandr/source/repos/Monitoring_Converter_ML/Machine_Learining/Sven_own_model_quantization.ipynb#W6sZmlsZQ%3D%3D?line=11'>12</a>\u001b[0m     mode\u001b[39m=\u001b[39m\u001b[39m'\u001b[39m\u001b[39mmax\u001b[39m\u001b[39m'\u001b[39m,\n\u001b[0;32m     <a href='vscode-notebook-cell:/c%3A/Users/sandr/source/repos/Monitoring_Converter_ML/Machine_Learining/Sven_own_model_quantization.ipynb#W6sZmlsZQ%3D%3D?line=12'>13</a>\u001b[0m     save_best_only\u001b[39m=\u001b[39m\u001b[39mTrue\u001b[39;00m)\n\u001b[1;32m---> <a href='vscode-notebook-cell:/c%3A/Users/sandr/source/repos/Monitoring_Converter_ML/Machine_Learining/Sven_own_model_quantization.ipynb#W6sZmlsZQ%3D%3D?line=14'>15</a>\u001b[0m history \u001b[39m=\u001b[39m model\u001b[39m.\u001b[39mfit(X_train, train_labels, epochs\u001b[39m=\u001b[39m\u001b[39m50\u001b[39m, validation_split\u001b[39m=\u001b[39m\u001b[39m0.1\u001b[39m, callbacks\u001b[39m=\u001b[39m[model_checkpoint_callback])\n",
      "\u001b[1;31mNameError\u001b[0m: name 'X_train' is not defined"
     ]
    }
   ],
   "source": [
    "from keras.losses import CategoricalCrossentropy, SparseCategoricalCrossentropy\n",
    "from keras.optimizers import Adam\n",
    "\n",
    "\n",
    "\n",
    "model.compile(optimizer=Adam(), loss=SparseCategoricalCrossentropy(from_logits=True), metrics=[\"accuracy\"])\n",
    "\n",
    "model_checkpoint_callback = tf.keras.callbacks.ModelCheckpoint(\n",
    "    filepath=(model.name + \".h5\"),\n",
    "    save_weights_only=False,\n",
    "    monitor='val_accuracy',\n",
    "    mode='max',\n",
    "    save_best_only=True)\n",
    "\n",
    "history = model.fit(X_train, train_labels, epochs=50, validation_split=0.1, callbacks=[model_checkpoint_callback])"
   ]
  },
  {
   "cell_type": "code",
   "execution_count": 12,
   "metadata": {},
   "outputs": [
    {
     "name": "stdout",
     "output_type": "stream",
     "text": [
      "Model: \"sven_quant_model\"\n",
      "_________________________________________________________________\n",
      " Layer (type)                Output Shape              Param #   \n",
      "=================================================================\n",
      " quantize_layer_1 (QuantizeL  (None, 4)                3         \n",
      " ayer)                                                           \n",
      "                                                                 \n",
      " quant_dense_5 (QuantizeWrap  (None, 64)               325       \n",
      " perV2)                                                          \n",
      "                                                                 \n",
      " quant_dense_6 (QuantizeWrap  (None, 128)              8325      \n",
      " perV2)                                                          \n",
      "                                                                 \n",
      " quant_dense_7 (QuantizeWrap  (None, 256)              33029     \n",
      " perV2)                                                          \n",
      "                                                                 \n",
      " quant_dense_8 (QuantizeWrap  (None, 128)              32901     \n",
      " perV2)                                                          \n",
      "                                                                 \n",
      " quant_dense_9 (QuantizeWrap  (None, 16)               2069      \n",
      " perV2)                                                          \n",
      "                                                                 \n",
      " quant_output_layer (Quantiz  (None, 3)                56        \n",
      " eWrapperV2)                                                     \n",
      "                                                                 \n",
      "=================================================================\n",
      "Total params: 76,708\n",
      "Trainable params: 76,675\n",
      "Non-trainable params: 33\n",
      "_________________________________________________________________\n"
     ]
    }
   ],
   "source": [
    "import tensorflow_model_optimization as tfmot\n",
    "quantize_model = tfmot.quantization.keras.quantize_model\n",
    "# q_aware stands for quantization aware\n",
    "q_aware_model = quantize_model(model)\n",
    "\n",
    "# Use `quantize_apply` to actually make the model quantization aware.\n",
    "with tfmot.quantization.keras.quantize_scope():\n",
    "    quant_aware_model = tfmot.quantization.keras.quantize_apply(model)\n",
    "\n",
    "quant_aware_model.summary()\n",
    "\n",
    "# 'quantized_model' requires a recompile\n",
    "quant_aware_model.compile(optimizer='adam', loss=keras.losses.SparseCategoricalCrossentropy(from_logits=True), metrics=['accuracy'])\n",
    "#q_aware_model.compile(optimizer='adam', loss=keras.losses.SparseCategoricalCrossentropy(from_logits=True), metrics=['accuracy'])\n",
    "\n"
   ]
  },
  {
   "cell_type": "code",
   "execution_count": 13,
   "metadata": {},
   "outputs": [
    {
     "name": "stdout",
     "output_type": "stream",
     "text": [
      "Epoch 1/80\n",
      "71/71 [==============================] - 2s 9ms/step - loss: 0.1272 - accuracy: 0.9518 - val_loss: 0.1019 - val_accuracy: 0.9580\n",
      "Epoch 2/80\n",
      "71/71 [==============================] - 0s 6ms/step - loss: 0.0847 - accuracy: 0.9667 - val_loss: 0.0937 - val_accuracy: 0.9665\n",
      "Epoch 3/80\n",
      "71/71 [==============================] - 0s 6ms/step - loss: 0.0861 - accuracy: 0.9646 - val_loss: 0.0799 - val_accuracy: 0.9685\n",
      "Epoch 4/80\n",
      "71/71 [==============================] - 0s 6ms/step - loss: 0.0738 - accuracy: 0.9711 - val_loss: 0.0749 - val_accuracy: 0.9700\n",
      "Epoch 5/80\n",
      "71/71 [==============================] - 0s 6ms/step - loss: 0.0769 - accuracy: 0.9687 - val_loss: 0.0846 - val_accuracy: 0.9660\n",
      "Epoch 6/80\n",
      "71/71 [==============================] - 0s 6ms/step - loss: 0.0695 - accuracy: 0.9727 - val_loss: 0.0760 - val_accuracy: 0.9695\n",
      "Epoch 7/80\n",
      "71/71 [==============================] - 0s 6ms/step - loss: 0.0626 - accuracy: 0.9732 - val_loss: 0.0622 - val_accuracy: 0.9740\n",
      "Epoch 8/80\n",
      "71/71 [==============================] - 0s 6ms/step - loss: 0.0561 - accuracy: 0.9761 - val_loss: 0.0546 - val_accuracy: 0.9810\n",
      "Epoch 9/80\n",
      "71/71 [==============================] - 0s 6ms/step - loss: 0.0467 - accuracy: 0.9815 - val_loss: 0.0591 - val_accuracy: 0.9830\n",
      "Epoch 10/80\n",
      "71/71 [==============================] - 0s 6ms/step - loss: 0.0404 - accuracy: 0.9828 - val_loss: 0.0425 - val_accuracy: 0.9830\n",
      "Epoch 11/80\n",
      "71/71 [==============================] - 0s 6ms/step - loss: 0.0390 - accuracy: 0.9836 - val_loss: 0.0340 - val_accuracy: 0.9890\n",
      "Epoch 12/80\n",
      "71/71 [==============================] - 0s 6ms/step - loss: 0.0454 - accuracy: 0.9826 - val_loss: 0.0439 - val_accuracy: 0.9870\n",
      "Epoch 13/80\n",
      "71/71 [==============================] - 0s 7ms/step - loss: 0.0415 - accuracy: 0.9836 - val_loss: 0.0435 - val_accuracy: 0.9840\n",
      "Epoch 14/80\n",
      "71/71 [==============================] - 0s 7ms/step - loss: 0.0369 - accuracy: 0.9842 - val_loss: 0.0428 - val_accuracy: 0.9840\n",
      "Epoch 15/80\n",
      "71/71 [==============================] - 0s 7ms/step - loss: 0.0317 - accuracy: 0.9873 - val_loss: 0.0314 - val_accuracy: 0.9895\n",
      "Epoch 16/80\n",
      "71/71 [==============================] - 0s 7ms/step - loss: 0.0316 - accuracy: 0.9863 - val_loss: 0.0267 - val_accuracy: 0.9920\n",
      "Epoch 17/80\n",
      "71/71 [==============================] - 0s 7ms/step - loss: 0.0286 - accuracy: 0.9883 - val_loss: 0.0393 - val_accuracy: 0.9855\n",
      "Epoch 18/80\n",
      "71/71 [==============================] - 0s 7ms/step - loss: 0.0265 - accuracy: 0.9889 - val_loss: 0.0295 - val_accuracy: 0.9895\n",
      "Epoch 19/80\n",
      "71/71 [==============================] - 0s 6ms/step - loss: 0.0230 - accuracy: 0.9907 - val_loss: 0.0246 - val_accuracy: 0.9905\n",
      "Epoch 20/80\n",
      "71/71 [==============================] - 0s 6ms/step - loss: 0.0210 - accuracy: 0.9908 - val_loss: 0.0257 - val_accuracy: 0.9930\n",
      "Epoch 21/80\n",
      "71/71 [==============================] - 0s 6ms/step - loss: 0.0227 - accuracy: 0.9908 - val_loss: 0.0246 - val_accuracy: 0.9920\n",
      "Epoch 22/80\n",
      "71/71 [==============================] - 0s 7ms/step - loss: 0.0215 - accuracy: 0.9913 - val_loss: 0.0253 - val_accuracy: 0.9910\n",
      "Epoch 23/80\n",
      "71/71 [==============================] - 0s 6ms/step - loss: 0.0220 - accuracy: 0.9903 - val_loss: 0.0247 - val_accuracy: 0.9930\n",
      "Epoch 24/80\n",
      "71/71 [==============================] - 0s 6ms/step - loss: 0.0208 - accuracy: 0.9912 - val_loss: 0.0335 - val_accuracy: 0.9885\n",
      "Epoch 25/80\n",
      "71/71 [==============================] - 0s 6ms/step - loss: 0.0232 - accuracy: 0.9898 - val_loss: 0.0303 - val_accuracy: 0.9895\n",
      "Epoch 26/80\n",
      "71/71 [==============================] - 0s 6ms/step - loss: 0.0239 - accuracy: 0.9900 - val_loss: 0.0306 - val_accuracy: 0.9900\n",
      "Epoch 27/80\n",
      "71/71 [==============================] - 0s 6ms/step - loss: 0.0209 - accuracy: 0.9912 - val_loss: 0.0246 - val_accuracy: 0.9915\n",
      "Epoch 28/80\n",
      "71/71 [==============================] - 0s 6ms/step - loss: 0.0216 - accuracy: 0.9909 - val_loss: 0.0292 - val_accuracy: 0.9905\n",
      "Epoch 29/80\n",
      "71/71 [==============================] - 0s 6ms/step - loss: 0.0238 - accuracy: 0.9903 - val_loss: 0.0306 - val_accuracy: 0.9885\n",
      "Epoch 30/80\n",
      "71/71 [==============================] - 0s 6ms/step - loss: 0.0302 - accuracy: 0.9873 - val_loss: 0.0561 - val_accuracy: 0.9810\n",
      "Epoch 31/80\n",
      "71/71 [==============================] - 0s 6ms/step - loss: 0.0433 - accuracy: 0.9838 - val_loss: 0.0915 - val_accuracy: 0.9675\n",
      "Epoch 32/80\n",
      "71/71 [==============================] - 0s 6ms/step - loss: 0.0224 - accuracy: 0.9907 - val_loss: 0.0248 - val_accuracy: 0.9935\n",
      "Epoch 33/80\n",
      "71/71 [==============================] - 0s 7ms/step - loss: 0.0203 - accuracy: 0.9909 - val_loss: 0.0257 - val_accuracy: 0.9915\n",
      "Epoch 34/80\n",
      "71/71 [==============================] - 0s 7ms/step - loss: 0.0204 - accuracy: 0.9912 - val_loss: 0.0236 - val_accuracy: 0.9920\n",
      "Epoch 35/80\n",
      "71/71 [==============================] - 0s 7ms/step - loss: 0.0203 - accuracy: 0.9914 - val_loss: 0.0223 - val_accuracy: 0.9930\n",
      "Epoch 36/80\n",
      "71/71 [==============================] - 0s 6ms/step - loss: 0.0214 - accuracy: 0.9904 - val_loss: 0.0250 - val_accuracy: 0.9915\n",
      "Epoch 37/80\n",
      "71/71 [==============================] - 0s 6ms/step - loss: 0.0197 - accuracy: 0.9911 - val_loss: 0.0251 - val_accuracy: 0.9920\n",
      "Epoch 38/80\n",
      "71/71 [==============================] - 0s 6ms/step - loss: 0.0209 - accuracy: 0.9902 - val_loss: 0.0234 - val_accuracy: 0.9935\n",
      "Epoch 39/80\n",
      "71/71 [==============================] - 0s 6ms/step - loss: 0.0199 - accuracy: 0.9909 - val_loss: 0.0253 - val_accuracy: 0.9910\n",
      "Epoch 40/80\n",
      "71/71 [==============================] - 0s 6ms/step - loss: 0.0196 - accuracy: 0.9917 - val_loss: 0.0277 - val_accuracy: 0.9915\n",
      "Epoch 41/80\n",
      "71/71 [==============================] - 0s 6ms/step - loss: 0.0197 - accuracy: 0.9918 - val_loss: 0.0254 - val_accuracy: 0.9920\n",
      "Epoch 42/80\n",
      "71/71 [==============================] - 0s 6ms/step - loss: 0.0190 - accuracy: 0.9912 - val_loss: 0.0246 - val_accuracy: 0.9915\n",
      "Epoch 43/80\n",
      "71/71 [==============================] - 0s 6ms/step - loss: 0.0196 - accuracy: 0.9914 - val_loss: 0.0278 - val_accuracy: 0.9910\n",
      "Epoch 44/80\n",
      "71/71 [==============================] - 0s 7ms/step - loss: 0.0234 - accuracy: 0.9899 - val_loss: 0.0248 - val_accuracy: 0.9905\n",
      "Epoch 45/80\n",
      "71/71 [==============================] - 1s 7ms/step - loss: 0.0399 - accuracy: 0.9859 - val_loss: 0.0246 - val_accuracy: 0.9905\n",
      "Epoch 46/80\n",
      "71/71 [==============================] - 1s 7ms/step - loss: 0.0209 - accuracy: 0.9907 - val_loss: 0.0263 - val_accuracy: 0.9925\n",
      "Epoch 47/80\n",
      "71/71 [==============================] - 0s 7ms/step - loss: 0.0213 - accuracy: 0.9911 - val_loss: 0.0249 - val_accuracy: 0.9915\n",
      "Epoch 48/80\n",
      "71/71 [==============================] - 0s 7ms/step - loss: 0.0208 - accuracy: 0.9908 - val_loss: 0.0271 - val_accuracy: 0.9910\n",
      "Epoch 49/80\n",
      "71/71 [==============================] - 0s 6ms/step - loss: 0.0206 - accuracy: 0.9907 - val_loss: 0.0358 - val_accuracy: 0.9905\n",
      "Epoch 50/80\n",
      "71/71 [==============================] - 0s 6ms/step - loss: 0.0211 - accuracy: 0.9907 - val_loss: 0.0294 - val_accuracy: 0.9900\n",
      "Epoch 51/80\n",
      "71/71 [==============================] - 0s 6ms/step - loss: 0.0208 - accuracy: 0.9908 - val_loss: 0.0265 - val_accuracy: 0.9915\n",
      "Epoch 52/80\n",
      "71/71 [==============================] - 0s 6ms/step - loss: 0.0197 - accuracy: 0.9914 - val_loss: 0.0243 - val_accuracy: 0.9920\n",
      "Epoch 53/80\n",
      "71/71 [==============================] - 0s 6ms/step - loss: 0.0218 - accuracy: 0.9906 - val_loss: 0.0284 - val_accuracy: 0.9895\n",
      "Epoch 54/80\n",
      "71/71 [==============================] - 0s 6ms/step - loss: 0.0223 - accuracy: 0.9901 - val_loss: 0.0270 - val_accuracy: 0.9915\n",
      "Epoch 55/80\n",
      "71/71 [==============================] - 0s 6ms/step - loss: 0.0205 - accuracy: 0.9911 - val_loss: 0.0284 - val_accuracy: 0.9915\n",
      "Epoch 56/80\n",
      "71/71 [==============================] - 0s 6ms/step - loss: 0.0207 - accuracy: 0.9909 - val_loss: 0.0277 - val_accuracy: 0.9910\n",
      "Epoch 57/80\n",
      "71/71 [==============================] - 0s 6ms/step - loss: 0.0224 - accuracy: 0.9902 - val_loss: 0.0290 - val_accuracy: 0.9895\n",
      "Epoch 58/80\n",
      "71/71 [==============================] - 0s 6ms/step - loss: 0.0220 - accuracy: 0.9906 - val_loss: 0.0302 - val_accuracy: 0.9890\n",
      "Epoch 59/80\n",
      "71/71 [==============================] - 0s 6ms/step - loss: 0.0253 - accuracy: 0.9887 - val_loss: 0.0293 - val_accuracy: 0.9910\n",
      "Epoch 60/80\n",
      "71/71 [==============================] - 0s 6ms/step - loss: 0.0215 - accuracy: 0.9909 - val_loss: 0.0316 - val_accuracy: 0.9910\n",
      "Epoch 61/80\n",
      "71/71 [==============================] - 0s 6ms/step - loss: 0.0206 - accuracy: 0.9908 - val_loss: 0.0273 - val_accuracy: 0.9910\n",
      "Epoch 62/80\n",
      "71/71 [==============================] - 0s 6ms/step - loss: 0.0815 - accuracy: 0.9733 - val_loss: 0.0883 - val_accuracy: 0.9645\n",
      "Epoch 63/80\n",
      "71/71 [==============================] - 0s 6ms/step - loss: 0.0276 - accuracy: 0.9893 - val_loss: 0.0255 - val_accuracy: 0.9905\n",
      "Epoch 64/80\n",
      "71/71 [==============================] - 0s 6ms/step - loss: 0.0214 - accuracy: 0.9918 - val_loss: 0.0251 - val_accuracy: 0.9900\n",
      "Epoch 65/80\n",
      "71/71 [==============================] - 0s 6ms/step - loss: 0.0215 - accuracy: 0.9909 - val_loss: 0.0245 - val_accuracy: 0.9925\n",
      "Epoch 66/80\n",
      "71/71 [==============================] - 0s 6ms/step - loss: 0.0201 - accuracy: 0.9917 - val_loss: 0.0244 - val_accuracy: 0.9900\n",
      "Epoch 67/80\n",
      "71/71 [==============================] - 0s 6ms/step - loss: 0.0204 - accuracy: 0.9909 - val_loss: 0.0218 - val_accuracy: 0.9925\n",
      "Epoch 68/80\n",
      "71/71 [==============================] - 0s 6ms/step - loss: 0.0217 - accuracy: 0.9914 - val_loss: 0.0260 - val_accuracy: 0.9935\n",
      "Epoch 69/80\n",
      "71/71 [==============================] - 0s 5ms/step - loss: 0.0221 - accuracy: 0.9901 - val_loss: 0.0235 - val_accuracy: 0.9935\n",
      "Epoch 70/80\n",
      "71/71 [==============================] - 0s 6ms/step - loss: 0.0210 - accuracy: 0.9913 - val_loss: 0.0263 - val_accuracy: 0.9920\n",
      "Epoch 71/80\n",
      "71/71 [==============================] - 0s 6ms/step - loss: 0.0387 - accuracy: 0.9864 - val_loss: 0.0389 - val_accuracy: 0.9880\n",
      "Epoch 72/80\n",
      "71/71 [==============================] - 0s 6ms/step - loss: 0.0301 - accuracy: 0.9886 - val_loss: 0.0276 - val_accuracy: 0.9900\n",
      "Epoch 73/80\n",
      "71/71 [==============================] - 0s 6ms/step - loss: 0.0220 - accuracy: 0.9908 - val_loss: 0.0270 - val_accuracy: 0.9900\n",
      "Epoch 74/80\n",
      "71/71 [==============================] - 0s 6ms/step - loss: 0.0218 - accuracy: 0.9901 - val_loss: 0.0262 - val_accuracy: 0.9915\n",
      "Epoch 75/80\n",
      "71/71 [==============================] - 0s 6ms/step - loss: 0.0210 - accuracy: 0.9909 - val_loss: 0.0271 - val_accuracy: 0.9915\n",
      "Epoch 76/80\n",
      "71/71 [==============================] - 0s 6ms/step - loss: 0.0214 - accuracy: 0.9904 - val_loss: 0.0294 - val_accuracy: 0.9900\n",
      "Epoch 77/80\n",
      "71/71 [==============================] - 0s 6ms/step - loss: 0.0202 - accuracy: 0.9916 - val_loss: 0.0233 - val_accuracy: 0.9910\n",
      "Epoch 78/80\n",
      "71/71 [==============================] - 0s 6ms/step - loss: 0.0203 - accuracy: 0.9916 - val_loss: 0.0263 - val_accuracy: 0.9915\n",
      "Epoch 79/80\n",
      "71/71 [==============================] - 0s 6ms/step - loss: 0.0205 - accuracy: 0.9914 - val_loss: 0.0271 - val_accuracy: 0.9905\n",
      "Epoch 80/80\n",
      "71/71 [==============================] - 0s 5ms/step - loss: 0.0459 - accuracy: 0.9844 - val_loss: 0.0319 - val_accuracy: 0.9865\n"
     ]
    },
    {
     "data": {
      "text/plain": [
       "<keras.callbacks.History at 0x2c9b5803400>"
      ]
     },
     "execution_count": 13,
     "metadata": {},
     "output_type": "execute_result"
    }
   ],
   "source": [
    "train_subset = X_train[0:20000]      # out of 60000\n",
    "train_labels_subset = train_labels[0:20000]\n",
    "\n",
    "quant_aware_model.fit(train_subset, train_labels_subset,batch_size=256,epochs=80, validation_split=0.1)"
   ]
  },
  {
   "cell_type": "code",
   "execution_count": 14,
   "metadata": {},
   "outputs": [
    {
     "name": "stdout",
     "output_type": "stream",
     "text": [
      "Baseline test accuracy:  0.9813181161880493\n",
      "Quantized test accuracy:  0.9870264530181885\n"
     ]
    }
   ],
   "source": [
    "_, baseline_model_accuracy = model.evaluate(X_test,test_labels, verbose=0)\n",
    "_, quant_aware_model_accuracy = quant_aware_model.evaluate(X_test,test_labels,verbose=0)\n",
    "#_, q_aware_model_accuracy = q_aware_model.evaluate(X_test,test_labels,verbose=0)\n",
    "\n",
    "with tfmot.quantization.keras.quantize_scope():\n",
    "  loaded_model = tf.keras.models.load_model(\"newest_shit.tflite\")\n",
    "\n",
    "#_, newest_aware_model_accuracy = loaded_model.evaluate(X_test,test_labels,verbose=0)\n",
    "\n",
    "print(\"Baseline test accuracy: \", baseline_model_accuracy)\n",
    "print(\"Quantized test accuracy: \", quant_aware_model_accuracy)\n",
    "#print(\"Full Quantized test accuracy: \", newest_aware_model_accuracy)"
   ]
  },
  {
   "cell_type": "code",
   "execution_count": 15,
   "metadata": {},
   "outputs": [],
   "source": [
    "def representative_dataset():\n",
    "    for sample in X_train[:500,:]:\n",
    "      yield [sample.astype(np.float32)]"
   ]
  },
  {
   "cell_type": "code",
   "execution_count": null,
   "metadata": {},
   "outputs": [
    {
     "name": "stderr",
     "output_type": "stream",
     "text": [
      "WARNING:absl:Found untraced functions such as dense_5_layer_call_fn, dense_5_layer_call_and_return_conditional_losses, dense_6_layer_call_fn, dense_6_layer_call_and_return_conditional_losses, dense_7_layer_call_fn while saving (showing 5 of 12). These functions will not be directly callable after loading.\n"
     ]
    },
    {
     "name": "stdout",
     "output_type": "stream",
     "text": [
      "INFO:tensorflow:Assets written to: C:\\Users\\sandr\\AppData\\Local\\Temp\\tmp8rqp5vmr\\assets\n"
     ]
    },
    {
     "name": "stderr",
     "output_type": "stream",
     "text": [
      "INFO:tensorflow:Assets written to: C:\\Users\\sandr\\AppData\\Local\\Temp\\tmp8rqp5vmr\\assets\n"
     ]
    }
   ],
   "source": [
    "# quantize with 8int weights and 16int activations\n",
    "import tensorflow as tf\n",
    "converter = tf.lite.TFLiteConverter.from_keras_model(quant_aware_model)\n",
    "converter.optimizations = [tf.lite.Optimize.DEFAULT]\n",
    "converter.target_spec.supported_ops = [tf.lite.OpsSet.EXPERIMENTAL_TFLITE_BUILTINS_ACTIVATIONS_INT16_WEIGHTS_INT8]\n",
    "tflite_16int_quant_model = converter.convert()\n",
    "\n"
   ]
  },
  {
   "cell_type": "code",
   "execution_count": null,
   "metadata": {},
   "outputs": [
    {
     "name": "stderr",
     "output_type": "stream",
     "text": [
      "WARNING:absl:Found untraced functions such as dense_5_layer_call_fn, dense_5_layer_call_and_return_conditional_losses, dense_6_layer_call_fn, dense_6_layer_call_and_return_conditional_losses, dense_7_layer_call_fn while saving (showing 5 of 12). These functions will not be directly callable after loading.\n"
     ]
    },
    {
     "name": "stdout",
     "output_type": "stream",
     "text": [
      "INFO:tensorflow:Assets written to: C:\\Users\\sandr\\AppData\\Local\\Temp\\tmpkvawh20x\\assets\n"
     ]
    },
    {
     "name": "stderr",
     "output_type": "stream",
     "text": [
      "INFO:tensorflow:Assets written to: C:\\Users\\sandr\\AppData\\Local\\Temp\\tmpkvawh20x\\assets\n",
      "c:\\Users\\sandr\\source\\repos\\Monitoring_Converter_ML\\venv\\lib\\site-packages\\tensorflow\\lite\\python\\convert.py:766: UserWarning: Statistics for quantized inputs were expected, but not specified; continuing anyway.\n",
      "  warnings.warn(\"Statistics for quantized inputs were expected, but not \"\n"
     ]
    }
   ],
   "source": [
    "converter = tf.lite.TFLiteConverter.from_keras_model(quant_aware_model)\n",
    "converter.optimizations = [tf.lite.Optimize.DEFAULT]\n",
    "converter.representative_dataset = representative_dataset\n",
    "converter.target_spec.supported_ops = [tf.lite.OpsSet.TFLITE_BUILTINS_INT8]\n",
    "quantized_tflite_model = converter.convert()\n",
    "quantized_tflite_file = \"own_quantized_aware_model.tflite\"\n",
    "\n",
    "# with open(quantized_tflite_file, \"wb\") as f:\n",
    "#     f.write(quantized_tflite_model)"
   ]
  },
  {
   "cell_type": "code",
   "execution_count": null,
   "metadata": {},
   "outputs": [
    {
     "name": "stderr",
     "output_type": "stream",
     "text": [
      "WARNING:absl:Found untraced functions such as dense_5_layer_call_fn, dense_5_layer_call_and_return_conditional_losses, dense_6_layer_call_fn, dense_6_layer_call_and_return_conditional_losses, dense_7_layer_call_fn while saving (showing 5 of 12). These functions will not be directly callable after loading.\n"
     ]
    },
    {
     "name": "stdout",
     "output_type": "stream",
     "text": [
      "INFO:tensorflow:Assets written to: C:\\Users\\sandr\\AppData\\Local\\Temp\\tmp736vgs0q\\assets\n"
     ]
    },
    {
     "name": "stderr",
     "output_type": "stream",
     "text": [
      "INFO:tensorflow:Assets written to: C:\\Users\\sandr\\AppData\\Local\\Temp\\tmp736vgs0q\\assets\n",
      "c:\\Users\\sandr\\source\\repos\\Monitoring_Converter_ML\\venv\\lib\\site-packages\\tensorflow\\lite\\python\\convert.py:766: UserWarning: Statistics for quantized inputs were expected, but not specified; continuing anyway.\n",
      "  warnings.warn(\"Statistics for quantized inputs were expected, but not \"\n"
     ]
    }
   ],
   "source": [
    "import tensorflow as tf\n",
    "converter = tf.lite.TFLiteConverter.from_keras_model(quant_aware_model)\n",
    "converter.optimizations = [tf.lite.Optimize.DEFAULT]\n",
    "converter.representative_dataset = representative_dataset\n",
    "converter.target_spec.supported_ops = [tf.lite.OpsSet.TFLITE_BUILTINS_INT8]\n",
    "converter.inference_input_type = tf.int8  # or tf.uint8\n",
    "converter.inference_output_type = tf.int8  # or tf.uint8\n",
    "tflite_quant_model_int8 = converter.convert()\n",
    "\n",
    "# with open(\"full_int8_model.tflite\", \"wb\") as f:\n",
    "#     f.write(tflite_quant_model_int8)"
   ]
  },
  {
   "cell_type": "code",
   "execution_count": null,
   "metadata": {},
   "outputs": [],
   "source": [
    "import numpy as np\n",
    "\n",
    "def evaluate_model(interpreter):\n",
    "    input_index = interpreter.get_input_details()[0][\"index\"]\n",
    "    output_index = interpreter.get_output_details()[0][\"index\"]\n",
    "\n",
    "    # Run predictions on over y image in the test dataset\n",
    "    prediction_digits = []\n",
    "    for i, test_image in enumerate(X_test):\n",
    "        if i % 1000 == 0:\n",
    "            print(\"Evaluated on {n} results so far.\".format(n=i))\n",
    "        \n",
    "        # Pre-processing: add batch dimension and convert to float32 to match with the model's input data format\n",
    "        test_image = np.expand_dims(test_image, axis=0).astype(np.float32)\n",
    "        interpreter.set_tensor(input_index, test_image)\n",
    "\n",
    "        # Run inference\n",
    "        interpreter.invoke()\n",
    "\n",
    "        # Post-processing: remove batch dimension and find the digit with highest probability\n",
    "        output = interpreter.tensor(output_index)\n",
    "        digit = np.argmax(output()[0])\n",
    "        prediction_digits.append(digit)\n",
    "\n",
    "    print(\"\\n\")\n",
    "\n",
    "    # Compare prediction result with ground truth labels to calculate accuracy\n",
    "    prediction_digits = np.array(prediction_digits)\n",
    "    accuracy = (prediction_digits == test_labels).mean()\n",
    "    return accuracy"
   ]
  },
  {
   "cell_type": "code",
   "execution_count": null,
   "metadata": {},
   "outputs": [
    {
     "name": "stdout",
     "output_type": "stream",
     "text": [
      "Evaluated on 0 results so far.\n",
      "Evaluated on 1000 results so far.\n",
      "Evaluated on 2000 results so far.\n",
      "Evaluated on 3000 results so far.\n",
      "Evaluated on 4000 results so far.\n",
      "Evaluated on 5000 results so far.\n",
      "Evaluated on 6000 results so far.\n",
      "Evaluated on 7000 results so far.\n",
      "Evaluated on 8000 results so far.\n",
      "Evaluated on 9000 results so far.\n",
      "Evaluated on 10000 results so far.\n",
      "Evaluated on 11000 results so far.\n",
      "Evaluated on 12000 results so far.\n",
      "Evaluated on 13000 results so far.\n",
      "Evaluated on 14000 results so far.\n",
      "Evaluated on 15000 results so far.\n",
      "Evaluated on 16000 results so far.\n",
      "Evaluated on 17000 results so far.\n",
      "Evaluated on 18000 results so far.\n",
      "Evaluated on 19000 results so far.\n",
      "\n",
      "\n",
      "Evaluated on 0 results so far.\n",
      "Evaluated on 1000 results so far.\n",
      "Evaluated on 2000 results so far.\n",
      "Evaluated on 3000 results so far.\n",
      "Evaluated on 4000 results so far.\n",
      "Evaluated on 5000 results so far.\n",
      "Evaluated on 6000 results so far.\n",
      "Evaluated on 7000 results so far.\n",
      "Evaluated on 8000 results so far.\n",
      "Evaluated on 9000 results so far.\n",
      "Evaluated on 10000 results so far.\n",
      "Evaluated on 11000 results so far.\n",
      "Evaluated on 12000 results so far.\n",
      "Evaluated on 13000 results so far.\n",
      "Evaluated on 14000 results so far.\n",
      "Evaluated on 15000 results so far.\n",
      "Evaluated on 16000 results so far.\n",
      "Evaluated on 17000 results so far.\n",
      "Evaluated on 18000 results so far.\n",
      "Evaluated on 19000 results so far.\n",
      "\n",
      "\n",
      "With 16int activations TFLite test_accuracy:  0.993565127140633\n",
      "Default TFLite test_accuracy:  0.993565127140633\n"
     ]
    }
   ],
   "source": [
    "interpreter = tf.lite.Interpreter(model_content=tflite_16int_quant_model)\n",
    "interpreter.allocate_tensors()\n",
    "interpreter_default = tf.lite.Interpreter(model_content=quantized_tflite_model)\n",
    "interpreter_default.allocate_tensors()\n",
    "\n",
    "test_accuracy = evaluate_model(interpreter)\n",
    "test_accuracy_default = evaluate_model(interpreter_default)\n",
    "\n",
    "print(\"With 16int activations TFLite test_accuracy: \", test_accuracy)\n",
    "print(\"Default TFLite test_accuracy: \", test_accuracy_default)"
   ]
  },
  {
   "cell_type": "code",
   "execution_count": null,
   "metadata": {},
   "outputs": [],
   "source": [
    "with open(\"sven_quant_act16int_weights8int.tflite\", \"wb\") as f:\n",
    "    f.write(tflite_16int_quant_model)\n",
    "\n",
    "with open(\"sven_quant_full_int8.tflite\", \"wb\") as t:\n",
    "    t.write(tflite_quant_model_int8)"
   ]
  },
  {
   "cell_type": "code",
   "execution_count": null,
   "metadata": {},
   "outputs": [],
   "source": [
    "with open(\"sven_quant_int8.tflite\", \"wb\") as m:\n",
    "    m.write(quantized_tflite_model)"
   ]
  }
 ],
 "metadata": {
  "kernelspec": {
   "display_name": "Python 3.10.8 ('venv': venv)",
   "language": "python",
   "name": "python3"
  },
  "language_info": {
   "codemirror_mode": {
    "name": "ipython",
    "version": 3
   },
   "file_extension": ".py",
   "mimetype": "text/x-python",
   "name": "python",
   "nbconvert_exporter": "python",
   "pygments_lexer": "ipython3",
   "version": "3.10.9 (tags/v3.10.9:1dd9be6, Dec  6 2022, 20:01:21) [MSC v.1934 64 bit (AMD64)]"
  },
  "orig_nbformat": 4,
  "vscode": {
   "interpreter": {
    "hash": "ca1c6f47e78944e5b11f7d3b44b6206ab4f171b310471b46fba50959eb66c8df"
   }
  }
 },
 "nbformat": 4,
 "nbformat_minor": 2
}
