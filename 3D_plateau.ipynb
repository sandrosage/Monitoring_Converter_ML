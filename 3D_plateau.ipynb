{
 "cells": [
  {
   "cell_type": "code",
   "execution_count": 210,
   "metadata": {},
   "outputs": [],
   "source": [
    "import os \n",
    "import pandas as pd\n",
    "\n",
    "def create_plateau(n, df):\n",
    "    plateau_counts = []\n",
    "    max_val = float(df.max())\n",
    "    print(\"Max: \",max_val)\n",
    "    min_val = float(df.min())\n",
    "    print(\"Min: \",min_val)\n",
    "    plateau_list = []\n",
    "    plateau_size = (max_val-min_val)/n\n",
    "    print(\"Plateua Size: \",plateau_size)\n",
    "    current_plateau = min_val\n",
    "    for i in range(0,n):\n",
    "        new_plateau = current_plateau + plateau_size\n",
    "        print(str(current_plateau) + \" --- \" + str(new_plateau))\n",
    "        df_filter = int(df[(df[\"BUS\"] > current_plateau) & (df[\"BUS\"] < new_plateau)].count()[0])\n",
    "        current_plateau = new_plateau\n",
    "        print(df_filter)\n",
    "        plateau_counts.append(df_filter)\n",
    "    return plateau_counts\n",
    "\n",
    "def only_max(df, tolerance):\n",
    "    max_val = float(df.max())\n",
    "    plateau_count = df[df[\"BUS\"] > (max_val-tolerance)].count()[0]\n",
    "    return plateau_count\n",
    "\n",
    "\n",
    "def load_data(path, plateau_size=None):\n",
    "    no_dash_list = []\n",
    "    dash_list = []\n",
    "\n",
    "    for dir in os.listdir(path):\n",
    "        for subdir in os.listdir(os.path.join(path,dir)):\n",
    "            load_path = os.path.join(path, dir, subdir)\n",
    "            df = pd.read_csv(load_path)\n",
    "            df = df[[\"BUS\"]]\n",
    "            if plateau_size is None:\n",
    "                plateau_counts = only_max(df,tolerance=20)\n",
    "            else:\n",
    "                plateau_counts = create_plateau(plateau_size, df)\n",
    "            if \"no\" in subdir:\n",
    "                no_dash_list.append(plateau_counts)\n",
    "            else:\n",
    "                dash_list.append(plateau_counts)\n",
    "    NoDash = pd.DataFrame(no_dash_list)\n",
    "    NoDash[\"Dash\"] = \"no\"\n",
    "    Dash = pd.DataFrame(dash_list)\n",
    "    Dash[\"Dash\"] = \"yes\"\n",
    "    df = pd.concat((NoDash,Dash))\n",
    "    return df.sample(frac=1).reset_index(drop=True)\n",
    "    "
   ]
  },
  {
   "cell_type": "code",
   "execution_count": 211,
   "metadata": {},
   "outputs": [
    {
     "data": {
      "text/html": [
       "<div>\n",
       "<style scoped>\n",
       "    .dataframe tbody tr th:only-of-type {\n",
       "        vertical-align: middle;\n",
       "    }\n",
       "\n",
       "    .dataframe tbody tr th {\n",
       "        vertical-align: top;\n",
       "    }\n",
       "\n",
       "    .dataframe thead th {\n",
       "        text-align: right;\n",
       "    }\n",
       "</style>\n",
       "<table border=\"1\" class=\"dataframe\">\n",
       "  <thead>\n",
       "    <tr style=\"text-align: right;\">\n",
       "      <th></th>\n",
       "      <th>0</th>\n",
       "      <th>Dash</th>\n",
       "    </tr>\n",
       "  </thead>\n",
       "  <tbody>\n",
       "    <tr>\n",
       "      <th>0</th>\n",
       "      <td>341</td>\n",
       "      <td>no</td>\n",
       "    </tr>\n",
       "    <tr>\n",
       "      <th>1</th>\n",
       "      <td>586</td>\n",
       "      <td>yes</td>\n",
       "    </tr>\n",
       "    <tr>\n",
       "      <th>2</th>\n",
       "      <td>987</td>\n",
       "      <td>no</td>\n",
       "    </tr>\n",
       "    <tr>\n",
       "      <th>3</th>\n",
       "      <td>1553</td>\n",
       "      <td>yes</td>\n",
       "    </tr>\n",
       "    <tr>\n",
       "      <th>4</th>\n",
       "      <td>568</td>\n",
       "      <td>yes</td>\n",
       "    </tr>\n",
       "    <tr>\n",
       "      <th>5</th>\n",
       "      <td>1169</td>\n",
       "      <td>no</td>\n",
       "    </tr>\n",
       "  </tbody>\n",
       "</table>\n",
       "</div>"
      ],
      "text/plain": [
       "      0 Dash\n",
       "0   341   no\n",
       "1   586  yes\n",
       "2   987   no\n",
       "3  1553  yes\n",
       "4   568  yes\n",
       "5  1169   no"
      ]
     },
     "execution_count": 211,
     "metadata": {},
     "output_type": "execute_result"
    }
   ],
   "source": [
    "df = load_data(path = \"Printer3D\")\n",
    "df"
   ]
  },
  {
   "cell_type": "code",
   "execution_count": 212,
   "metadata": {},
   "outputs": [],
   "source": [
    "df.to_csv(\"3d_printer_plateau.csv\", index=False)"
   ]
  },
  {
   "cell_type": "code",
   "execution_count": 213,
   "metadata": {},
   "outputs": [
    {
     "data": {
      "text/html": [
       "<div>\n",
       "<style scoped>\n",
       "    .dataframe tbody tr th:only-of-type {\n",
       "        vertical-align: middle;\n",
       "    }\n",
       "\n",
       "    .dataframe tbody tr th {\n",
       "        vertical-align: top;\n",
       "    }\n",
       "\n",
       "    .dataframe thead th {\n",
       "        text-align: right;\n",
       "    }\n",
       "</style>\n",
       "<table border=\"1\" class=\"dataframe\">\n",
       "  <thead>\n",
       "    <tr style=\"text-align: right;\">\n",
       "      <th></th>\n",
       "      <th>0</th>\n",
       "      <th>Dash</th>\n",
       "    </tr>\n",
       "  </thead>\n",
       "  <tbody>\n",
       "    <tr>\n",
       "      <th>0</th>\n",
       "      <td>341</td>\n",
       "      <td>no</td>\n",
       "    </tr>\n",
       "    <tr>\n",
       "      <th>1</th>\n",
       "      <td>586</td>\n",
       "      <td>yes</td>\n",
       "    </tr>\n",
       "    <tr>\n",
       "      <th>2</th>\n",
       "      <td>987</td>\n",
       "      <td>no</td>\n",
       "    </tr>\n",
       "    <tr>\n",
       "      <th>3</th>\n",
       "      <td>1553</td>\n",
       "      <td>yes</td>\n",
       "    </tr>\n",
       "    <tr>\n",
       "      <th>4</th>\n",
       "      <td>568</td>\n",
       "      <td>yes</td>\n",
       "    </tr>\n",
       "    <tr>\n",
       "      <th>5</th>\n",
       "      <td>1169</td>\n",
       "      <td>no</td>\n",
       "    </tr>\n",
       "  </tbody>\n",
       "</table>\n",
       "</div>"
      ],
      "text/plain": [
       "      0 Dash\n",
       "0   341   no\n",
       "1   586  yes\n",
       "2   987   no\n",
       "3  1553  yes\n",
       "4   568  yes\n",
       "5  1169   no"
      ]
     },
     "execution_count": 213,
     "metadata": {},
     "output_type": "execute_result"
    }
   ],
   "source": [
    "df = pd.read_csv(\"3d_printer_plateau.csv\")\n",
    "df"
   ]
  },
  {
   "cell_type": "code",
   "execution_count": 220,
   "metadata": {},
   "outputs": [
    {
     "name": "stdout",
     "output_type": "stream",
     "text": [
      "[0.5 0.5 1. ]\n"
     ]
    }
   ],
   "source": [
    "from sklearn.tree import DecisionTreeClassifier \n",
    "from sklearn.model_selection import cross_val_score \n",
    "y = df[[\"Dash\"]]\n",
    "X = df.drop(\"Dash\", axis=1)\n",
    "dt = DecisionTreeClassifier()\n",
    "cv_results = cross_val_score(dt, X, y, cv=3)\n",
    "print(cv_results)"
   ]
  }
 ],
 "metadata": {
  "kernelspec": {
   "display_name": "venv",
   "language": "python",
   "name": "python3"
  },
  "language_info": {
   "codemirror_mode": {
    "name": "ipython",
    "version": 3
   },
   "file_extension": ".py",
   "mimetype": "text/x-python",
   "name": "python",
   "nbconvert_exporter": "python",
   "pygments_lexer": "ipython3",
   "version": "3.10.9"
  },
  "orig_nbformat": 4,
  "vscode": {
   "interpreter": {
    "hash": "ca1c6f47e78944e5b11f7d3b44b6206ab4f171b310471b46fba50959eb66c8df"
   }
  }
 },
 "nbformat": 4,
 "nbformat_minor": 2
}
