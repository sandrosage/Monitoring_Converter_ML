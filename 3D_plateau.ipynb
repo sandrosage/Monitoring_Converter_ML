{
 "cells": [
  {
   "cell_type": "code",
   "execution_count": 291,
   "metadata": {},
   "outputs": [],
   "source": [
    "import os \n",
    "import pandas as pd\n",
    "\n",
    "def get_min_max(path):\n",
    "    df_list = []\n",
    "    for dir in os.listdir(path):\n",
    "        for subdir in os.listdir(os.path.join(path,dir)):\n",
    "            load_path = os.path.join(path, dir, subdir)\n",
    "            df = pd.read_csv(load_path)\n",
    "            df_list.append(df)\n",
    "    df = pd.concat((df_list[0], df_list[1], df_list[2], df_list[3], df_list[4], df_list[5]))\n",
    "    return df\n",
    "    \n",
    "\n",
    "\n",
    "def create_plateau(n, df):\n",
    "    plateau_counts = []\n",
    "    # max_val = float(df.max())\n",
    "    # print(\"Max: \",max_val)\n",
    "    # min_val = float(df.min())\n",
    "    # print(\"Min: \",min_val)\n",
    "    max_val = 1157.6\n",
    "    min_val = 43.2\n",
    "    plateau_list = []\n",
    "    plateau_size = (max_val-min_val)/n\n",
    "    print(\"Plateua Size: \",plateau_size)\n",
    "    current_plateau = min_val\n",
    "    for i in range(0,n):\n",
    "        new_plateau = current_plateau + plateau_size\n",
    "        print(str(current_plateau) + \" --- \" + str(new_plateau))\n",
    "        df_filter = int(df[(df[\"BUS\"] > current_plateau) & (df[\"BUS\"] <= new_plateau)].count()[0])\n",
    "        current_plateau = new_plateau\n",
    "        print(df_filter)\n",
    "        plateau_counts.append(df_filter)\n",
    "    return plateau_counts\n",
    "\n",
    "def only_max(df, tolerance):\n",
    "    max_val = float(df.max())\n",
    "    plateau_count = df[df[\"BUS\"] >= (1157.6-tolerance)].count()[0]\n",
    "    return plateau_count\n",
    "\n",
    "\n",
    "def load_data(path, plateau_size=None):\n",
    "    no_dash_list = []\n",
    "    dash_list = []\n",
    "\n",
    "    for dir in os.listdir(path):\n",
    "        for subdir in os.listdir(os.path.join(path,dir)):\n",
    "            load_path = os.path.join(path, dir, subdir)\n",
    "            df = pd.read_csv(load_path)\n",
    "            df = df[[\"BUS\"]]\n",
    "            if plateau_size is None:\n",
    "                plateau_counts = only_max(df,tolerance=10)\n",
    "            else:\n",
    "                plateau_counts = create_plateau(plateau_size, df)\n",
    "            if \"no\" in subdir:\n",
    "                no_dash_list.append(plateau_counts)\n",
    "            else:\n",
    "                dash_list.append(plateau_counts)\n",
    "    NoDash = pd.DataFrame(no_dash_list)\n",
    "    NoDash[\"Dash\"] = \"no\"\n",
    "    Dash = pd.DataFrame(dash_list)\n",
    "    Dash[\"Dash\"] = \"yes\"\n",
    "    df = pd.concat((NoDash,Dash))\n",
    "    return df.sample(frac=1).reset_index(drop=True)\n",
    "    "
   ]
  },
  {
   "cell_type": "code",
   "execution_count": 292,
   "metadata": {},
   "outputs": [
    {
     "name": "stdout",
     "output_type": "stream",
     "text": [
      "1157.6\n",
      "43.2\n"
     ]
    }
   ],
   "source": [
    "df = get_min_max(\"Printer3D\")\n",
    "df.dropna(inplace=True)\n",
    "print(df.BUS.max())\n",
    "print(df.BUS.min())"
   ]
  },
  {
   "cell_type": "code",
   "execution_count": 293,
   "metadata": {},
   "outputs": [
    {
     "data": {
      "text/html": [
       "<div>\n",
       "<style scoped>\n",
       "    .dataframe tbody tr th:only-of-type {\n",
       "        vertical-align: middle;\n",
       "    }\n",
       "\n",
       "    .dataframe tbody tr th {\n",
       "        vertical-align: top;\n",
       "    }\n",
       "\n",
       "    .dataframe thead th {\n",
       "        text-align: right;\n",
       "    }\n",
       "</style>\n",
       "<table border=\"1\" class=\"dataframe\">\n",
       "  <thead>\n",
       "    <tr style=\"text-align: right;\">\n",
       "      <th></th>\n",
       "      <th>0</th>\n",
       "      <th>Dash</th>\n",
       "    </tr>\n",
       "  </thead>\n",
       "  <tbody>\n",
       "    <tr>\n",
       "      <th>0</th>\n",
       "      <td>4</td>\n",
       "      <td>no</td>\n",
       "    </tr>\n",
       "    <tr>\n",
       "      <th>1</th>\n",
       "      <td>28</td>\n",
       "      <td>no</td>\n",
       "    </tr>\n",
       "    <tr>\n",
       "      <th>2</th>\n",
       "      <td>0</td>\n",
       "      <td>yes</td>\n",
       "    </tr>\n",
       "    <tr>\n",
       "      <th>3</th>\n",
       "      <td>2</td>\n",
       "      <td>yes</td>\n",
       "    </tr>\n",
       "    <tr>\n",
       "      <th>4</th>\n",
       "      <td>2</td>\n",
       "      <td>yes</td>\n",
       "    </tr>\n",
       "    <tr>\n",
       "      <th>5</th>\n",
       "      <td>1</td>\n",
       "      <td>no</td>\n",
       "    </tr>\n",
       "  </tbody>\n",
       "</table>\n",
       "</div>"
      ],
      "text/plain": [
       "    0 Dash\n",
       "0   4   no\n",
       "1  28   no\n",
       "2   0  yes\n",
       "3   2  yes\n",
       "4   2  yes\n",
       "5   1   no"
      ]
     },
     "execution_count": 293,
     "metadata": {},
     "output_type": "execute_result"
    }
   ],
   "source": [
    "# if platue_size is not assigned like: load_data(path = \"Printer3D\")\n",
    "# then there are no plateaus. Instead there is a tolerance of the maximum value of the current\n",
    "# and everything above this tolerance is counted \n",
    "# Example: max value of current: 1000mA\n",
    "# Tolerance: 100mA\n",
    "# Result: Every current above 900mA is counted\n",
    "\n",
    "# df = load_data(path = \"Printer3D\")\n",
    "\n",
    "# with plateaus: assign desired number of plateaus\n",
    "df = load_data(path = \"Printer3D\")\n",
    "df"
   ]
  },
  {
   "cell_type": "code",
   "execution_count": 287,
   "metadata": {},
   "outputs": [],
   "source": [
    "# store dataset for train/test model\n",
    "df.to_csv(\"3d_printer_plateau.csv\", index=False)"
   ]
  },
  {
   "cell_type": "code",
   "execution_count": 289,
   "metadata": {},
   "outputs": [
    {
     "name": "stdout",
     "output_type": "stream",
     "text": [
      "[0.5 1.  0.5]\n"
     ]
    }
   ],
   "source": [
    "from sklearn.tree import DecisionTreeClassifier \n",
    "from sklearn.model_selection import cross_val_score \n",
    "y = df[[\"Dash\"]]\n",
    "X = df.drop(\"Dash\", axis=1)\n",
    "dt = DecisionTreeClassifier()\n",
    "# don't want to extract testset, instead using Cross Validation\n",
    "cv_results = cross_val_score(dt, X, y, cv=3)\n",
    "print(cv_results)"
   ]
  },
  {
   "attachments": {},
   "cell_type": "markdown",
   "metadata": {},
   "source": [
    "Clean data_dash0 because of late start"
   ]
  },
  {
   "cell_type": "code",
   "execution_count": 256,
   "metadata": {},
   "outputs": [
    {
     "name": "stdout",
     "output_type": "stream",
     "text": [
      "191235\n"
     ]
    },
    {
     "data": {
      "text/html": [
       "<div>\n",
       "<style scoped>\n",
       "    .dataframe tbody tr th:only-of-type {\n",
       "        vertical-align: middle;\n",
       "    }\n",
       "\n",
       "    .dataframe tbody tr th {\n",
       "        vertical-align: top;\n",
       "    }\n",
       "\n",
       "    .dataframe thead th {\n",
       "        text-align: right;\n",
       "    }\n",
       "</style>\n",
       "<table border=\"1\" class=\"dataframe\">\n",
       "  <thead>\n",
       "    <tr style=\"text-align: right;\">\n",
       "      <th></th>\n",
       "      <th>Time</th>\n",
       "      <th>MCU</th>\n",
       "      <th>BUS</th>\n",
       "    </tr>\n",
       "  </thead>\n",
       "  <tbody>\n",
       "    <tr>\n",
       "      <th>40000</th>\n",
       "      <td>120324.0</td>\n",
       "      <td>5.5</td>\n",
       "      <td>1022.9</td>\n",
       "    </tr>\n",
       "    <tr>\n",
       "      <th>40001</th>\n",
       "      <td>120327.0</td>\n",
       "      <td>5.5</td>\n",
       "      <td>1029.9</td>\n",
       "    </tr>\n",
       "    <tr>\n",
       "      <th>40002</th>\n",
       "      <td>120330.0</td>\n",
       "      <td>5.6</td>\n",
       "      <td>1032.6</td>\n",
       "    </tr>\n",
       "    <tr>\n",
       "      <th>40003</th>\n",
       "      <td>120333.0</td>\n",
       "      <td>6.0</td>\n",
       "      <td>1033.1</td>\n",
       "    </tr>\n",
       "    <tr>\n",
       "      <th>40004</th>\n",
       "      <td>120336.0</td>\n",
       "      <td>5.2</td>\n",
       "      <td>1028.5</td>\n",
       "    </tr>\n",
       "    <tr>\n",
       "      <th>...</th>\n",
       "      <td>...</td>\n",
       "      <td>...</td>\n",
       "      <td>...</td>\n",
       "    </tr>\n",
       "    <tr>\n",
       "      <th>233155</th>\n",
       "      <td>695864.0</td>\n",
       "      <td>5.8</td>\n",
       "      <td>115.4</td>\n",
       "    </tr>\n",
       "    <tr>\n",
       "      <th>233156</th>\n",
       "      <td>695867.0</td>\n",
       "      <td>5.8</td>\n",
       "      <td>117.0</td>\n",
       "    </tr>\n",
       "    <tr>\n",
       "      <th>233157</th>\n",
       "      <td>695870.0</td>\n",
       "      <td>6.3</td>\n",
       "      <td>115.8</td>\n",
       "    </tr>\n",
       "    <tr>\n",
       "      <th>233158</th>\n",
       "      <td>695873.0</td>\n",
       "      <td>5.8</td>\n",
       "      <td>116.2</td>\n",
       "    </tr>\n",
       "    <tr>\n",
       "      <th>233159</th>\n",
       "      <td>NaN</td>\n",
       "      <td>NaN</td>\n",
       "      <td>NaN</td>\n",
       "    </tr>\n",
       "  </tbody>\n",
       "</table>\n",
       "<p>193160 rows × 3 columns</p>\n",
       "</div>"
      ],
      "text/plain": [
       "            Time  MCU     BUS\n",
       "40000   120324.0  5.5  1022.9\n",
       "40001   120327.0  5.5  1029.9\n",
       "40002   120330.0  5.6  1032.6\n",
       "40003   120333.0  6.0  1033.1\n",
       "40004   120336.0  5.2  1028.5\n",
       "...          ...  ...     ...\n",
       "233155  695864.0  5.8   115.4\n",
       "233156  695867.0  5.8   117.0\n",
       "233157  695870.0  6.3   115.8\n",
       "233158  695873.0  5.8   116.2\n",
       "233159       NaN  NaN     NaN\n",
       "\n",
       "[193160 rows x 3 columns]"
      ]
     },
     "execution_count": 256,
     "metadata": {},
     "output_type": "execute_result"
    }
   ],
   "source": [
    "df_1 = pd.read_csv(\"Printer3D/Dash/data_dash1.csv\")\n",
    "# compare size with another dataset\n",
    "print(df_1.shape[0])\n",
    "df = pd.read_csv(\"data_dash0.csv\")\n",
    "# delete the starting procedure\n",
    "df = df.loc[40000:]\n",
    "# store it without index\n",
    "df.to_csv(\"Printer3D/Dash/data_dash0_gereinigt.csv\", index=False)\n",
    "# validate size of new datas\n",
    "df\n"
   ]
  }
 ],
 "metadata": {
  "kernelspec": {
   "display_name": "venv",
   "language": "python",
   "name": "python3"
  },
  "language_info": {
   "codemirror_mode": {
    "name": "ipython",
    "version": 3
   },
   "file_extension": ".py",
   "mimetype": "text/x-python",
   "name": "python",
   "nbconvert_exporter": "python",
   "pygments_lexer": "ipython3",
   "version": "3.10.9"
  },
  "orig_nbformat": 4,
  "vscode": {
   "interpreter": {
    "hash": "ca1c6f47e78944e5b11f7d3b44b6206ab4f171b310471b46fba50959eb66c8df"
   }
  }
 },
 "nbformat": 4,
 "nbformat_minor": 2
}
