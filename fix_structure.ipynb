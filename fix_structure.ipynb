{
 "cells": [
  {
   "cell_type": "code",
   "execution_count": 30,
   "metadata": {},
   "outputs": [
    {
     "name": "stderr",
     "output_type": "stream",
     "text": [
      "C:\\Users\\sandr\\AppData\\Local\\Temp\\ipykernel_9280\\4232068484.py:2: DtypeWarning: Columns (0,1,2,3,4) have mixed types. Specify dtype option on import or set low_memory=False.\n",
      "  df = pd.read_csv('STAT_NORMAL_5A.txt', names=['vIn', 'vOut', 'currentIn', 'onBoardTemp', 'roomTemp'])\n"
     ]
    }
   ],
   "source": [
    "import pandas as pd\n",
    "df = pd.read_csv('STAT_NORMAL_5A.txt', names=['vIn', 'vOut', 'currentIn', 'onBoardTemp', 'roomTemp'])\n",
    "df = df[[\"vIn\", \"currentIn\", \"vOut\", \"onBoardTemp\", \"roomTemp\"]]\n",
    "df.head()\n",
    "df.to_csv(\"Static_Data//normal//STAT_NORMAL_5A.txt\", index=None)\n"
   ]
  },
  {
   "cell_type": "code",
   "execution_count": 33,
   "metadata": {},
   "outputs": [
    {
     "name": "stdout",
     "output_type": "stream",
     "text": [
      "Audio_Recordings\\Neelix\\DROSSEL_NEELIX_V1_115200.txt\n",
      "File closed\n",
      "File written\n",
      "Audio_Recordings\\Neelix\\DROSSEL_NEELIX_V2_115200.txt\n",
      "File closed\n",
      "File written\n",
      "Audio_Recordings\\Neelix\\MOSFETS_NEELIX_V1_115200.txt\n",
      "File closed\n",
      "File written\n",
      "Audio_Recordings\\Neelix\\MOSFETS_NEELIX_V2_115200.txt\n",
      "File closed\n",
      "File written\n",
      "Audio_Recordings\\Neelix\\NORMAL_NEELIX_V1_115200.txt\n",
      "File closed\n",
      "File written\n",
      "Audio_Recordings\\Neelix\\NORMAL_NEELIX_V2_115200.txt\n",
      "File closed\n",
      "File written\n",
      "Audio_Recordings\\NG\\DROSSEL_NG_V1_115200.txt\n",
      "File closed\n",
      "File written\n",
      "Audio_Recordings\\NG\\DROSSEL_NG_V2_115200.txt\n",
      "File closed\n",
      "File written\n",
      "Audio_Recordings\\NG\\MOSFETS_NG_V1_115200.txt\n",
      "File closed\n",
      "File written\n",
      "Audio_Recordings\\NG\\MOSFETS_NG_V2_115200.txt\n",
      "File closed\n",
      "File written\n",
      "Audio_Recordings\\NG\\NORMAL_NG_V1_115200.txt\n",
      "File closed\n",
      "File written\n",
      "Audio_Recordings\\NG\\NORMAL_NG_V2_115200.txt\n",
      "File closed\n",
      "File written\n",
      "Audio_Recordings\\Pieces\\DROSSEL_PIECES_V1_115200.txt\n",
      "File closed\n",
      "File written\n",
      "Audio_Recordings\\Pieces\\DROSSEL_PIECES_V2_115200.txt\n",
      "File closed\n",
      "File written\n",
      "Audio_Recordings\\Pieces\\MOSFETS_PIECES_V1_115200.txt\n",
      "File closed\n",
      "File written\n",
      "Audio_Recordings\\Pieces\\MOSFETS_PIECES_V2_115200.txt\n",
      "File closed\n",
      "File written\n",
      "Audio_Recordings\\Pieces\\NORMAL_PIECES_V1_115200.txt\n",
      "File closed\n",
      "File written\n",
      "Audio_Recordings\\Pieces\\NORMAL_PIECES_V2_115200.txt\n",
      "File closed\n",
      "File written\n"
     ]
    }
   ],
   "source": [
    "import os\n",
    "from Preprocessing.data_preprocessing import Preprocessing\n",
    "subfolder = [\"Neelix\\\\\", \"NG\\\\\", \"Pieces\\\\\"]  #subfolders within the source folder: necessary for iteratively get the data textfiles\n",
    "source_folder = \"Audio_Recordings\\\\\"   #source folder where all the data textfiles and recordings are\n",
    "\n",
    "destination_folder = \"Preprocessed_Audio\"   #folder where you want to store the processed data files\n",
    "\n",
    "for folder in subfolder:\n",
    "    Preprocessing.clean_textfile(source_folder=source_folder, folder=folder) \n",
    "    for idx, filename in enumerate(os.listdir(source_folder+folder)):\n",
    "        compl_name = source_folder + folder + filename\n",
    "        df = pd.read_csv(compl_name, names=['vIn', 'vOut', 'currentIn', 'onBoardTemp', 'roomTemp'])\n",
    "        df = df[[\"vIn\", \"currentIn\", \"vOut\", \"onBoardTemp\", \"roomTemp\"]]\n",
    "        df.to_csv(\"Audio_Recordings2//\" + folder + \"//\" + filename, index=None)\n",
    "\n",
    "\n"
   ]
  }
 ],
 "metadata": {
  "kernelspec": {
   "display_name": "Python 3.10.5 ('venv': venv)",
   "language": "python",
   "name": "python3"
  },
  "language_info": {
   "codemirror_mode": {
    "name": "ipython",
    "version": 3
   },
   "file_extension": ".py",
   "mimetype": "text/x-python",
   "name": "python",
   "nbconvert_exporter": "python",
   "pygments_lexer": "ipython3",
   "version": "3.10.5"
  },
  "orig_nbformat": 4,
  "vscode": {
   "interpreter": {
    "hash": "ca1c6f47e78944e5b11f7d3b44b6206ab4f171b310471b46fba50959eb66c8df"
   }
  }
 },
 "nbformat": 4,
 "nbformat_minor": 2
}
