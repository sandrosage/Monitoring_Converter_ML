{
 "cells": [
  {
   "cell_type": "code",
   "execution_count": null,
   "metadata": {},
   "outputs": [],
   "source": [
    "import numpy as np\n",
    "import pandas as pd\n",
    "import seaborn as sns\n",
    "import matplotlib.pyplot as plt\n",
    "import os\n",
    "import re\n",
    "\n",
    "pd.set_option('mode.chained_assignment', None)"
   ]
  },
  {
   "cell_type": "code",
   "execution_count": 4,
   "metadata": {},
   "outputs": [
    {
     "name": "stdout",
     "output_type": "stream",
     "text": [
      "neelix_v1_drossel.csv\n",
      "neelix_v1_mosfets.csv\n",
      "neelix_v1_normal.csv\n",
      "neelix_v2_drossel.csv\n",
      "neelix_v2_mosfets.csv\n",
      "neelix_v2_normal.csv\n",
      "ng_v1_drossel.csv\n",
      "ng_v1_mosfets.csv\n",
      "ng_v1_normal.csv\n",
      "ng_v2_drossel.csv\n",
      "ng_v2_mosfets.csv\n",
      "ng_v2_normal.csv\n",
      "pieces_v1_drossel.csv\n",
      "pieces_v1_mosfets.csv\n",
      "pieces_v1_normal.csv\n",
      "pieces_v2_drossel.csv\n",
      "pieces_v2_mosfets.csv\n",
      "pieces_v2_normal.csv\n"
     ]
    }
   ],
   "source": [
    "import pandas as pd\n",
    "import re\n",
    "from Preprocessing.data_preprocessing import Dataframe_processing\n",
    "\n",
    "pd.set_option('mode.chained_assignment', None)\n",
    "\n",
    "path = \"Preprocessed_Audio_Recordings\"\n",
    "converters = [\"mosfets\", \"normal\", \"drossel\"]\n",
    "song_titles = [\"ng\", \"neelix\", \"pieces\"]\n",
    "merged_subset_df = pd.DataFrame()\n",
    "for element in os.listdir(path):\n",
    "    for file in os.listdir(path + \"\\\\\" + element + \"\\\\\"):\n",
    "        path_to_file = path + \"\\\\\" + element + \"\\\\\" + file\n",
    "        for pattern in converters:\n",
    "            erg = re.findall(pattern, file)\n",
    "            if(len(erg)):\n",
    "                zw_erg = erg[0]\n",
    "\n",
    "        for title in song_titles:\n",
    "            title_erg = re.findall(title, file)\n",
    "            if(len(title_erg)):\n",
    "                title_zw_erg = title_erg[0]\n",
    "\n",
    "        df = pd.read_csv(path_to_file)\n",
    "        merged_subset_df = pd.concat([merged_subset_df, Dataframe_processing.make_subsets(df,5000, zw_erg, 100, title_zw_erg)], ignore_index=True)\n",
    "\n",
    "merged_subset_df.to_csv(\"audio_merged_data.csv\", index = None)\n"
   ]
  }
 ],
 "metadata": {
  "kernelspec": {
   "display_name": "Python 3.10.5 ('venv': venv)",
   "language": "python",
   "name": "python3"
  },
  "language_info": {
   "codemirror_mode": {
    "name": "ipython",
    "version": 3
   },
   "file_extension": ".py",
   "mimetype": "text/x-python",
   "name": "python",
   "nbconvert_exporter": "python",
   "pygments_lexer": "ipython3",
   "version": "3.10.5"
  },
  "orig_nbformat": 4,
  "vscode": {
   "interpreter": {
    "hash": "ca1c6f47e78944e5b11f7d3b44b6206ab4f171b310471b46fba50959eb66c8df"
   }
  }
 },
 "nbformat": 4,
 "nbformat_minor": 2
}
