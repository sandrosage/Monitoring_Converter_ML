{
 "cells": [
  {
   "cell_type": "code",
   "execution_count": 12,
   "metadata": {},
   "outputs": [
    {
     "name": "stdout",
     "output_type": "stream",
     "text": [
      "1149.2\n",
      "Time    79\n",
      "MCU     79\n",
      "BUS     79\n",
      "dtype: int64\n",
      "1157.6\n",
      "Time    28\n",
      "MCU     28\n",
      "BUS     28\n",
      "dtype: int64\n",
      "1149.5\n",
      "Time    106\n",
      "MCU     106\n",
      "BUS     106\n",
      "dtype: int64\n",
      "1150.5\n",
      "Time    30\n",
      "MCU     30\n",
      "BUS     30\n",
      "dtype: int64\n",
      "1144.0\n",
      "Time    191\n",
      "MCU     191\n",
      "BUS     191\n",
      "dtype: int64\n",
      "1151.4\n",
      "Time    37\n",
      "MCU     37\n",
      "BUS     37\n",
      "dtype: int64\n"
     ]
    }
   ],
   "source": [
    "import pandas as pd\n",
    "import os\n",
    "\n",
    "path = \"Printer3D/noDash\"\n",
    "for dir in os.listdir(path):\n",
    "    load_path = os.path.join(path,dir)\n",
    "    df = pd.read_csv(load_path)\n",
    "    print(df.BUS.max())\n",
    "    filter = df[df.BUS >= (df.BUS.max()-10)].count()\n",
    "    print(filter)\n",
    "\n",
    "path = \"Printer3D/Dash\"\n",
    "for dir in os.listdir(path):\n",
    "    load_path = os.path.join(path,dir)\n",
    "    df = pd.read_csv(load_path)\n",
    "    print(df.BUS.max())\n",
    "    filter = df[df.BUS >= (df.BUS.max()-10)].count()\n",
    "    print(filter)"
   ]
  }
 ],
 "metadata": {
  "kernelspec": {
   "display_name": "venv",
   "language": "python",
   "name": "python3"
  },
  "language_info": {
   "codemirror_mode": {
    "name": "ipython",
    "version": 3
   },
   "file_extension": ".py",
   "mimetype": "text/x-python",
   "name": "python",
   "nbconvert_exporter": "python",
   "pygments_lexer": "ipython3",
   "version": "3.10.9"
  },
  "orig_nbformat": 4,
  "vscode": {
   "interpreter": {
    "hash": "ca1c6f47e78944e5b11f7d3b44b6206ab4f171b310471b46fba50959eb66c8df"
   }
  }
 },
 "nbformat": 4,
 "nbformat_minor": 2
}
